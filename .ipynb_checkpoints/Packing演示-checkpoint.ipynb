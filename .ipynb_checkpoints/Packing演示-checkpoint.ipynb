{
 "cells": [
  {
   "cell_type": "markdown",
   "metadata": {},
   "source": [
    "## 一维packing演示"
   ]
  },
  {
   "cell_type": "markdown",
   "metadata": {},
   "source": [
    "### First Fit"
   ]
  },
  {
   "cell_type": "code",
   "execution_count": 1,
   "metadata": {},
   "outputs": [],
   "source": [
    "import numpy as np\n",
    "import math\n",
    "from matplotlib import pyplot as plt\n",
    "from matplotlib import patches\n",
    "%matplotlib inline"
   ]
  },
  {
   "cell_type": "code",
   "execution_count": 3,
   "metadata": {},
   "outputs": [],
   "source": [
    "items = np.concatenate((np.random.rand(20)*2/3, np.random.rand(10)))\n",
    "np.random.shuffle(items)"
   ]
  },
  {
   "cell_type": "code",
   "execution_count": 4,
   "metadata": {},
   "outputs": [
    {
     "name": "stdout",
     "output_type": "stream",
     "text": [
      "[[0.35436770042463867, 0.5064145805637627, 0.014101534085255421, 0.11377462896255926], [0.7624738846746081, 0.10441225791006592, 0.10301009030820074], [0.3315680413144955, 0.2484636742220793, 0.2697388553749936, 0.13620059748220972], [0.665064934860928, 0.2026881029546493, 0.054867037830625666, 0.059122640575972385], [0.4972836547582857, 0.38073916843956535], [0.9332857271326096], [0.30858585664647076, 0.6131472137979493], [0.7754148997860331, 0.18671713959856642], [0.5921325860080313, 0.3380870508488908], [0.6960760364218689, 0.1717004826325618], [0.31819892313868653, 0.41515163874679356], [0.45726036855622443, 0.5196803588883075]]\n"
     ]
    }
   ],
   "source": [
    "def FF(items):\n",
    "    bins = []\n",
    "    for i in items:\n",
    "        ok = False\n",
    "        for b in range(len(bins)):\n",
    "            if(i + sum(bins[b]) <= 1):\n",
    "                bins[b].append(i)\n",
    "                ok = True\n",
    "                break;\n",
    "        if ok == False:\n",
    "            bins.append([i])\n",
    "    print(bins)\n",
    "    return bins\n",
    "res = FF(items)"
   ]
  },
  {
   "cell_type": "code",
   "execution_count": 11,
   "metadata": {},
   "outputs": [],
   "source": [
    "# \n",
    "epsilon = 0.02\n",
    "na = np.array([1/2-epsilon, 3*epsilon])\n",
    "nat = [r'$\\frac{1}{2}-\\epsilon$', r'$3\\epsilon$']\n",
    "\n",
    "ne = np.array([1/2-epsilon])\n",
    "ne = ne.repeat(2)\n",
    "\n",
    "net = [r'$\\frac{1}{2}-\\epsilon$']*2\n",
    "\n",
    "nl = np.array([1/2+epsilon])\n",
    "\n",
    "nlt = [r'$\\frac{1}{2}+\\epsilon$']\n",
    "\n",
    "# a.text(0.2, -0.05, \"active:2k\")\n",
    "# a.text(0.2+1.5, -0.05, r\"extra:k\")\n",
    "# a.text(0.2+3, -0.05, r\"L:$4k$\")\n",
    "# plt.savefig(r\"D:\\Reaserch\\packing\\毕业设计\\毕业论文_李思哲_一维装箱问题近似算法研究\\images\\2_class.png\")"
   ]
  },
  {
   "cell_type": "code",
   "execution_count": 95,
   "metadata": {},
   "outputs": [],
   "source": [
    "# \n",
    "epsilon = 0.005\n",
    "na = np.array([1/6-2*epsilon])\n",
    "na = na.repeat(5)\n",
    "na = np.append(na, [11*epsilon])\n",
    "\n",
    "nat = [r'$\\frac{1}{6}-2\\epsilon$']*5\n",
    "nat.append(r'$11\\epsilon$')\n",
    "\n",
    "ne = np.array([1/6-2*epsilon])\n",
    "ne = ne.repeat(6)\n",
    "\n",
    "net = [r'$\\frac{1}{6}-2\\epsilon$']*5\n",
    "\n",
    "nl = np.array([1/3+epsilon])\n",
    "nl = nl.repeat(2)\n",
    "\n",
    "nlt = [r'$\\frac{1}{3}+\\epsilon$']*2\n",
    "\n",
    "nm = np.array([1/2+epsilon])\n",
    "nmt = [r'$\\frac{1}{2}+\\epsilon$']\n",
    "\n",
    "# a.text(0.2, -0.05, \"active:k\")\n",
    "# a.text(0.2+1.5, -0.05, r\"extra:$\\frac{k}{6}$\")\n",
    "# a.text(0.2+3, -0.05, r\"M:$3k$\")\n",
    "# a.text(0.2+4.5, -0.05, r\"L:$6k$\")\n",
    "# plt.savefig(r\"D:\\Reaserch\\packing\\毕业设计\\毕业论文_李思哲_一维装箱问题近似算法研究\\images\\3_class_failed.png\")"
   ]
  },
  {
   "cell_type": "code",
   "execution_count": 17,
   "metadata": {},
   "outputs": [],
   "source": [
    "# \n",
    "epsilon = 0.005\n",
    "na1 = np.array([1/6-2*epsilon])\n",
    "na1 = na1.repeat(4)\n",
    "na1 = np.append(na1, [9*epsilon])\n",
    "\n",
    "na2 = np.array([1/6-2*epsilon])\n",
    "na2 = na2.repeat(5)\n",
    "na2 = np.append(na2, 10*epsilon)\n",
    "\n",
    "na3 = np.array([1/6-2*epsilon])\n",
    "na3 = na3.repeat(5)\n",
    "na3 = np.append(na3, 11*epsilon)\n",
    "\n",
    "na1t = [r'$\\frac{1}{6}-2\\epsilon$']*4\n",
    "na1t.append(r'$9\\epsilon$')\n",
    "\n",
    "na2t = [r'$\\frac{1}{6}-2\\epsilon$']*5\n",
    "na2t.append(r'$10\\epsilon$')\n",
    "\n",
    "na3t = [r'$\\frac{1}{6}-2\\epsilon$']*5\n",
    "na3t.append(r'$11\\epsilon$')\n",
    "\n",
    "ne = np.array([1/3-epsilon,1/6+2*epsilon,1/6-epsilon/2])\n",
    "\n",
    "net = [r'$\\frac{1}{3}-\\epsilon_1^i$', r'$\\frac{1}{6}-\\epsilon_2^i$', r'$\\frac{1}{6}-\\epsilon_3^i$']\n",
    "\n",
    "nm1 = np.array([1/3+epsilon, 1/3+epsilon])\n",
    "nm1t = [r'$\\frac{1}{3}+\\epsilon$',r'$\\frac{1}{3}+\\epsilon$']\n",
    "\n",
    "nm2 = np.array([1/3+epsilon/2, 1/3+epsilon/2])\n",
    "nm2t = [r'$\\frac{1}{3}+\\frac{\\epsilon_3^i}{2}$',r'$\\frac{1}{3}+\\frac{\\epsilon_3^{i+1}}{2}$']\n",
    "\n",
    "nl1 = np.array([1/2+epsilon])\n",
    "nl1t = [r'$\\frac{1}{2}+\\epsilon$']\n",
    "\n",
    "nl2 = np.array([1/2+epsilon/2])\n",
    "nl2t = [r'$\\frac{1}{2}+\\frac{\\epsilon_3^i}{2}$']\n",
    "\n",
    "nl3 = np.array([1/2+epsilon/3])\n",
    "nl3t = [r'$\\frac{1}{2}+\\epsilon_1^i - \\epsilon_2^{i+1}$']\n",
    "\n",
    "nl4 = np.array([1/2-epsilon/3])\n",
    "nl4t = [r'$\\frac{1}{2}-\\epsilon_1^2 + \\epsilon_1^k$']\n",
    "\n",
    "\n",
    "# a.text(0.2, -0.05, \"active1:k\")\n",
    "# a.text(0.2+1.5, -0.05, r\"active2:k\")\n",
    "# a.text(0.2+3, -0.05, r\"active3:k\")\n",
    "# a.text(0.2+4.5, -0.05, r\"extra:$k$\")\n",
    "# a.text(0.2+6, -0.05, r\"M1:$7k$\")\n",
    "# a.text(0.2+7.5, -0.05, r\"M2:$\\frac{k}{2}$\")\n",
    "# a.text(0.2+9, -0.05, r\"L1:$14k$\")\n",
    "# a.text(0.2+10.5, -0.05, r\"L2:$k$\")\n",
    "# a.text(0.2+12, -0.05, r\"L3:$k-1$\")\n",
    "# a.text(0.2+13.5, -0.05, r\"last one\")\n",
    "# plt.savefig(r\"D:\\Reaserch\\packing\\毕业设计\\毕业论文_李思哲_一维装箱问题近似算法研究\\images\\3_class_succeed.png\")"
   ]
  },
  {
   "cell_type": "code",
   "execution_count": 29,
   "metadata": {},
   "outputs": [
    {
     "data": {
      "image/png": "[encoded data removed]",
      "text/plain": [
       "<Figure size 1152x432 with 1 Axes>"
      ]
     },
     "metadata": {
      "needs_background": "light"
     },
     "output_type": "display_data"
    }
   ],
   "source": [
    "F = plt.figure(figsize=(16,6))\n",
    "a = plt.subplot()\n",
    "F.frameon = False\n",
    "a.frameon = False\n",
    "\n",
    "x = 0\n",
    "for bins in zip([na1,na2,na3,ne,nm1,nm2,nl1,nl2,nl3,nl4],[na1t,na2t,na3t,net,nm1t,nm2t,nl1t,nl2t,nl3t,nl4t]):\n",
    "    y = 0\n",
    "    for it in zip(*bins):\n",
    "        val,text = it\n",
    "        if val > 0.5:\n",
    "            color = '#EB984E'\n",
    "        elif val > 1/3:\n",
    "            color = '#82E0AA'\n",
    "        else:\n",
    "            color = '#5DADE2'\n",
    "        p = patches.Rectangle((x,y), 1,val-0.01, facecolor=color, edgecolor='k')\n",
    "        rx, ry = (x,y)\n",
    "        cx = rx + p.get_width()/2.0\n",
    "        cy = ry + p.get_height()/2.0\n",
    "\n",
    "        a.annotate(text , (cx, cy), color='k', \n",
    "                    fontsize=12, ha='center', va='center')\n",
    "        a.add_patch(p)\n",
    "        y += val\n",
    "    x+=1.5\n",
    "\n",
    "# plt.xticks([])\n",
    "# plt.yticks([])\n",
    "plt.box(on=None)\n",
    "# plt.axis('off')\n",
    "plt.xlim(0, 20)\n",
    "plt.ylim(-0.01, 1.01)\n",
    "plt.xticks([])\n",
    "plt.yticks([0, 1])\n",
    "\n",
    "a.plot(x,y)\n",
    "\n"
   ]
  },
  {
   "cell_type": "code",
   "execution_count": null,
   "metadata": {},
   "outputs": [],
   "source": []
  },
  {
   "cell_type": "code",
   "execution_count": 8,
   "metadata": {},
   "outputs": [
    {
     "data": {
      "text/plain": [
       "(0.0, 1.0)"
      ]
     },
     "execution_count": 8,
     "metadata": {},
     "output_type": "execute_result"
    },
    {
     "data": {
      "image/png": "[encoded data removed]",
      "text/plain": [
       "<Figure size 432x288 with 1 Axes>"
      ]
     },
     "metadata": {
      "needs_background": "light"
     },
     "output_type": "display_data"
    }
   ],
   "source": []
  },
  {
   "cell_type": "markdown",
   "metadata": {},
   "source": [
    "## 三分类的一维装箱问题线性时间在线算法演示"
   ]
  },
  {
   "cell_type": "code",
   "execution_count": null,
   "metadata": {},
   "outputs": [],
   "source": [
    "def add_patchs(sp, data):\n",
    "    x = 0\n",
    "    y = 0\n",
    "    for bins in data:\n",
    "        y = 0\n",
    "        for it in bins:\n",
    "            if 2/3 <= it:\n",
    "                color = 'r'\n",
    "            elif 1/3 <= it:\n",
    "                color = 'g'\n",
    "            else:\n",
    "                color = 'b'\n",
    "            sp.add_patch(patches.Rectangle((x,y), 1,it-0.01, color=color))\n",
    "            y += it\n",
    "        x+=2\n",
    "    close_sp.plot(x,y)"
   ]
  },
  {
   "cell_type": "code",
   "execution_count": null,
   "metadata": {},
   "outputs": [],
   "source": [
    "%matplotlib qt\n",
    "plt.ioff()"
   ]
  },
  {
   "cell_type": "code",
   "execution_count": null,
   "metadata": {},
   "outputs": [],
   "source": [
    "F = plt.figure(figsize=(16,8))\n",
    "from matplotlib import gridspec\n",
    "gs  = gridspec.GridSpec(1, 2, width_ratios=[3, 1])\n",
    "close_sp = plt.subplot(gs[0])\n",
    "extra_sp = plt.subplot(gs[1])\n",
    "\n",
    "\n",
    "def A2(items):\n",
    "    closed = []\n",
    "    active = []\n",
    "    extras = []\n",
    "    extra = []\n",
    "    L1 = []\n",
    "    L2 = []\n",
    "    for i in items:\n",
    "        print('i',i)\n",
    "        if sum(active) + i <= 1:\n",
    "            active.append(i)\n",
    "        else:\n",
    "            #大物体\n",
    "            if 2/3 <= i:\n",
    "                if L1:\n",
    "                    closed.append(L1)\n",
    "                L1 = [i]\n",
    "            #中物体\n",
    "            elif 1/3 <= i:\n",
    "                if sum(L2) + i <= 1:\n",
    "                    L2.append(i)\n",
    "                else:\n",
    "                    closed.append(L2)\n",
    "                    L2 = []\n",
    "            #小物体\n",
    "            else:\n",
    "                closed.append(active)\n",
    "                active = []\n",
    "                if sum(extra) + i <= 1:\n",
    "                    extra.append(i)\n",
    "                else:\n",
    "                    extras.append(extra)\n",
    "                    print(extra)\n",
    "                    extra = [i]\n",
    "                if L1:\n",
    "                    active = L1\n",
    "                elif L2:\n",
    "                    active = L2\n",
    "        print('closed: ',closed)\n",
    "        print('active :',active)\n",
    "        print('extras :',extras)\n",
    "        print('extra :',extra)\n",
    "    add_patchs(close_sp, closed)\n",
    "    add_patchs(extra_sp, extras)\n",
    "    print(extras)\n",
    "        \n",
    "A2(items)\n",
    "F.show()"
   ]
  },
  {
   "cell_type": "code",
   "execution_count": null,
   "metadata": {},
   "outputs": [],
   "source": []
  },
  {
   "cell_type": "code",
   "execution_count": null,
   "metadata": {},
   "outputs": [],
   "source": [
    "import keyboard  # using module keyboard\n",
    "while True:  # making a loop\n",
    "    try:  # used try so that if user pressed other than the given key error will not be shown\n",
    "        if keyboard.is_pressed('q'):  # if key 'q' is pressed\n",
    "            print('You Pressed A Key!')\n",
    "            break  # finishing the loop\n",
    "        else:\n",
    "            pass\n",
    "    except:\n",
    "        break  # if user pressed a key other than the given key the loop will break"
   ]
  },
  {
   "cell_type": "code",
   "execution_count": null,
   "metadata": {},
   "outputs": [],
   "source": [
    "import sympy as sy"
   ]
  },
  {
   "cell_type": "code",
   "execution_count": null,
   "metadata": {},
   "outputs": [],
   "source": [
    "AL,OPT = sy.symbols('A(L),OPT')\n",
    "na,ne1,ne2 = sy.symbols('N_a,N_e1,N_e2')\n",
    "nc1,nc2 = sy.symbols('N_c1,N_c2')\n",
    "R = sy.Rational"
   ]
  },
  {
   "cell_type": "code",
   "execution_count": null,
   "metadata": {},
   "outputs": [],
   "source": [
    "na + ne1 + ne2 <= na + ne1 + sy.ceiling(nc1/3)"
   ]
  },
  {
   "cell_type": "code",
   "execution_count": null,
   "metadata": {},
   "outputs": [],
   "source": [
    "nc1 <= nc2 "
   ]
  },
  {
   "cell_type": "code",
   "execution_count": null,
   "metadata": {},
   "outputs": [],
   "source": [
    "na + ne1 + sy.ceiling(nc1/3) <= R(3)/2*na + ne1"
   ]
  },
  {
   "cell_type": "code",
   "execution_count": null,
   "metadata": {},
   "outputs": [],
   "source": [
    "OPT >= na + R(2)/3*ne1"
   ]
  },
  {
   "cell_type": "code",
   "execution_count": null,
   "metadata": {},
   "outputs": [],
   "source": [
    "AL / OPT"
   ]
  },
  {
   "cell_type": "code",
   "execution_count": null,
   "metadata": {},
   "outputs": [],
   "source": [
    "OPT >= na + R(2)/3*ne1"
   ]
  },
  {
   "cell_type": "code",
   "execution_count": null,
   "metadata": {},
   "outputs": [],
   "source": [
    "(R(3)/2*na + ne1)/(na + R(2)/3*ne1)"
   ]
  },
  {
   "cell_type": "code",
   "execution_count": null,
   "metadata": {},
   "outputs": [],
   "source": [
    "sy.simplify((R(3)/2*na + ne1)/(na + R(2)/3*ne1))"
   ]
  },
  {
   "cell_type": "code",
   "execution_count": null,
   "metadata": {},
   "outputs": [],
   "source": []
  }
 ],
 "metadata": {
  "kernelspec": {
   "display_name": "py36",
   "language": "python",
   "name": "py36"
  },
  "language_info": {
   "codemirror_mode": {
    "name": "ipython",
    "version": 3
   },
   "file_extension": ".py",
   "mimetype": "text/x-python",
   "name": "python",
   "nbconvert_exporter": "python",
   "pygments_lexer": "ipython3",
   "version": "3.6.2"
  }
 },
 "nbformat": 4,
 "nbformat_minor": 2
}
