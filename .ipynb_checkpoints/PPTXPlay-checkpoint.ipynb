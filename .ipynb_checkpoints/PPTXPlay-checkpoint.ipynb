{
 "cells": [
  {
   "cell_type": "markdown",
   "metadata": {},
   "source": [
    "# PPTX操作\n",
    "## 取出slide中的特定文本\n",
    "## 还是使用自动排版工具吧"
   ]
  },
  {
   "cell_type": "code",
   "execution_count": 114,
   "metadata": {},
   "outputs": [],
   "source": [
    "from pptx import Presentation"
   ]
  },
  {
   "cell_type": "code",
   "execution_count": 115,
   "metadata": {},
   "outputs": [],
   "source": [
    "prs = Presentation(\"D:/Github/java/复习/java复习题_刘思婷.pptx\")"
   ]
  },
  {
   "cell_type": "code",
   "execution_count": 276,
   "metadata": {},
   "outputs": [],
   "source": [
    "import re\n",
    "numdot = re.compile(r\"(^|\\n)\\s*(\\d+)[.．]\")\n",
    "tabchoice = re.compile(r\"(^|\\t)\\s*([ABCDEFG])[.．]\")"
   ]
  },
  {
   "cell_type": "code",
   "execution_count": 277,
   "metadata": {},
   "outputs": [],
   "source": [
    "slides = list(prs.slides)"
   ]
  },
  {
   "cell_type": "code",
   "execution_count": 278,
   "metadata": {},
   "outputs": [],
   "source": [
    "textshapes = []\n",
    "for slide in slides[7:]:\n",
    "    if(slide.shapes[0].text == \"二 单项选择\"):\n",
    "        for p in slide.shapes[1].text_frame.paragraphs:\n",
    "            textshapes.append(p.text)"
   ]
  },
  {
   "cell_type": "code",
   "execution_count": 279,
   "metadata": {},
   "outputs": [],
   "source": [
    "texts = []\n",
    "for t in textshapes:\n",
    "    t = numdot.sub(r\"\\g<1>\\g<2>. \", t)\n",
    "    t = tabchoice.sub(r\"\\t\\g<2>. \", t)\n",
    "#     t = tabchoice.sub(lambda x: '\\t'+x.group(1)+'. ' if x.group(1)=='A' else x.group(1)+'. ', t)\n",
    "    texts.append(t)"
   ]
  },
  {
   "cell_type": "code",
   "execution_count": 280,
   "metadata": {},
   "outputs": [],
   "source": [
    "textall = '\\r'.join(texts)"
   ]
  },
  {
   "cell_type": "code",
   "execution_count": 281,
   "metadata": {},
   "outputs": [
    {
     "name": "stdout",
     "output_type": "stream",
     "text": [
      "1. 下列叙述中正确的是____A_____。\n"
     ]
    }
   ],
   "source": [
    "for i in texts[:1]:\n",
    "    print(i)"
   ]
  },
  {
   "cell_type": "code",
   "execution_count": 282,
   "metadata": {},
   "outputs": [],
   "source": [
    "de = texts[0]"
   ]
  },
  {
   "cell_type": "code",
   "execution_count": 283,
   "metadata": {},
   "outputs": [
    {
     "data": {
      "text/plain": [
       "'1. 下列叙述中正确的是____A_____。'"
      ]
     },
     "execution_count": 283,
     "metadata": {},
     "output_type": "execute_result"
    }
   ],
   "source": [
    "de"
   ]
  },
  {
   "cell_type": "markdown",
   "metadata": {},
   "source": [
    "## 粘贴板操作"
   ]
  },
  {
   "cell_type": "code",
   "execution_count": 285,
   "metadata": {},
   "outputs": [],
   "source": [
    "import pyperclip\n",
    "pyperclip.copy(textall)"
   ]
  }
 ],
 "metadata": {
  "kernelspec": {
   "display_name": "py35",
   "language": "python",
   "name": "py35"
  },
  "language_info": {
   "codemirror_mode": {
    "name": "ipython",
    "version": 3
   },
   "file_extension": ".py",
   "mimetype": "text/x-python",
   "name": "python",
   "nbconvert_exporter": "python",
   "pygments_lexer": "ipython3",
   "version": "3.5.4"
  }
 },
 "nbformat": 4,
 "nbformat_minor": 2
}
