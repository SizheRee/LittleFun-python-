{
 "cells": [
  {
   "cell_type": "code",
   "execution_count": 29,
   "metadata": {},
   "outputs": [],
   "source": [
    "import os\n",
    "os.chdir(\"/home/sizheree/workspace/code/Parallel_Program/lab4\")"
   ]
  },
  {
   "cell_type": "code",
   "execution_count": 30,
   "metadata": {},
   "outputs": [],
   "source": [
    "with open(\"./output.txt\", \"r\") as fp:\n",
    "    data = fp.read()"
   ]
  },
  {
   "cell_type": "code",
   "execution_count": 31,
   "metadata": {},
   "outputs": [],
   "source": [
    "data1 = data[data.find(\"DEBUG 限制矩阵\"):]"
   ]
  },
  {
   "cell_type": "code",
   "execution_count": 32,
   "metadata": {},
   "outputs": [],
   "source": [
    "import io"
   ]
  },
  {
   "cell_type": "code",
   "execution_count": 33,
   "metadata": {},
   "outputs": [],
   "source": [
    "f = io.StringIO(data1)"
   ]
  },
  {
   "cell_type": "code",
   "execution_count": 34,
   "metadata": {},
   "outputs": [],
   "source": [
    "def getmatrix(n):\n",
    "    while(1):\n",
    "        if(f.readline().strip()==\"DEBUG 限制矩阵\"):\n",
    "            res1 = []\n",
    "            res2 = []\n",
    "            for i in range(n):\n",
    "                res1.append(f.readline())\n",
    "            f.readline()\n",
    "            for i in range(n):\n",
    "                res2.append(f.readline())\n",
    "            yield res1,res2\n",
    "    "
   ]
  },
  {
   "cell_type": "code",
   "execution_count": 35,
   "metadata": {},
   "outputs": [],
   "source": [
    "g10 = getmatrix(14)"
   ]
  },
  {
   "cell_type": "code",
   "execution_count": 36,
   "metadata": {},
   "outputs": [],
   "source": [
    "with open(\"./input.txt\", \"r\") as fp:\n",
    "    fp.readline()\n",
    "    lmaps = fp.readlines()"
   ]
  },
  {
   "cell_type": "code",
   "execution_count": 37,
   "metadata": {},
   "outputs": [
    {
     "name": "stdout",
     "output_type": "stream",
     "text": [
      "[[0 0 0 0 0 0 0 0 0 0 0 0 0 0]\n",
      " [0 0 0 0 0 0 0 0 0 0 0 0 0 0]\n",
      " [0 0 0 0 0 0 0 0 0 0 0 0 0 0]\n",
      " [0 0 0 0 0 0 0 0 0 0 0 0 0 0]\n",
      " [0 0 0 0 0 0 0 0 0 0 0 0 0 0]\n",
      " [0 0 0 0 0 0 0 0 0 0 0 0 0 0]\n",
      " [0 0 0 0 0 0 0 0 0 0 0 0 0 0]\n",
      " [0 0 0 0 0 0 0 0 0 0 0 0 0 0]\n",
      " [0 0 0 0 0 0 0 0 0 0 0 0 0 0]\n",
      " [0 0 0 0 0 0 0 0 0 0 0 0 0 0]\n",
      " [0 0 0 0 0 0 0 0 0 0 0 0 0 0]\n",
      " [0 0 0 0 0 0 0 0 0 0 0 0 0 0]\n",
      " [0 0 0 0 0 0 0 0 0 0 0 0 0 0]\n",
      " [0 0 0 0 0 0 0 0 0 0 0 0 0 0]] \n",
      " [[0 1 0 1 0 1 0 0 1 0 1 1 3 0]\n",
      " [0 0 0 0 1 0 0 0 0 0 3 3 0 1]\n",
      " [1 0 0 0 0 0 0 0 0 1 1 3 0 0]\n",
      " [1 3 1 1 0 0 0 0 0 0 1 0 0 1]\n",
      " [3 0 1 0 0 1 1 0 1 0 0 0 1 0]\n",
      " [1 0 0 0 1 0 1 0 0 1 0 0 0 1]\n",
      " [0 0 0 0 0 0 0 0 1 1 0 0 0 0]\n",
      " [0 0 0 0 1 1 0 0 0 0 0 0 0 0]\n",
      " [1 0 0 0 1 0 0 1 0 1 0 0 0 1]\n",
      " [0 1 0 0 0 1 0 1 1 0 0 1 0 0]\n",
      " [1 0 0 1 0 0 0 0 0 0 1 1 0 1]\n",
      " [0 0 0 1 1 0 0 0 0 0 0 0 0 1]\n",
      " [1 0 0 0 0 0 0 0 0 1 0 0 0 0]\n",
      " [0 0 1 1 0 1 0 0 1 0 1 0 1 0]] \n",
      " [[-2 -1 -2  3 -2 -1 -2 -2 -1 -2  1  0 -2 -2]\n",
      " [-2 -2 -2 -2  2 -2 -2 -2 -2 -2 -2 -2 -2 -1]\n",
      " [-1 -2 -2 -2 -2 -2 -2 -2 -2  1  0 -2 -2 -2]\n",
      " [ 0 -2 -1  1 -2 -2 -2 -2 -2 -2  1 -2 -2  3]\n",
      " [-2 -2  1 -2 -2 -1  1 -2 -1 -2 -2 -2 -1 -2]\n",
      " [-1 -2 -2 -2  1 -2 -1 -2 -2 -1 -2 -2 -2  2]\n",
      " [-2 -2 -2 -2 -2 -2 -2 -2 -1 -1 -2 -2 -2 -2]\n",
      " [-2 -2 -2 -2 -1  3 -2 -2 -2 -2 -2 -2 -2 -2]\n",
      " [ 1 -2 -2 -2 -1 -2 -2 -1 -2 -1 -2 -2 -2  2]\n",
      " [-2 -1 -2 -2 -2 -1 -2 -1 -1 -2 -2 -1 -2 -2]\n",
      " [ 1 -2 -2 -1 -2 -2 -2 -2 -2 -2 -1  1 -2 -1]\n",
      " [-2 -2 -2 -1  2 -2 -2 -2 -2 -2 -2 -2 -2 -1]\n",
      " [-1 -2 -2 -2 -2 -2 -2 -2 -2  2 -2 -2 -2 -2]\n",
      " [-2 -2 -1 -1 -2 -1 -2 -2 -1 -2 -1 -2 -1 -2]]\n"
     ]
    }
   ],
   "source": [
    "br = []\n",
    "lp = []\n",
    "lmap = []\n",
    "import numpy as np\n",
    "brs,lps = next(g10)\n",
    "for i in brs:\n",
    "    br.append([int(x) for x in i.strip().split('  ')])\n",
    "for i in lps:\n",
    "    lp.append([int(x) for x in i.strip().split('  ')])\n",
    "for i in lmaps:\n",
    "    lmap.append([int(x) for x in i.strip().split(' ')])\n",
    "    \n",
    "\n",
    "lp = np.array(lp)\n",
    "br = np.array(br)\n",
    "lmap = np.array(lmap)\n",
    "print(lp,\"\\n\", br, \"\\n\", lmap)"
   ]
  },
  {
   "cell_type": "code",
   "execution_count": 38,
   "metadata": {},
   "outputs": [
    {
     "name": "stdout",
     "output_type": "stream",
     "text": [
      "Using matplotlib backend: Qt5Agg\n"
     ]
    }
   ],
   "source": [
    "%matplotlib"
   ]
  },
  {
   "cell_type": "code",
   "execution_count": 39,
   "metadata": {},
   "outputs": [],
   "source": [
    "# %matplotlib inline\n",
    "from matplotlib import pyplot as plt\n",
    "from matplotlib import colors\n",
    "import matplotlib.patches as patches\n",
    "import numpy as np\n"
   ]
  },
  {
   "cell_type": "code",
   "execution_count": 40,
   "metadata": {},
   "outputs": [
    {
     "name": "stdout",
     "output_type": "stream",
     "text": [
      "hhh\n",
      "hhh\n",
      "hhh\n",
      "hhh\n",
      "hhh\n",
      "hhh\n"
     ]
    }
   ],
   "source": [
    "fig = plt.figure(figsize=(8,8))\n",
    "axe = plt.gca()\n",
    "plt.ioff()\n",
    "# br = []\n",
    "# lp = []\n",
    "# lmap = []\n",
    "# brs,lps = next(g10)\n",
    "# for i in brs:\n",
    "#     br.append([int(x) for x in i.strip().split('  ')])\n",
    "# for i in lps:\n",
    "#     lp.append([int(x) for x in i.strip().split('  ')])\n",
    "# for i in lmaps:\n",
    "#     lmap.append([int(x) for x in i.strip().split(' ')])\n",
    "# lp = np.array(lp)\n",
    "# br = np.array(br)\n",
    "# lmap = np.array(lmap)\n",
    "\n",
    "# for i in range(lp.shape[0]):\n",
    "#     for j in range(lp.shape[1]):\n",
    "#         if lp[i][j]>0:\n",
    "#             axe.add_patch(patches.Rectangle((i, j), 1, 1, color=\"y\"))\n",
    "            \n",
    "# for i in range(br.shape[0]):\n",
    "#     for j in range(br.shape[1]):\n",
    "#         if br[i][j]==1:\n",
    "#             axe.add_patch(patches.Rectangle((i, j), 1, 1, color=\"black\"))\n",
    "#             if(lmap[i][j]>=0):\n",
    "#                 axe.annotate(\"%d\"%lmap[i][j], (i+0.5, j+0.5))\n",
    "#                 axe.text(i+0.2, j+0.8, \"%d\"%lmap[i][j], fontsize=20, color=\"white\")\n",
    "#         elif br[i][j]==2:\n",
    "#             axe.add_patch(patches.Circle((i+0.5, j+0.5), 0.3, color=\"blue\"))\n",
    "            \n",
    "\n",
    "#     键盘模式\n",
    "def onkey(event):\n",
    "    global mode\n",
    "    axe = plt.gca()\n",
    "    plt.cla()\n",
    "    axe.set_xticks(np.arange(0, 15, 1))\n",
    "    axe.invert_yaxis()\n",
    "    axe.set_yticks(np.arange(0, 15, 1))\n",
    "    plt.grid()\n",
    "    if event.key == \"b\":\n",
    "        print(\"hhh\")\n",
    "        br = []\n",
    "        lp = []\n",
    "        lmap = []\n",
    "        brs,lps = next(g10)\n",
    "        for i in brs:\n",
    "            br.append([int(x) for x in i.strip().split('  ')])\n",
    "        for i in lps:\n",
    "            lp.append([int(x) for x in i.strip().split('  ')])\n",
    "        for i in lmaps:\n",
    "            lmap.append([int(x) for x in i.strip().split(' ')])\n",
    "        lp = np.array(lp)\n",
    "        br = np.array(br)\n",
    "        lmap = np.array(lmap)\n",
    "        for i in range(lp.shape[0]):\n",
    "            for j in range(lp.shape[1]):\n",
    "                if lp[i][j]>0:\n",
    "                    axe.add_patch(patches.Rectangle((j, i), 1, 1, color=\"y\"))\n",
    "\n",
    "        for i in range(br.shape[0]):\n",
    "            for j in range(br.shape[1]):\n",
    "                if br[i][j]==1:\n",
    "                    axe.add_patch(patches.Rectangle((j, i), 1, 1, color=\"black\"))\n",
    "                    if(lmap[i][j]>=0):\n",
    "#                         axe.annotate(\"%d\"%lmap[i][j], (i+0.5, j+0.5))\n",
    "                        axe.text(j+0.2, i+0.8, \"%d\"%lmap[i][j], fontsize=20, color=\"white\")\n",
    "                elif br[i][j]==2:\n",
    "                    axe.add_patch(patches.Circle((j+0.5, i+0.5), 0.3, color=\"blue\"))\n",
    "                elif br[i][j]==3:\n",
    "                    axe.add_patch(patches.RegularPolygon((j+0.5, i+0.5), 3, radius=0.5, color=\"red\"))\n",
    "        \n",
    "        plt.show()\n",
    "    elif event.key == \"q\":\n",
    "        mode = \"quit\"\n",
    "        \n",
    "fig.canvas.mpl_connect('key_press_event', onkey)\n",
    "\n",
    "\n",
    "plt.show()\n"
   ]
  },
  {
   "cell_type": "code",
   "execution_count": null,
   "metadata": {},
   "outputs": [],
   "source": []
  }
 ],
 "metadata": {
  "kernelspec": {
   "display_name": "Python 3",
   "language": "python",
   "name": "python3"
  },
  "language_info": {
   "codemirror_mode": {
    "name": "ipython",
    "version": 3
   },
   "file_extension": ".py",
   "mimetype": "text/x-python",
   "name": "python",
   "nbconvert_exporter": "python",
   "pygments_lexer": "ipython3",
   "version": "3.7.3"
  }
 },
 "nbformat": 4,
 "nbformat_minor": 2
}
