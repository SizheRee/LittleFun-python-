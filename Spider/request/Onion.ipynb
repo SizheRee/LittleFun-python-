{
 "cells": [
  {
   "cell_type": "code",
   "execution_count": 1,
   "metadata": {
    "collapsed": true
   },
   "outputs": [],
   "source": [
    "from bs4 import BeautifulSoup\n",
    "import requests\n",
    "import json\n",
    "import time"
   ]
  },
  {
   "cell_type": "code",
   "execution_count": 50,
   "metadata": {
    "collapsed": true
   },
   "outputs": [],
   "source": [
    "url = \"http://www.btbook.me/\"\n",
    "payload = {\"q\":u\"蚁人\"}\n",
    "\n",
    "headers = {\n",
    "    \"Accept\": \"text/html,application/xhtml+xml,application/xml;q=0.9,image/webp,image/apng,*/*;q=0.8\",\n",
    "    \"Accept-Encoding\": \"gzip, deflate\",\n",
    "    \"Accept-Language\": \"en-US,en;q=0.9,zh-CN;q=0.8,zh;q=0.7\",\n",
    "    \"Connection\" : \"keep-alive\",\n",
    "    \"Host\":\"www.btbook.me\",\n",
    "    \"Referer\":\"http://www.btbook.me/\",\n",
    "    \"Upgrade-Insecure-Requests\": \"1\",\n",
    "    \"User-Agent\": \"Mozilla/5.0 (Windows NT 10.0; Win64; x64) AppleWebKit/537.36 (KHTML, like Gecko) Chrome/69.0.3497.100 Safari/537.36\"\n",
    "}\n",
    "    \n",
    "session = requests.session()\n",
    "session.headers = headers"
   ]
  },
  {
   "cell_type": "code",
   "execution_count": 51,
   "metadata": {
    "collapsed": false
   },
   "outputs": [
    {
     "name": "stdout",
     "output_type": "stream",
     "text": [
      "<Response [200]>\n"
     ]
    }
   ],
   "source": [
    "# res_get = session.get(url)\n",
    "\n",
    "res_post = session.post(url=url, data=payload)\n",
    "print(res_post)"
   ]
  },
  {
   "cell_type": "code",
   "execution_count": 52,
   "metadata": {
    "collapsed": false
   },
   "outputs": [],
   "source": [
    "if (res_post.text):\n",
    "    with open(\"D:/Github/index.html\", \"w\", encoding=\"utf-8\") as fp:\n",
    "        fp.write(res_post.text)"
   ]
  },
  {
   "cell_type": "code",
   "execution_count": 55,
   "metadata": {
    "collapsed": false
   },
   "outputs": [],
   "source": [
    "bstar = BeautifulSoup(res_post.text)"
   ]
  },
  {
   "cell_type": "code",
   "execution_count": 56,
   "metadata": {
    "collapsed": false
   },
   "outputs": [
    {
     "data": {
      "text/plain": [
       "<!DOCTYPE html>\n",
       "<html lang=\"zh-CN\">\n",
       "<head>\n",
       "<meta charset=\"utf-8\"/>\n",
       "<meta content=\"IE=edge\" http-equiv=\"X-UA-Compatible\"/>\n",
       "<meta content=\"width=device-width, initial-scale=1.0\" name=\"viewport\"/>\n",
       "<title>btbook.me - 我的BT磁力链接书屋</title> <meta content=\"btbook.me是一款提供最新最热门的BT种子搜索的磁力搜索引擎，覆含影视音乐、动漫、电子书等BT种子资源，本站实时通过DHT网络获取最新的BT种子文件信息并生成磁力链接。\" name=\"description\"/>\n",
       "<meta content=\"btbook,磁力链接\" name=\"keywords\"/> <meta content=\"no-transform\" http-equiv=\"Cache-Control\"/>\n",
       "<meta content=\"no-siteapp\" http-equiv=\"Cache-Control\"/>\n",
       "<meta content=\"webkit\" name=\"renderer\"/> <link href=\"/favicon.ico\" rel=\"shortcut icon\"/>\n",
       "<link href=\"/view/css/default.css\" rel=\"stylesheet\" type=\"text/css\"/>\n",
       "</head>\n",
       "<body>\n",
       "<div class=\"main\">\n",
       "<div class=\"header fl\">\n",
       "<div class=\"nav\">\n",
       "<a class=\"menu\" href=\"./\">Home</a>\n",
       "<a class=\"menu\" href=\"/tags.htm\">Tags</a>\n",
       "</div>\n",
       "</div>\n",
       "<div class=\"index-box\">\n",
       "<div style=\"margin-bottom: 40px\">\n",
       "<a href=\"/\"><img alt=\"btbook\" src=\"/view/css/logo.png\"/></a>\n",
       "</div>\n",
       "<div id=\"search-box\">\n",
       "<form action=\"/search.htm\" id=\"search-form\" method=\"get\">\n",
       "<input autocomplete=\"off\" id=\"search\" name=\"q\" placeholder=\"Search anything you want...\" type=\"text\"/>\n",
       "<input class=\"blue\" id=\"btnSearch\" type=\"submit\" value=\"Search\"/>\n",
       "</form>\n",
       "<div class=\"info-box\"></div>\n",
       "</div>\n",
       "</div>\n",
       "<script type=\"text/javascript\">\n",
       "        document.getElementById(\"search\").focus();\n",
       "        document.forms[0].onsubmit = function (e) {\n",
       "            e.preventDefault(); \n",
       "            var query = document.getElementById(\"search\").value; if (!query) { document.getElementById(\"search\").focus(); return false; }\n",
       "            var url = 'search.htm?q=' + encodeURIComponent(query); window.location = url; return false;\n",
       "        };\n",
       "        </script>\n",
       "</div>\n",
       "<div class=\"footer fl\">\n",
       "<div class=\"nav_bot\">\n",
       "<small>©2017 \n",
       "\t<a href=\"http://www.btbook.me\" title=\"btbook\">btbook</a>\n",
       "<a href=\"/dmca.htm\" rel=\"nofollow\">DMCA</a></small>\n",
       "<!-- <script type=\"text/javascript\" src=\"/view/css/yong.js\"></script> -->\n",
       "<span><script language=\"JavaScript\" src=\"http://s4.cnzz.com/stat.php?id=1255667073&amp;web_id=1255667073\"></script></span>\n",
       "<script type=\"text/javascript\">\n",
       "(function(){\n",
       "    var bp = document.createElement('script');\n",
       "    bp.src = '//push.zhanzhang.baidu.com/push.js';\n",
       "    var s = document.getElementsByTagName(\"script\")[0];\n",
       "    s.parentNode.insertBefore(bp, s);\n",
       "})();\n",
       "</script>\n",
       "</div>\n",
       "</div>\n",
       "</body>\n",
       "</html>"
      ]
     },
     "execution_count": 56,
     "metadata": {},
     "output_type": "execute_result"
    }
   ],
   "source": [
    "bstar"
   ]
  },
  {
   "cell_type": "code",
   "execution_count": 57,
   "metadata": {
    "collapsed": true
   },
   "outputs": [],
   "source": [
    "import sys\n",
    "import mechanicalsoup"
   ]
  },
  {
   "cell_type": "code",
   "execution_count": 58,
   "metadata": {
    "collapsed": true
   },
   "outputs": [],
   "source": [
    "browser = mechanicalsoup.StatefulBrowser()"
   ]
  },
  {
   "cell_type": "code",
   "execution_count": 87,
   "metadata": {
    "collapsed": false
   },
   "outputs": [
    {
     "data": {
      "text/plain": [
       "<Response [200]>"
      ]
     },
     "execution_count": 87,
     "metadata": {},
     "output_type": "execute_result"
    }
   ],
   "source": [
    "url = \"http://www.btbook.me/\"\n",
    "browser.open(url)"
   ]
  },
  {
   "cell_type": "code",
   "execution_count": 88,
   "metadata": {
    "collapsed": false
   },
   "outputs": [
    {
     "data": {
      "text/plain": [
       "[<form action=\"/search.htm\" id=\"search-form\" method=\"get\">\n",
       " <input autocomplete=\"off\" id=\"search\" name=\"q\" placeholder=\"Search anything you want...\" type=\"text\"/>\n",
       " <input class=\"blue\" id=\"btnSearch\" type=\"submit\" value=\"Search\"/>\n",
       " </form>]"
      ]
     },
     "execution_count": 88,
     "metadata": {},
     "output_type": "execute_result"
    }
   ],
   "source": [
    "browser.get_current_page().find_all(\"form\")"
   ]
  },
  {
   "cell_type": "code",
   "execution_count": 97,
   "metadata": {
    "collapsed": false
   },
   "outputs": [
    {
     "data": {
      "text/plain": [
       "<mechanicalsoup.form.Form at 0x1670f2aa780>"
      ]
     },
     "execution_count": 97,
     "metadata": {},
     "output_type": "execute_result"
    }
   ],
   "source": [
    "browser.select_form('form[action=\"/search.htm\"]')"
   ]
  },
  {
   "cell_type": "code",
   "execution_count": 98,
   "metadata": {
    "collapsed": false
   },
   "outputs": [
    {
     "name": "stdout",
     "output_type": "stream",
     "text": [
      "<input autocomplete=\"off\" id=\"search\" name=\"q\" placeholder=\"Search anything you want...\" type=\"text\" value=\"雷神2\"/>\n",
      "<input class=\"blue\" id=\"btnSearch\" type=\"submit\" value=\"Search\"/>\n"
     ]
    }
   ],
   "source": [
    "browser.get_current_form().print_summary()"
   ]
  },
  {
   "cell_type": "code",
   "execution_count": 99,
   "metadata": {
    "collapsed": false
   },
   "outputs": [],
   "source": [
    "browser['q'] = u\"雷神2\""
   ]
  },
  {
   "cell_type": "code",
   "execution_count": 100,
   "metadata": {
    "collapsed": false
   },
   "outputs": [],
   "source": [
    "browser.launch_browser()"
   ]
  },
  {
   "cell_type": "code",
   "execution_count": 93,
   "metadata": {
    "collapsed": true
   },
   "outputs": [],
   "source": [
    "response = browser.submit_selected()"
   ]
  },
  {
   "cell_type": "code",
   "execution_count": 101,
   "metadata": {
    "collapsed": false
   },
   "outputs": [],
   "source": [
    "bstar = browser.get_current_page()"
   ]
  },
  {
   "cell_type": "code",
   "execution_count": 102,
   "metadata": {
    "collapsed": false
   },
   "outputs": [
    {
     "data": {
      "text/plain": [
       "<!DOCTYPE html>\n",
       "<html lang=\"zh-CN\">\n",
       "<head>\n",
       "<meta charset=\"utf-8\"/>\n",
       "<meta content=\"IE=edge\" http-equiv=\"X-UA-Compatible\"/>\n",
       "<meta content=\"width=device-width, initial-scale=1.0\" name=\"viewport\"/>\n",
       "<title>雷神2_第1页 - btbook</title> <meta content=\"no-transform\" http-equiv=\"Cache-Control\"/>\n",
       "<meta content=\"no-siteapp\" http-equiv=\"Cache-Control\"/>\n",
       "<meta content=\"webkit\" name=\"renderer\"/> <link href=\"/favicon.ico\" rel=\"shortcut icon\"/>\n",
       "<link href=\"/view/css/default.css\" rel=\"stylesheet\" type=\"text/css\"/>\n",
       "</head>\n",
       "<body>\n",
       "<div class=\"main\">\n",
       "<div class=\"header fl\">\n",
       "<div class=\"nav\">\n",
       "<a class=\"menu\" href=\"./\">Home</a>\n",
       "<a class=\"menu\" href=\"/tags.htm\">Tags</a>\n",
       "</div>\n",
       "</div>\n",
       "<div class=\"search-box fl\">\n",
       "<div class=\"m_logo\"><a href=\"/\"><img alt=\"btbook\" src=\"/view/css/logo.png\" width=\"140\"/></a></div>\n",
       "<form action=\"/search.htm\" id=\"search-form\" method=\"get\">\n",
       "<input autocomplete=\"off\" id=\"search\" name=\"q\" placeholder=\"Search anything you want...\" type=\"text\" value=\"雷神2\"/>\n",
       "<input class=\"blue\" id=\"btnSearch\" type=\"submit\" value=\"Search\"/>\n",
       "</form>\n",
       "</div>\n",
       "<script type=\"text/javascript\">\n",
       "        document.getElementById(\"search\").focus();\n",
       "        document.forms[0].onsubmit = function (e) {\n",
       "            e.preventDefault(); \n",
       "            var query = document.getElementById(\"search\").value; if (!query) { document.getElementById(\"search\").focus(); return false; }\n",
       "            var url = 'search.htm?q=' + encodeURIComponent(query); window.location = url; return false;\n",
       "        };\n",
       "        </script>\n",
       "<div class=\"w100 fl\">\n",
       "<p class=\"info pl10\">大约有 <em>163,328</em> 项 torrents 符合 <em>雷神2</em> 的查询结果! （搜索耗时：0.05秒）</p>\n",
       "</div>\n",
       "<div class=\"list-box fl\">\n",
       "<div class=\"l-box fl\">\n",
       "<ul class=\"pl10 l-ul\">\n",
       "<li>\n",
       "<a href=\"/hash-2786099.htm\" title=\"&lt;em&gt;雷神&lt;/em&gt;&lt;em&gt;2&lt;/em&gt;.黑暗世界.Thor.The.Dark.World.Trailer.1.SLOMO字幕组.mkv\"><em>雷神</em><em>2</em>.黑暗世界.Thor.The.Dark.World.Trailer.1.SLOMO字幕组.mkv</a>\n",
       "<span class=\"h\">Hash:ebd06f9f645766ebe63aee0c26c0ba77cb1da132</span>\n",
       "<span>Create Time：<b>4 year ago</b> File Size：<b>126MB</b></span>\n",
       "<span></span>\n",
       "</li>\n",
       "<li>\n",
       "<a href=\"/hash-2394565.htm\" title=\"&lt;em&gt;雷神&lt;/em&gt;&lt;em&gt;2&lt;/em&gt;.黑暗世界.Thor.The.Dark.World.Trailer.1.SLOMO字幕组.mkv\"><em>雷神</em><em>2</em>.黑暗世界.Thor.The.Dark.World.Trailer.1.SLOMO字幕组.mkv</a>\n",
       "<span class=\"h\">Hash:94d76b04e20a67e08e0bfdfaa8b70e50d54e1696</span>\n",
       "<span>Create Time：<b>4 year ago</b> File Size：<b>126MB</b></span>\n",
       "<span></span>\n",
       "</li>\n",
       "<li>\n",
       "<a href=\"/hash-1333175.htm\" title=\"【91高清影视(www.91gqys.com)】&lt;em&gt;雷神&lt;/em&gt;&lt;em&gt;2&lt;/em&gt;：黑暗世界.HD英语中字1280高清.rmvb\">【91高清影视(www.91gqys.com)】<em>雷神</em><em>2</em>：黑暗世界.HD英语中字1280高清.rmvb</a>\n",
       "<span class=\"h\">Hash:3363c10b2d3576cb5e5a399343cf83e67214ab82</span>\n",
       "<span>Create Time：<b>4 year ago</b> File Size：<b>1212MB</b></span>\n",
       "<span></span>\n",
       "</li>\n",
       "<li>\n",
       "<a href=\"/hash-1251682.htm\" title=\"[2014.03.15]&lt;em&gt;雷神&lt;/em&gt;&lt;em&gt;2&lt;/em&gt;：黑暗世界[2013年票房11][美国科幻冒险(BD)]（帝国出品）[官字洗版]\">[2014.03.15]<em>雷神</em><em>2</em>：黑暗世界[2013年票房11][美国科幻冒险(BD)]（帝国出品）[官字洗版]</a>\n",
       "<span class=\"h\">Hash:fce72cc1773d0736a25a44532006e613cae8ac82</span>\n",
       "<span>Create Time：<b>4 year ago</b> File Size：<b>2267MB</b></span>\n",
       "<span></span>\n",
       "</li>\n",
       "<li>\n",
       "<a href=\"/hash-1239673.htm\" title=\"&lt;em&gt;雷神&lt;/em&gt;&lt;em&gt;2&lt;/em&gt;黑暗世界.2013.中英字幕￡CMCT呆呆熊\"><em>雷神</em><em>2</em>黑暗世界.2013.中英字幕￡CMCT呆呆熊</a>\n",
       "<span class=\"h\">Hash:f5ea09b34ada8b35e8962a058cec05fe03e521dc</span>\n",
       "<span>Create Time：<b>4 year ago</b> File Size：<b>2048MB</b></span>\n",
       "<span></span>\n",
       "</li>\n",
       "<li>\n",
       "<a href=\"/hash-1121726.htm\" title=\"&lt;em&gt;雷神&lt;/em&gt;&lt;em&gt;2&lt;/em&gt;黑暗世界.2013.中英字幕￡CMCT呆呆熊\"><em>雷神</em><em>2</em>黑暗世界.2013.中英字幕￡CMCT呆呆熊</a>\n",
       "<span class=\"h\">Hash:b87a9d627be315b54266447161125bfd89b98ec0</span>\n",
       "<span>Create Time：<b>4 year ago</b> File Size：<b>2048MB</b></span>\n",
       "<span></span>\n",
       "</li>\n",
       "<li>\n",
       "<a href=\"/hash-1116567.htm\" title=\"[www.BTVBT.com]&lt;em&gt;雷神&lt;/em&gt;&lt;em&gt;2&lt;/em&gt; 黑暗世界[蓝光原盘DiY简繁中文字幕+国配]Thor.The.Dark.World.2013.BluRay.1080p.A\">[www.BTVBT.com]<em>雷神</em><em>2</em> 黑暗世界[蓝光原盘DiY简繁中文字幕+国配]Thor.The.Dark.World.2013.BluRay.1080p.A</a>\n",
       "<span class=\"h\">Hash:b077c7305a071e7e609a40ecbc4767a9effdbf65</span>\n",
       "<span>Create Time：<b>4 year ago</b> File Size：<b>13205MB</b></span>\n",
       "<span></span>\n",
       "</li>\n",
       "<li>\n",
       "<a href=\"/hash-1080741.htm\" title=\"梦幻天堂·龙网(killman.net).720p.&lt;em&gt;雷神&lt;/em&gt;&lt;em&gt;2&lt;/em&gt;：黑暗世界\">梦幻天堂·龙网(killman.net).720p.<em>雷神</em><em>2</em>：黑暗世界</a>\n",
       "<span class=\"h\">Hash:06d693df2c58c4fe2ff1acfa9cd4dadf647a30f7</span>\n",
       "<span>Create Time：<b>4 year ago</b> File Size：<b>2048MB</b></span>\n",
       "<span></span>\n",
       "</li>\n",
       "<li>\n",
       "<a href=\"/hash-1070294.htm\" title=\"&lt;em&gt;雷神&lt;/em&gt;&lt;em&gt;2&lt;/em&gt;.黑暗世界.Thor.The.Dark.World.2013.BD-MP4-原创翻译中英双语字幕.mp4\"><em>雷神</em><em>2</em>.黑暗世界.Thor.The.Dark.World.2013.BD-MP4-原创翻译中英双语字幕.mp4</a>\n",
       "<span class=\"h\">Hash:47957e0d4444f181bb1e6754e3ecd03632ea2259</span>\n",
       "<span>Create Time：<b>4 year ago</b> File Size：<b>642MB</b></span>\n",
       "<span></span>\n",
       "</li>\n",
       "<li>\n",
       "<a href=\"/hash-1059692.htm\" title=\"[阳光电影www.ygdy8.com].&lt;em&gt;雷神&lt;/em&gt;&lt;em&gt;2&lt;/em&gt;：黑暗世界.BD.720p.中英双字幕.rmvb\">[阳光电影www.ygdy8.com].<em>雷神</em><em>2</em>：黑暗世界.BD.720p.中英双字幕.rmvb</a>\n",
       "<span class=\"h\">Hash:e6e82f5ea40a84cf1141f043c40b73be40bb5458</span>\n",
       "<span>Create Time：<b>4 year ago</b> File Size：<b>1249MB</b></span>\n",
       "<span></span>\n",
       "</li>\n",
       "<li>\n",
       "<a href=\"/hash-1052126.htm\" title=\"&lt;em&gt;雷神&lt;/em&gt;&lt;em&gt;2&lt;/em&gt;.黑暗世界.Thor.The.Dark.World.2013.BD-MP4-原创翻译中英双语字幕V2.mp4\"><em>雷神</em><em>2</em>.黑暗世界.Thor.The.Dark.World.2013.BD-MP4-原创翻译中英双语字幕V2.mp4</a>\n",
       "<span class=\"h\">Hash:808ce21d0ea0cf6afc2947a4f187e387a558ee44</span>\n",
       "<span>Create Time：<b>4 year ago</b> File Size：<b>642MB</b></span>\n",
       "<span></span>\n",
       "</li>\n",
       "<li>\n",
       "<a href=\"/hash-1043370.htm\" title=\"&lt;em&gt;雷神&lt;/em&gt;&lt;em&gt;2&lt;/em&gt;：黑暗世界.Thor.The.Dark.WOrld.2013.3D.Blu-Ray.HOU.1080p.DTS.x264-CHD3D\"><em>雷神</em><em>2</em>：黑暗世界.Thor.The.Dark.WOrld.2013.3D.Blu-Ray.HOU.1080p.DTS.x264-CHD3D</a>\n",
       "<span class=\"h\">Hash:9c252dab7bba8d5bbaf44948266572f912266a0d</span>\n",
       "<span>Create Time：<b>4 year ago</b> File Size：<b>2048MB</b></span>\n",
       "<span></span>\n",
       "</li>\n",
       "<li>\n",
       "<a href=\"/hash-1025051.htm\" title=\"【倩影翩翩www.71pp.net】&lt;em&gt;雷神&lt;/em&gt;&lt;em&gt;2&lt;/em&gt;：黑暗世界.BD1280高清国语版中英双字.rmvb\">【倩影翩翩www.71pp.net】<em>雷神</em><em>2</em>：黑暗世界.BD1280高清国语版中英双字.rmvb</a>\n",
       "<span class=\"h\">Hash:75b3fe43ec98f22de5cd5e429a84ac36e49b721b</span>\n",
       "<span>Create Time：<b>4 year ago</b> File Size：<b>808MB</b></span>\n",
       "<span></span>\n",
       "</li>\n",
       "<li>\n",
       "<a href=\"/hash-1011033.htm\" title=\"&lt;em&gt;雷神&lt;/em&gt;&lt;em&gt;2&lt;/em&gt; Thor.The.Dark.World.2013.BluRay.720p.x264.AC3-CnSCG.mkv\"><em>雷神</em><em>2</em> Thor.The.Dark.World.2013.BluRay.720p.x264.AC3-CnSCG.mkv</a>\n",
       "<span class=\"h\">Hash:572bc3e5549bd2f0346477765a4f17931e9ee88b</span>\n",
       "<span>Create Time：<b>4 year ago</b> File Size：<b>2047MB</b></span>\n",
       "<span></span>\n",
       "</li>\n",
       "<li>\n",
       "<a href=\"/hash-993910.htm\" title=\"【限制级www.dy2018.cc】&lt;em&gt;雷神&lt;/em&gt;&lt;em&gt;2&lt;/em&gt;：黑暗世界.BD1280超清特效中英双字.mkv\">【限制级www.dy2018.cc】<em>雷神</em><em>2</em>：黑暗世界.BD1280超清特效中英双字.mkv</a>\n",
       "<span class=\"h\">Hash:3dcb9038d85c2e32ec26212bd716c134f38dc151</span>\n",
       "<span>Create Time：<b>4 year ago</b> File Size：<b>2047MB</b></span>\n",
       "<span></span>\n",
       "</li>\n",
       "<li>\n",
       "<a href=\"/hash-969472.htm\" title=\"[www.BTVBT.com]&lt;em&gt;雷神&lt;/em&gt;&lt;em&gt;2&lt;/em&gt;黑暗世界[美版3D原盘ISO][DiY简繁中文字幕+简英繁英双字幕]Thor.The.Dark.World.2013.3D.\">[www.BTVBT.com]<em>雷神</em><em>2</em>黑暗世界[美版3D原盘ISO][DiY简繁中文字幕+简英繁英双字幕]Thor.The.Dark.World.2013.3D.</a>\n",
       "<span class=\"h\">Hash:445610375b5b912280e1f3dc50e056521c750a79</span>\n",
       "<span>Create Time：<b>4 year ago</b> File Size：<b>2048MB</b></span>\n",
       "<span></span>\n",
       "</li>\n",
       "<li>\n",
       "<a href=\"/hash-965053.htm\" title=\"&lt;em&gt;雷神&lt;/em&gt;&lt;em&gt;2&lt;/em&gt;黑暗世界.2013.中英字幕￡CMCT呆呆熊\"><em>雷神</em><em>2</em>黑暗世界.2013.中英字幕￡CMCT呆呆熊</a>\n",
       "<span class=\"h\">Hash:d38daee2e471d657353c0db1cc98614f6ee5a3c6</span>\n",
       "<span>Create Time：<b>4 year ago</b> File Size：<b>2048MB</b></span>\n",
       "<span></span>\n",
       "</li>\n",
       "<li>\n",
       "<a href=\"/hash-959366.htm\" title=\"&lt;em&gt;雷神&lt;/em&gt;&lt;em&gt;2&lt;/em&gt;：黑暗世界￡圣城RiYoo.归来\"><em>雷神</em><em>2</em>：黑暗世界￡圣城RiYoo.归来</a>\n",
       "<span class=\"h\">Hash:a491e89c7dc5a6ef2d72e4de8a0f38d857d8b695</span>\n",
       "<span>Create Time：<b>4 year ago</b> File Size：<b>1456MB</b></span>\n",
       "<span></span>\n",
       "</li>\n",
       "<li>\n",
       "<a href=\"/hash-946628.htm\" title=\"[2013年票房11][2014.02.10]&lt;em&gt;雷神&lt;/em&gt;&lt;em&gt;2&lt;/em&gt;黑暗世界[2013年美国动作冒险奇幻(Bluray)]（帝国出品）\">[2013年票房11][2014.02.10]<em>雷神</em><em>2</em>黑暗世界[2013年美国动作冒险奇幻(Bluray)]（帝国出品）</a>\n",
       "<span class=\"h\">Hash:4279d812ddd5e32d5681c431ff67fb3c2ceaf64c</span>\n",
       "<span>Create Time：<b>4 year ago</b> File Size：<b>2190MB</b></span>\n",
       "<span></span>\n",
       "</li>\n",
       "<li>\n",
       "<a href=\"/hash-944685.htm\" title=\"【&lt;em&gt;雷神&lt;/em&gt;&lt;em&gt;2&lt;/em&gt;：黑暗世界】【高清蓝光720P版BD-RMVB.中英双字】【2013美国奇幻动作大片】\">【<em>雷神</em><em>2</em>：黑暗世界】【高清蓝光720P版BD-RMVB.中英双字】【2013美国奇幻动作大片】</a>\n",
       "<span class=\"h\">Hash:f7a0f2634b289b30170c060ccc4c9e837477dba9</span>\n",
       "<span>Create Time：<b>4 year ago</b> File Size：<b>1142MB</b></span>\n",
       "<span></span>\n",
       "</li>\n",
       "<li>\n",
       "<a href=\"/hash-944512.htm\" title=\"&lt;em&gt;雷神&lt;/em&gt;&lt;em&gt;2&lt;/em&gt;：黑暗世界\"><em>雷神</em><em>2</em>：黑暗世界</a>\n",
       "<span class=\"h\">Hash:6717760c37964cc813912541794317f148c1720d</span>\n",
       "<span>Create Time：<b>4 year ago</b> File Size：<b>2150MB</b></span>\n",
       "<span></span>\n",
       "</li>\n",
       "<li>\n",
       "<a href=\"/hash-940051.htm\" title=\"Thor.The.Dark.World.2013.&lt;em&gt;雷神&lt;/em&gt;&lt;em&gt;2&lt;/em&gt;.黑暗世界.双语字幕.HR-HDTV.AC3.1024X576.x264.V2.mkv\">Thor.The.Dark.World.2013.<em>雷神</em><em>2</em>.黑暗世界.双语字幕.HR-HDTV.AC3.1024X576.x264.V2.mkv</a>\n",
       "<span class=\"h\">Hash:cb74dfffcd8bfbf706b41d14a6ece2076d425edc</span>\n",
       "<span>Create Time：<b>4 year ago</b> File Size：<b>1751MB</b></span>\n",
       "<span></span>\n",
       "</li>\n",
       "<li>\n",
       "<a href=\"/hash-937524.htm\" title=\"&lt;em&gt;雷神&lt;/em&gt;&lt;em&gt;2&lt;/em&gt;\"><em>雷神</em><em>2</em></a>\n",
       "<span class=\"h\">Hash:efc2c7a93c5e4e8f83274d02aa60ff9a241228e0</span>\n",
       "<span>Create Time：<b>4 year ago</b> File Size：<b>643MB</b></span>\n",
       "<span></span>\n",
       "</li>\n",
       "<li>\n",
       "<a href=\"/hash-935849.htm\" title=\"&lt;em&gt;雷神&lt;/em&gt;&lt;em&gt;2&lt;/em&gt;：黑暗世界.BD.720p.中英双字幕\"><em>雷神</em><em>2</em>：黑暗世界.BD.720p.中英双字幕</a>\n",
       "<span class=\"h\">Hash:766ca2a443354b55c03043069e0bd6605187dcc9</span>\n",
       "<span>Create Time：<b>4 year ago</b> File Size：<b>1249MB</b></span>\n",
       "<span></span>\n",
       "</li>\n",
       "<li>\n",
       "<a href=\"/hash-929461.htm\" title=\"Thor.The.Dark.World.2013.&lt;em&gt;雷神&lt;/em&gt;&lt;em&gt;2&lt;/em&gt;.黑暗世界.双语字幕.HR-HDTV.AC3.1024X576.x264.V3.mkv\">Thor.The.Dark.World.2013.<em>雷神</em><em>2</em>.黑暗世界.双语字幕.HR-HDTV.AC3.1024X576.x264.V3.mkv</a>\n",
       "<span class=\"h\">Hash:fe037a657e8e69152e80f264d160daeba983c329</span>\n",
       "<span>Create Time：<b>4 year ago</b> File Size：<b>1751MB</b></span>\n",
       "<span></span>\n",
       "</li>\n",
       "<li>\n",
       "<a href=\"/hash-929309.htm\" title=\"[www.BTVBT.com]&lt;em&gt;雷神&lt;/em&gt;&lt;em&gt;2&lt;/em&gt; 黑暗世界[蓝光原盘DiY简繁中文字幕+简英繁英双字幕]Thor.The.Dark.World.2013.BluRay.10\">[www.BTVBT.com]<em>雷神</em><em>2</em> 黑暗世界[蓝光原盘DiY简繁中文字幕+简英繁英双字幕]Thor.The.Dark.World.2013.BluRay.10</a>\n",
       "<span class=\"h\">Hash:f353fded2fb4c690f3b976f7f94b41eed1658f99</span>\n",
       "<span>Create Time：<b>4 year ago</b> File Size：<b>13214MB</b></span>\n",
       "<span></span>\n",
       "</li>\n",
       "<li>\n",
       "<a href=\"/hash-924995.htm\" title=\"飞鸟娱乐(bbs.hdbird.com).&lt;em&gt;雷神&lt;/em&gt;&lt;em&gt;2&lt;/em&gt;：黑暗世界.720p.国英双语\">飞鸟娱乐(bbs.hdbird.com).<em>雷神</em><em>2</em>：黑暗世界.720p.国英双语</a>\n",
       "<span class=\"h\">Hash:4cecc5cf6740ec5761194954535e62c51ccf4691</span>\n",
       "<span>Create Time：<b>4 year ago</b> File Size：<b>2048MB</b></span>\n",
       "<span></span>\n",
       "</li>\n",
       "<li>\n",
       "<a href=\"/hash-909264.htm\" title=\"【倩影翩翩www.71pp.net】&lt;em&gt;雷神&lt;/em&gt;&lt;em&gt;2&lt;/em&gt;：黑暗世界.BD1280高清特效中英双字.rmvb\">【倩影翩翩www.71pp.net】<em>雷神</em><em>2</em>：黑暗世界.BD1280高清特效中英双字.rmvb</a>\n",
       "<span class=\"h\">Hash:0adc4f603eb55589c063d8471718c619acc5710c</span>\n",
       "<span>Create Time：<b>4 year ago</b> File Size：<b>1209MB</b></span>\n",
       "<span></span>\n",
       "</li>\n",
       "<li>\n",
       "<a href=\"/hash-904958.htm\" title=\"飞鸟娱乐(bbs.hdbird.com).&lt;em&gt;雷神&lt;/em&gt;&lt;em&gt;2&lt;/em&gt;：黑暗世界1280x720版\">飞鸟娱乐(bbs.hdbird.com).<em>雷神</em><em>2</em>：黑暗世界1280x720版</a>\n",
       "<span class=\"h\">Hash:252833f3340cfafa63a467f56730e120566402b4</span>\n",
       "<span>Create Time：<b>4 year ago</b> File Size：<b>1572MB</b></span>\n",
       "<span></span>\n",
       "</li>\n",
       "<li>\n",
       "<a href=\"/hash-903798.htm\" title=\"&lt;em&gt;雷神&lt;/em&gt;&lt;em&gt;2&lt;/em&gt;.黑暗世界.Thor.The.Dark.World.2013.WEB-MP4-原创翻译中英双语字幕.mp4\"><em>雷神</em><em>2</em>.黑暗世界.Thor.The.Dark.World.2013.WEB-MP4-原创翻译中英双语字幕.mp4</a>\n",
       "<span class=\"h\">Hash:0d171cef44000196c0f0bd41aec80dd80bdb1ccd</span>\n",
       "<span>Create Time：<b>4 year ago</b> File Size：<b>642MB</b></span>\n",
       "<span></span>\n",
       "</li>\n",
       "</ul>\n",
       "<div class=\"w100 pagination fl pl10\"><li class=\"page-item active\"><a class=\"page-link\" href=\"/search.htm?q=%E9%9B%B7%E7%A5%9E2&amp;p=1\">1</a></li><li class=\"page-item\"><a class=\"page-link\" href=\"/search.htm?q=%E9%9B%B7%E7%A5%9E2&amp;p=2\">2</a></li><li class=\"page-item\"><a class=\"page-link\" href=\"/search.htm?q=%E9%9B%B7%E7%A5%9E2&amp;p=3\">3</a></li><li class=\"page-item\"><a class=\"page-link\" href=\"/search.htm?q=%E9%9B%B7%E7%A5%9E2&amp;p=4\">4</a></li><li class=\"page-item\"><a class=\"page-link\" href=\"/search.htm?q=%E9%9B%B7%E7%A5%9E2&amp;p=5\">5</a></li><li class=\"page-item\"><a class=\"page-link\" href=\"/search.htm?q=%E9%9B%B7%E7%A5%9E2&amp;p=6\">6</a></li><li class=\"page-item\"><a class=\"page-link\" href=\"/search.htm?q=%E9%9B%B7%E7%A5%9E2&amp;p=7\">7</a></li><li class=\"page-item\"><a class=\"page-link\" href=\"/search.htm?q=%E9%9B%B7%E7%A5%9E2&amp;p=8\">8</a></li><li class=\"page-item\"><a class=\"page-link\" href=\"/search.htm?q=%E9%9B%B7%E7%A5%9E2&amp;p=9\">9</a></li><li class=\"page-item\"><a class=\"page-link\" href=\"/search.htm?q=%E9%9B%B7%E7%A5%9E2&amp;p=10\">10</a></li><li class=\"page-item\"><a class=\"page-link\" href=\"/search.htm?q=%E9%9B%B7%E7%A5%9E2&amp;p=5445\">... 5445</a></li><li class=\"page-item\"><a class=\"page-link\" href=\"/search.htm?q=%E9%9B%B7%E7%A5%9E2&amp;p=2\">▶</a></li></div>\n",
       "</div>\n",
       "<div class=\"r-box fr\">\n",
       "<ul class=\"pl10 r-ul\">\n",
       "<strong>大家都在搜：</strong>\n",
       "<a href=\"/tags.htm\">更多&gt;&gt;</a>\n",
       "</ul>\n",
       "</div>\n",
       "</div>\n",
       "</div>\n",
       "<div class=\"footer fl\">\n",
       "<div class=\"nav_bot\">\n",
       "<small>©2017 \n",
       "\t<a href=\"http://www.btbook.me\" title=\"btbook\">btbook</a>\n",
       "<a href=\"/dmca.htm\" rel=\"nofollow\">DMCA</a></small>\n",
       "<!-- <script type=\"text/javascript\" src=\"/view/css/yong.js\"></script> -->\n",
       "<span><script language=\"JavaScript\" src=\"http://s4.cnzz.com/stat.php?id=1255667073&amp;web_id=1255667073\"></script></span>\n",
       "<script type=\"text/javascript\">\n",
       "(function(){\n",
       "    var bp = document.createElement('script');\n",
       "    bp.src = '//push.zhanzhang.baidu.com/push.js';\n",
       "    var s = document.getElementsByTagName(\"script\")[0];\n",
       "    s.parentNode.insertBefore(bp, s);\n",
       "})();\n",
       "</script>\n",
       "</div>\n",
       "</div>\n",
       "</body>\n",
       "</html>"
      ]
     },
     "execution_count": 102,
     "metadata": {},
     "output_type": "execute_result"
    }
   ],
   "source": [
    "bstar"
   ]
  },
  {
   "cell_type": "code",
   "execution_count": null,
   "metadata": {
    "collapsed": true
   },
   "outputs": [],
   "source": [
    "bstar.find_all()"
   ]
  }
 ],
 "metadata": {
  "kernelspec": {
   "display_name": "Python3.5",
   "language": "python",
   "name": "python35"
  },
  "language_info": {
   "codemirror_mode": {
    "name": "ipython",
    "version": 3
   },
   "file_extension": ".py",
   "mimetype": "text/x-python",
   "name": "python",
   "nbconvert_exporter": "python",
   "pygments_lexer": "ipython3",
   "version": "3.5.4"
  }
 },
 "nbformat": 4,
 "nbformat_minor": 2
}
