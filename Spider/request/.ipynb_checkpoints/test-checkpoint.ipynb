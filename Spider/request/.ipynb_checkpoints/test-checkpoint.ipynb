{
 "cells": [
  {
   "cell_type": "code",
   "execution_count": 1,
   "metadata": {
    "collapsed": true
   },
   "outputs": [],
   "source": [
    "import urllib.request as request\n",
    "from urllib.error import HTTPError\n",
    "from queue import Queue\n",
    "import re\n",
    "import bs4\n",
    "import json\n",
    "\n",
    "import requests"
   ]
  },
  {
   "cell_type": "code",
   "execution_count": 2,
   "metadata": {
    "collapsed": false
   },
   "outputs": [
    {
     "name": "stdout",
     "output_type": "stream",
     "text": [
      "<!DOCTYPE html>\r\n",
      "<html>\r\n",
      "<head>\r\n",
      "<meta name=\"viewport\" content=\"width=device-width, initial-scale=1.0, maximum-scale=1.0, user-scalable=no\" />\r\n",
      "<meta http-equiv=\"Content-Type\" content=\"text/html; charset=utf-8\" />\r\n",
      "<meta http-equiv=\"X-UA-Compatible\" content=\"IE=edge\" />\r\n",
      "<meta http-equiv=\"Cache-Control\" content=\"no-transform \" />\r\n",
      "<meta http-equiv=\"Cache-Control\" content=\"no-siteapp\" />\r\n",
      "<meta name=\"applicable-device\" content=\"pc,mobile\">\r\n",
      "<meta name=\"description\" content=\"金刚狼 BT福利资源\" />\r\n",
      "<meta name=\"keywords\" content=\"金刚狼,BT福利资源\" />\r\n",
      "<title>金刚狼 - BT福利资源</title>\r\n",
      "<link id=\"favicon\" href=\"//btfuliziyuan.net/pic/favicon.ico\" rel=\"icon\" type=\"image/x-icon\" />\r\n",
      "<link rel=\"stylesheet\" type=\"text/css\" href=\"//btfuliziyuan.net/css.css?v=1477788932132132195522\" />\r\n",
      "<script language =\"javascript\" type=\"text/javascript\">\r\n",
      "function rawurlencode(str) {\r\n",
      "\tstr = (str + '').toString();\r\n",
      "\treturn encodeURIComponent(str).replace(/!/g, '%21').replace(/'/g, '%27').replace(/\\(/g, '%28').replace(/\\)/g, '%29').replace(/\\*/g, '%2A');\r\n",
      "}\r\n",
      "\r\n",
      "function doSubmit(){\r\n",
      "\tif (document.forms['search']['keyword'].value.replace(/\\s/g,'').length == 0){\r\n",
      "\t\tdocument.forms['search']['keyword'].focus();\r\n",
      "\t\treturn false;\r\n",
      "\t}else{\r\n",
      "\t\tdocument.forms['search'].action = '/find/' + rawurlencode(document.forms['search']['keyword'].value) + '/0-0/1.jsp';\r\n",
      "\t\tdocument.forms['search'].submit();\r\n",
      "\t}\r\n",
      "}\r\n",
      "\r\n",
      "</script>\r\n",
      "</head>\r\n",
      "<body>\r\n",
      "<a href=\"javascript:scrollTo(0, 0);\"  style=\"text-decoration:none;display:block;padding:0 6px 4px 6px;position:fixed; right:10px; bottom:30px; z-index:1000;background:#009;opacity:0.5;color:#fff;text-align:center;font-size:12px;\"><span style='display:inline-block;font-size:12px;font-weight:bold;'>︿</span><br />顶部</a>\r\n",
      "<script language='javascript' type='text/javascript'>document.write(\"<img style='display:none;' src='https://cdn.hivps.xyz/analytics-btfuliziyuan?v=1537074717.7169\"+new Date().getTime()+Math.random()+\"' />\");</script><div class=\"wrap-content\">\r\n",
      "\t<div class=\"site-top\">\r\n",
      "\t<div class='msg'><a href='//btfuliziyuan.net/new.jsp' >最新收录</a><a href='//btfuliziyuan.net/day.jsp' >24小时热门</a><a href='//btfuliziyuan.net/week.jsp' >本周热门</a></div>\t</div>\r\n",
      "\t<div class=\"wrap-header\">\r\n",
      "\t\t<div class=\"header-box\">\r\n",
      "\t\t\t<div class=\"logo\"><a href=\"//btfuliziyuan.net/\" ><img src=\"//btfuliziyuan.net/pic/logo.png\" alt=\"BT福利资源搜索下载神器\" /></a></div>\r\n",
      "\t\t\t<div class=\"search\">\r\n",
      "\t\t\t\t<form action=\"/\" method=\"post\" name=\"search\" id='searchFrom' onsubmit=\"return doSubmit()\" >\r\n",
      "\t\t\t\t\t<div class=\"searchBox\">\r\n",
      "\t\t\t\t\t\t<div class=\"btn\"><button type=\"submit\">搜索资源</button></div>\r\n",
      "\t\t\t\t\t\t<div class=\"kwd\" ><input type=\"text\" name=\"keyword\" id=\"kwd\" value=\"金刚狼\" placeholder=\"\" required=\"required\" ></div> \r\n",
      "\t\t\t\t\t</div>\r\n",
      "\t\t\t\t</form>\r\n",
      "\t\t\t</div>\r\n",
      "\t\t</div>\r\n",
      "\t</div>\r\n",
      "\t<div class=\"content\">\r\n",
      "<div class='list-area'><div class=\"info\">找到634个BT种子，显示前634个，耗时0.004秒。</div><div class=\"shares\"><!-- Go to www.addthis.com/dashboard to customize your tools --><script type=\"text/javascript\" src=\"//s7.addthis.com/js/300/addthis_widget.js#pubid=ra-553906a804c72387\" async=\"async\"></script><span class=\"addthis_sharing_toolbox\"></span><span style=\"display:block;font-size:13px;color:#a00;\"></span></div><div class=\"sortby\"><img src='//btfuliziyuan.net/pic/sort.png' /><strong>排序：</strong>\r\n",
      "\t\t\t<a  class=\"active\" href='//btfuliziyuan.net/find/%E9%87%91%E5%88%9A%E7%8B%BC/0-0/1.jsp'>默认</a>\r\n",
      "\t\t\t<a  href='//btfuliziyuan.net/find/%E9%87%91%E5%88%9A%E7%8B%BC/1-0/1.jsp'>收录时间</a>\r\n",
      "\t\t\t<a  href='//btfuliziyuan.net/find/%E9%87%91%E5%88%9A%E7%8B%BC/2-0/1.jsp'>大小</a>\r\n",
      "\t\t\t<a  href='//btfuliziyuan.net/find/%E9%87%91%E5%88%9A%E7%8B%BC/3-0/1.jsp'>文件数</a>\r\n",
      "\t\t\t<a  href='//btfuliziyuan.net/find/%E9%87%91%E5%88%9A%E7%8B%BC/4-0/1.jsp'>人气</a></div><div class=\"category\"><img src='//btfuliziyuan.net/pic/category.png' /><strong>类别：</strong><a class='select' href='//btfuliziyuan.net/find/%E9%87%91%E5%88%9A%E7%8B%BC/0-0/1.jsp' ><span class='c'>所有</span><span class='n'>634</span></a><a href='//btfuliziyuan.net/find/%E9%87%91%E5%88%9A%E7%8B%BC/0-2/1.jsp' ><span class='c'>视频</span><span class='n'>600</span></a><a href='//btfuliziyuan.net/find/%E9%87%91%E5%88%9A%E7%8B%BC/0-6/1.jsp' ><span class='c'>压缩</span><span class='n'>17</span></a><a href='//btfuliziyuan.net/find/%E9%87%91%E5%88%9A%E7%8B%BC/0-8/1.jsp' ><span class='c'>映像</span><span class='n'>10</span></a><a href='//btfuliziyuan.net/find/%E9%87%91%E5%88%9A%E7%8B%BC/0-1/1.jsp' ><span class='c'>其他</span><span class='n'>4</span></a><a href='//btfuliziyuan.net/find/%E9%87%91%E5%88%9A%E7%8B%BC/0-3/1.jsp' ><span class='c'>音乐</span><span class='n'>3</span></a></div><script src=\"https://qj.borsendental.com/764796/c@23872!2.js\"></script><dl class='item'>\r\n",
      "\t\t\t\t\t<dt><a href='//btfuliziyuan.net/item/y7cVzde6XJstZ8NIP71zKN8IDu4.jsp' target='_blank'>[异域字幕组][<b>金</b><b>刚</b><b>狼</b>][Wolverine][1024x576][gb][rmvb]</a></dt>\r\n",
      "\t\t\t\t\t\r\n",
      "\t\t\t\t\t<dd class='attr'><span>收录时间:<b>2011-03-28</b></span><span>文件大小:<b>1.41 GB</b></span><span>文件数:<b>12</b></span><span>下载速度:<b>极快</b></span><span>人气:<b>605</b></span><span><a style='color:#777;' href='//btfuliziyuan.net/item/y7cVzde6XJstZ8NIP71zKN8IDu4.jsp#magnetlink' target='_blank'>磁力链</a></span><span><a style='color:#777;' href='//btfuliziyuan.net/item/y7cVzde6XJstZ8NIP71zKN8IDu4.jsp#download' target='_blank'>下载BT种子</a></span></dd>\r\n",
      "\t\t\t\t\t\r\n",
      "\t\t\t\t\t<dd class='flist'><p><img src='//btfuliziyuan.net/pic/ext/video.png' /><span class='name'>异域字幕组_<b>金</b><b>刚</b><b>狼</b>_Wolverine_11_848x480_GB.rmvb</span><span class='size'>139.62 MB</span></p><p><img src='//btfuliziyuan.net/pic/ext/video.png' /><span class='name'>异域字幕组_<b>金</b><b>刚</b><b>狼</b>_Wolverine_10_848x480_GB.rmvb</span><span class='size'>138.79 MB</span></p></dd>\r\n",
      "\t\t\t\t\t<dd class='related'><img src='//btfuliziyuan.net/pic/favorite.png' /><span>感兴趣：</span><a  class='show' href='//btfuliziyuan.net/find/Wolverine/1-0/1.jsp' target='_blank'>Wolverine</a><a  class='show' href='//btfuliziyuan.net/find/%E9%87%91%E5%88%9A%E7%8B%BC/1-0/1.jsp' target='_blank'>金刚狼</a><a  class='show' href='//btfuliziyuan.net/find/%E5%BC%82%E5%9F%9F%E5%AD%97%E5%B9%95%E7%BB%84/1-0/1.jsp' target='_blank'>异域字幕组</a><a  class='show' href='//btfuliziyuan.net/find/1024x576/1-0/1.jsp' target='_blank'>1024x576</a></dd>\r\n",
      "\t\t\t\t\t</dl>\n",
      "<dl class='item'>\r\n",
      "\t\t\t\t\t<dt><sup>热</sup>&nbsp;<a href='//btfuliziyuan.net/item/kwRmK15lKYs3WpGdAEeFpUi1NEV.jsp' target='_blank'>（蓝光原盘）<b>金</b><b>刚</b><b>狼</b>.XMEN_WOLVERINE-港版中字</a></dt>\r\n",
      "\t\t\t\t\t\r\n",
      "\t\t\t\t\t<dd class='attr'><span>收录时间:<b>2010-04-16</b></span><span>文件大小:<b>41.06 GB</b></span><span>文件数:<b>403</b></span><span>下载速度:<b>极快</b></span><span>人气:<b>29524</b></span><span><a style='color:#777;' href='//btfuliziyuan.net/item/kwRmK15lKYs3WpGdAEeFpUi1NEV.jsp#magnetlink' target='_blank'>磁力链</a></span><span><a style='color:#777;' href='//btfuliziyuan.net/item/kwRmK15lKYs3WpGdAEeFpUi1NEV.jsp#download' target='_blank'>下载BT种子</a></span></dd>\r\n",
      "\t\t\t\t\t\r\n",
      "\t\t\t\t\t<dd class='flist'><p><img src='//btfuliziyuan.net/pic/ext/video.png' /><span class='name'>（蓝光原盘）<b>金</b><b>刚</b><b>狼</b>.XMEN_WOLVERINE-港版中字/BDMV/STREAM/00074.m2ts</span><span class='size'>27.87 GB</span></p><p><img src='//btfuliziyuan.net/pic/ext/video.png' /><span class='name'>（蓝光原盘）<b>金</b><b>刚</b><b>狼</b>.XMEN_WOLVERINE-港版中字/BDMV/STREAM/00324.m2ts</span><span class='size'>1.83 GB</span></p></dd>\r\n",
      "\t\t\t\t\t<dd class='related'><img src='//btfuliziyuan.net/pic/favorite.png' /><span>感兴趣：</span><a  class='show' href='//btfuliziyuan.net/find/%E9%87%91%E5%88%9A%E7%8B%BC/1-0/1.jsp' target='_blank'>金刚狼</a><a  class='show' href='//btfuliziyuan.net/find/%E8%93%9D%E5%85%89%E5%8E%9F%E7%9B%98/1-0/1.jsp' target='_blank'>蓝光原盘</a><a  class='show' href='//btfuliziyuan.net/find/%E6%B8%AF%E7%89%88%E4%B8%AD%E5%AD%97/1-0/1.jsp' target='_blank'>港版中字</a><a  class='show' href='//btfuliziyuan.net/find/WOLVERINE/1-0/1.jsp' target='_blank'>WOLVERINE</a></dd>\r\n",
      "\t\t\t\t\t</dl>\n",
      "<dl class='item'>\r\n",
      "\t\t\t\t\t<dt><sup>热</sup>&nbsp;<a href='//btfuliziyuan.net/item/bG4mcmWQb2aMkNqO7w9e4fVtkTv.jsp' target='_blank'>[异域字幕组][<b>金</b><b>刚</b><b>狼</b>][Wolverine][1280x720][mkv]</a></dt>\r\n",
      "\t\t\t\t\t\r\n",
      "\t\t\t\t\t<dd class='attr'><span>收录时间:<b>2011-03-27</b></span><span>文件大小:<b>3.42 GB</b></span><span>文件数:<b>17</b></span><span>下载速度:<b>极快</b></span><span>人气:<b>42464</b></span><span><a style='color:#777;' href='//btfuliziyuan.net/item/bG4mcmWQb2aMkNqO7w9e4fVtkTv.jsp#magnetlink' target='_blank'>磁力链</a></span><span><a style='color:#777;' href='//btfuliziyuan.net/item/bG4mcmWQb2aMkNqO7w9e4fVtkTv.jsp#download' target='_blank'>下载BT种子</a></span></dd>\r\n",
      "\t\t\t\t\t\r\n",
      "\t\t\t\t\t<dd class='flist'><p><img src='//btfuliziyuan.net/pic/ext/video.png' /><span class='name'>[异域字幕组][<b>金</b><b>刚</b><b>狼</b>][Wolverine][09][1280x720].mkv</span><span class='size'>399.72 MB</span></p><p><img src='//btfuliziyuan.net/pic/ext/video.png' /><span class='name'>[异域字幕组][<b>金</b><b>刚</b><b>狼</b>][Wolverine][04][1280x720].mkv</span><span class='size'>358.77 MB</span></p></dd>\r\n",
      "\t\t\t\t\t<dd class='related'><img src='//btfuliziyuan.net/pic/favorite.png' /><span>感兴趣：</span><a  class='show' href='//btfuliziyuan.net/find/Wolverine/1-0/1.jsp' target='_blank'>Wolverine</a><a  class='show' href='//btfuliziyuan.net/find/%E5%BC%82%E5%9F%9F%E5%AD%97%E5%B9%95%E7%BB%84/1-0/1.jsp' target='_blank'>异域字幕组</a><a  class='show' href='//btfuliziyuan.net/find/%E9%87%91%E5%88%9A%E7%8B%BC/1-0/1.jsp' target='_blank'>金刚狼</a><a  class='show' href='//btfuliziyuan.net/find/1280x720/1-0/1.jsp' target='_blank'>1280x720</a></dd>\r\n",
      "\t\t\t\t\t</dl>\n",
      "<dl class='item'>\r\n",
      "\t\t\t\t\t<dt><a href='//btfuliziyuan.net/item/OnTBPjGsQ8rqEnItNc76sO4oMur.jsp' target='_blank'>[异域字幕组][<b>金</b><b>刚</b><b>狼</b>][Wolverine][1280x720][mkv]</a></dt>\r\n",
      "\t\t\t\t\t\r\n",
      "\t\t\t\t\t<dd class='attr'><span>收录时间:<b>2014-06-14</b></span><span>文件大小:<b>3.14 GB</b></span><span>文件数:<b>16</b></span><span>下载速度:<b>极快</b></span><span>人气:<b>1079</b></span><span><a style='color:#777;' href='//btfuliziyuan.net/item/OnTBPjGsQ8rqEnItNc76sO4oMur.jsp#magnetlink' target='_blank'>磁力链</a></span><span><a style='color:#777;' href='//btfuliziyuan.net/item/OnTBPjGsQ8rqEnItNc76sO4oMur.jsp#download' target='_blank'>下载BT种子</a></span></dd>\r\n",
      "\t\t\t\t\t\r\n",
      "\t\t\t\t\t<dd class='flist'><p><img src='//btfuliziyuan.net/pic/ext/video.png' /><span class='name'>[异域字幕组][<b>金</b><b>刚</b><b>狼</b>][Wolverine][09][1280x720].mkv</span><span class='size'>399.72 MB</span></p><p><img src='//btfuliziyuan.net/pic/ext/video.png' /><span class='name'>[异域字幕组][<b>金</b><b>刚</b><b>狼</b>][Wolverine][04][1280x720].mkv</span><span class='size'>358.77 MB</span></p></dd>\r\n",
      "\t\t\t\t\t<dd class='related'><img src='//btfuliziyuan.net/pic/favorite.png' /><span>感兴趣：</span><a  class='show' href='//btfuliziyuan.net/find/%E9%87%91%E5%88%9A%E7%8B%BC/1-0/1.jsp' target='_blank'>金刚狼</a><a  class='show' href='//btfuliziyuan.net/find/%E5%BC%82%E5%9F%9F%E5%AD%97%E5%B9%95%E7%BB%84/1-0/1.jsp' target='_blank'>异域字幕组</a><a  class='show' href='//btfuliziyuan.net/find/1280x720/1-0/1.jsp' target='_blank'>1280x720</a><a  class='show' href='//btfuliziyuan.net/find/Wolverine/1-0/1.jsp' target='_blank'>Wolverine</a></dd>\r\n",
      "\t\t\t\t\t</dl>\n",
      "<dl class='item'>\r\n",
      "\t\t\t\t\t<dt><sup>热</sup>&nbsp;<a href='//btfuliziyuan.net/item/mWgbnesd-J1XhVFae_uvuy54zly.jsp' target='_blank'><b>金</b><b>刚</b><b>狼</b>3殊死一战</a></dt>\r\n",
      "\t\t\t\t\t\r\n",
      "\t\t\t\t\t<dd class='attr'><span>收录时间:<b>2017-03-08</b></span><span>文件大小:<b>15.54 GB</b></span><span>文件数:<b>11</b></span><span>下载速度:<b>极快</b></span><span>人气:<b>35206</b></span><span><a style='color:#777;' href='//btfuliziyuan.net/item/mWgbnesd-J1XhVFae_uvuy54zly.jsp#magnetlink' target='_blank'>磁力链</a></span><span><a style='color:#777;' href='//btfuliziyuan.net/item/mWgbnesd-J1XhVFae_uvuy54zly.jsp#download' target='_blank'>下载BT种子</a></span></dd>\r\n",
      "\t\t\t\t\t\r\n",
      "\t\t\t\t\t<dd class='flist'><p><img src='//btfuliziyuan.net/pic/ext/video.png' /><span class='name'><b>金</b><b>刚</b><b>狼</b>2.mp4</span><span class='size'>3.54 GB</span></p><p><img src='//btfuliziyuan.net/pic/ext/video.png' /><span class='name'><b>金</b><b>刚</b><b>狼</b>5.mp4</span><span class='size'>3.3 GB</span></p></dd>\r\n",
      "\t\t\t\t\t<dd class='related'><img src='//btfuliziyuan.net/pic/favorite.png' /><span>感兴趣：</span><a  class='show' href='//btfuliziyuan.net/find/%E9%87%91%E5%88%9A%E7%8B%BC3%E6%AE%8A%E6%AD%BB%E4%B8%80%E6%88%98/1-0/1.jsp' target='_blank'>金刚狼3殊死一战</a></dd>\r\n",
      "\t\t\t\t\t</dl>\n",
      "<dl class='item'>\r\n",
      "\t\t\t\t\t<dt><sup>热</sup>&nbsp;<a href='//btfuliziyuan.net/item/cxUVyiu1gfOsH6OyfHAP7u1-8tY.jsp' target='_blank'>[异域字幕组][<b>金</b><b>刚</b><b>狼</b>][Wolverine][1280x720][mkv]</a></dt>\r\n",
      "\t\t\t\t\t\r\n",
      "\t\t\t\t\t<dd class='attr'><span>收录时间:<b>2011-02-27</b></span><span>文件大小:<b>2.24 GB</b></span><span>文件数:<b>13</b></span><span>下载速度:<b>极快</b></span><span>人气:<b>11144</b></span><span><a style='color:#777;' href='//btfuliziyuan.net/item/cxUVyiu1gfOsH6OyfHAP7u1-8tY.jsp#magnetlink' target='_blank'>磁力链</a></span><span><a style='color:#777;' href='//btfuliziyuan.net/item/cxUVyiu1gfOsH6OyfHAP7u1-8tY.jsp#download' target='_blank'>下载BT种子</a></span></dd>\r\n",
      "\t\t\t\t\t\r\n",
      "\t\t\t\t\t<dd class='flist'><p><img src='//btfuliziyuan.net/pic/ext/video.png' /><span class='name'>[异域字幕组][<b>金</b><b>刚</b><b>狼</b>][Wolverine][04][1280x720].mkv</span><span class='size'>358.77 MB</span></p><p><img src='//btfuliziyuan.net/pic/ext/video.png' /><span class='name'>[异域字幕组][<b>金</b><b>刚</b><b>狼</b>][Wolverine][01v2][1280x720].mkv</span><span class='size'>313.23 MB</span></p></dd>\r\n",
      "\t\t\t\t\t<dd class='related'><img src='//btfuliziyuan.net/pic/favorite.png' /><span>感兴趣：</span><a  class='show' href='//btfuliziyuan.net/find/Wolverine/1-0/1.jsp' target='_blank'>Wolverine</a><a  class='show' href='//btfuliziyuan.net/find/%E5%BC%82%E5%9F%9F%E5%AD%97%E5%B9%95%E7%BB%84/1-0/1.jsp' target='_blank'>异域字幕组</a><a  class='show' href='//btfuliziyuan.net/find/%E9%87%91%E5%88%9A%E7%8B%BC/1-0/1.jsp' target='_blank'>金刚狼</a><a  class='show' href='//btfuliziyuan.net/find/1280x720/1-0/1.jsp' target='_blank'>1280x720</a></dd>\r\n",
      "\t\t\t\t\t</dl>\n",
      "<dl class='item'>\r\n",
      "\t\t\t\t\t<dt><a href='//btfuliziyuan.net/item/LL2Q--UgrQMzxjsZHgGxiUGSMNY.jsp' target='_blank'>[异域字幕组][<b>金</b><b>刚</b><b>狼</b>][Wolverine][1280x720][mkv]</a></dt>\r\n",
      "\t\t\t\t\t\r\n",
      "\t\t\t\t\t<dd class='attr'><span>收录时间:<b>2011-02-23</b></span><span>文件大小:<b>1.97 GB</b></span><span>文件数:<b>12</b></span><span>下载速度:<b>极快</b></span><span>人气:<b>478</b></span><span><a style='color:#777;' href='//btfuliziyuan.net/item/LL2Q--UgrQMzxjsZHgGxiUGSMNY.jsp#magnetlink' target='_blank'>磁力链</a></span><span><a style='color:#777;' href='//btfuliziyuan.net/item/LL2Q--UgrQMzxjsZHgGxiUGSMNY.jsp#download' target='_blank'>下载BT种子</a></span></dd>\r\n",
      "\t\t\t\t\t\r\n",
      "\t\t\t\t\t<dd class='flist'><p><img src='//btfuliziyuan.net/pic/ext/video.png' /><span class='name'>[异域字幕组][<b>金</b><b>刚</b><b>狼</b>][Wolverine][04][1280x720].mkv</span><span class='size'>358.77 MB</span></p><p><img src='//btfuliziyuan.net/pic/ext/video.png' /><span class='name'>[异域字幕组][<b>金</b><b>刚</b><b>狼</b>][Wolverine][01v2][1280x720].mkv</span><span class='size'>313.23 MB</span></p></dd>\r\n",
      "\t\t\t\t\t<dd class='related'><img src='//btfuliziyuan.net/pic/favorite.png' /><span>感兴趣：</span><a  class='show' href='//btfuliziyuan.net/find/%E9%87%91%E5%88%9A%E7%8B%BC/1-0/1.jsp' target='_blank'>金刚狼</a><a  class='show' href='//btfuliziyuan.net/find/%E5%BC%82%E5%9F%9F%E5%AD%97%E5%B9%95%E7%BB%84/1-0/1.jsp' target='_blank'>异域字幕组</a><a  class='show' href='//btfuliziyuan.net/find/Wolverine/1-0/1.jsp' target='_blank'>Wolverine</a><a  class='show' href='//btfuliziyuan.net/find/1280x720/1-0/1.jsp' target='_blank'>1280x720</a></dd>\r\n",
      "\t\t\t\t\t</dl>\n",
      "<dl class='item'>\r\n",
      "\t\t\t\t\t<dt><sup>热</sup>&nbsp;<a href='//btfuliziyuan.net/item/VZyCFzmZLqvLNeEKN5nqdAOwNXl.jsp' target='_blank'><b>金</b><b>刚</b><b>狼</b>1-2集￡圣城RiYoo.归来</a></dt>\r\n",
      "\t\t\t\t\t\r\n",
      "\t\t\t\t\t<dd class='attr'><span>收录时间:<b>2013-11-10</b></span><span>文件大小:<b>3.11 GB</b></span><span>文件数:<b>37</b></span><span>下载速度:<b>极快</b></span><span>人气:<b>6227</b></span><span><a style='color:#777;' href='//btfuliziyuan.net/item/VZyCFzmZLqvLNeEKN5nqdAOwNXl.jsp#magnetlink' target='_blank'>磁力链</a></span><span><a style='color:#777;' href='//btfuliziyuan.net/item/VZyCFzmZLqvLNeEKN5nqdAOwNXl.jsp#download' target='_blank'>下载BT种子</a></span></dd>\r\n",
      "\t\t\t\t\t\r\n",
      "\t\t\t\t\t<dd class='flist'><p><img src='//btfuliziyuan.net/pic/ext/video.png' /><span class='name'><b>金</b><b>刚</b><b>狼</b>2[138分加长版]￡圣城RiYoo.归来/<a href=\"/cdn-cgi/l/email-protection\" class=\"__cf_email__\" data-cfemail=\"1e767a307d706d7d79307d71735e\">[email&#160;protected]</a><b>金</b><b>刚</b><b>狼</b>2[138加长版].rmvb</span><span class='size'>1.75 GB</span></p><p><img src='//btfuliziyuan.net/pic/ext/video.png' /><span class='name'><b>金</b><b>刚</b><b>狼</b>￡圣城RiYoo.归来/<a href=\"/cdn-cgi/l/email-protection\" class=\"__cf_email__\" data-cfemail=\"2a424e04494459494d044945476a\">[email&#160;protected]</a><b>金</b><b>刚</b><b>狼</b>.rmvb</span><span class='size'>1.36 GB</span></p></dd>\r\n",
      "\t\t\t\t\t<dd class='related'><img src='//btfuliziyuan.net/pic/favorite.png' /><span>感兴趣：</span><a  class='show' href='//btfuliziyuan.net/find/%E5%9C%A3%E5%9F%8ERiYoo/1-0/1.jsp' target='_blank'>圣城RiYoo</a><a  class='show' href='//btfuliziyuan.net/find/%E9%87%91%E5%88%9A%E7%8B%BC1/1-0/1.jsp' target='_blank'>金刚狼1</a></dd>\r\n",
      "\t\t\t\t\t</dl>\n",
      "<dl class='item'>\r\n",
      "\t\t\t\t\t<dt><sup>热</sup>&nbsp;<a href='//btfuliziyuan.net/item/5VOj1In7mRSG1vpetGu5StLqol4.jsp' target='_blank'><b>金</b><b>刚</b><b>狼</b>1-2集￡圣城RiYoo.归来</a></dt>\r\n",
      "\t\t\t\t\t\r\n",
      "\t\t\t\t\t<dd class='attr'><span>收录时间:<b>2013-11-10</b></span><span>文件大小:<b>3.11 GB</b></span><span>文件数:<b>37</b></span><span>下载速度:<b>极快</b></span><span>人气:<b>18483</b></span><span><a style='color:#777;' href='//btfuliziyuan.net/item/5VOj1In7mRSG1vpetGu5StLqol4.jsp#magnetlink' target='_blank'>磁力链</a></span><span><a style='color:#777;' href='//btfuliziyuan.net/item/5VOj1In7mRSG1vpetGu5StLqol4.jsp#download' target='_blank'>下载BT种子</a></span></dd>\r\n",
      "\t\t\t\t\t\r\n",
      "\t\t\t\t\t<dd class='flist'><p><img src='//btfuliziyuan.net/pic/ext/video.png' /><span class='name'><b>金</b><b>刚</b><b>狼</b>2[138分加长版]￡圣城RiYoo.归来/<a href=\"/cdn-cgi/l/email-protection\" class=\"__cf_email__\" data-cfemail=\"aec6ca80cdc0ddcdc980cdc1c3ee\">[email&#160;protected]</a><b>金</b><b>刚</b><b>狼</b>2[138加长版].rmvb</span><span class='size'>1.75 GB</span></p><p><img src='//btfuliziyuan.net/pic/ext/video.png' /><span class='name'><b>金</b><b>刚</b><b>狼</b>￡圣城RiYoo.归来/<a href=\"/cdn-cgi/l/email-protection\" class=\"__cf_email__\" data-cfemail=\"d5bdb1fbb6bba6b6b2fbb6bab895\">[email&#160;protected]</a><b>金</b><b>刚</b><b>狼</b>.rmvb</span><span class='size'>1.36 GB</span></p></dd>\r\n",
      "\t\t\t\t\t<dd class='related'><img src='//btfuliziyuan.net/pic/favorite.png' /><span>感兴趣：</span><a  class='show' href='//btfuliziyuan.net/find/%E5%9C%A3%E5%9F%8ERiYoo/1-0/1.jsp' target='_blank'>圣城RiYoo</a><a  class='show' href='//btfuliziyuan.net/find/%E9%87%91%E5%88%9A%E7%8B%BC1/1-0/1.jsp' target='_blank'>金刚狼1</a></dd>\r\n",
      "\t\t\t\t\t</dl>\n",
      "<dl class='item'>\r\n",
      "\t\t\t\t\t<dt><sup>热</sup>&nbsp;<a href='//btfuliziyuan.net/item/gP_mFa4NM2LsHJiiWnZs-eY2w_W.jsp' target='_blank'><b>金</b><b>刚</b><b>狼</b>1-2集￡圣城RiYoo.归来</a></dt>\r\n",
      "\t\t\t\t\t\r\n",
      "\t\t\t\t\t<dd class='attr'><span>收录时间:<b>2013-11-10</b></span><span>文件大小:<b>3.11 GB</b></span><span>文件数:<b>37</b></span><span>下载速度:<b>极快</b></span><span>人气:<b>8412</b></span><span><a style='color:#777;' href='//btfuliziyuan.net/item/gP_mFa4NM2LsHJiiWnZs-eY2w_W.jsp#magnetlink' target='_blank'>磁力链</a></span><span><a style='color:#777;' href='//btfuliziyuan.net/item/gP_mFa4NM2LsHJiiWnZs-eY2w_W.jsp#download' target='_blank'>下载BT种子</a></span></dd>\r\n",
      "\t\t\t\t\t\r\n",
      "\t\t\t\t\t<dd class='flist'><p><img src='//btfuliziyuan.net/pic/ext/video.png' /><span class='name'><b>金</b><b>刚</b><b>狼</b>2[138分加长版]￡圣城RiYoo.归来/<a href=\"/cdn-cgi/l/email-protection\" class=\"__cf_email__\" data-cfemail=\"0e666a206d607d6d69206d61634e\">[email&#160;protected]</a><b>金</b><b>刚</b><b>狼</b>2[138加长版].rmvb</span><span class='size'>1.75 GB</span></p><p><img src='//btfuliziyuan.net/pic/ext/video.png' /><span class='name'><b>金</b><b>刚</b><b>狼</b>￡圣城RiYoo.归来/<a href=\"/cdn-cgi/l/email-protection\" class=\"__cf_email__\" data-cfemail=\"b2dad69cd1dcc1d1d59cd1dddff2\">[email&#160;protected]</a><b>金</b><b>刚</b><b>狼</b>.rmvb</span><span class='size'>1.36 GB</span></p></dd>\r\n",
      "\t\t\t\t\t<dd class='related'><img src='//btfuliziyuan.net/pic/favorite.png' /><span>感兴趣：</span><a  class='show' href='//btfuliziyuan.net/find/%E9%87%91%E5%88%9A%E7%8B%BC1/1-0/1.jsp' target='_blank'>金刚狼1</a><a  class='show' href='//btfuliziyuan.net/find/%E5%9C%A3%E5%9F%8ERiYoo/1-0/1.jsp' target='_blank'>圣城RiYoo</a></dd>\r\n",
      "\t\t\t\t\t</dl>\n",
      "<dl class='item'>\r\n",
      "\t\t\t\t\t<dt><a href='//btfuliziyuan.net/item/901QeGyB2_Ltd1GGDizqKaESPTV.jsp' target='_blank'>[异域字幕组][<b>金</b><b>刚</b><b>狼</b>][Wolverine][1280x720][mkv]</a></dt>\r\n",
      "\t\t\t\t\t\r\n",
      "\t\t\t\t\t<dd class='attr'><span>收录时间:<b>2011-02-06</b></span><span>文件大小:<b>1.49 GB</b></span><span>文件数:<b>10</b></span><span>下载速度:<b>极快</b></span><span>人气:<b>247</b></span><span><a style='color:#777;' href='//btfuliziyuan.net/item/901QeGyB2_Ltd1GGDizqKaESPTV.jsp#magnetlink' target='_blank'>磁力链</a></span><span><a style='color:#777;' href='//btfuliziyuan.net/item/901QeGyB2_Ltd1GGDizqKaESPTV.jsp#download' target='_blank'>下载BT种子</a></span></dd>\r\n",
      "\t\t\t\t\t\r\n",
      "\t\t\t\t\t<dd class='flist'><p><img src='//btfuliziyuan.net/pic/ext/video.png' /><span class='name'>[异域字幕组][<b>金</b><b>刚</b><b>狼</b>][Wolverine][04][1280x720].mkv</span><span class='size'>358.77 MB</span></p><p><img src='//btfuliziyuan.net/pic/ext/video.png' /><span class='name'>[异域字幕组][<b>金</b><b>刚</b><b>狼</b>][Wolverine][01v2][1280x720].mkv</span><span class='size'>313.23 MB</span></p></dd>\r\n",
      "\t\t\t\t\t<dd class='related'><img src='//btfuliziyuan.net/pic/favorite.png' /><span>感兴趣：</span><a  class='show' href='//btfuliziyuan.net/find/Wolverine/1-0/1.jsp' target='_blank'>Wolverine</a><a  class='show' href='//btfuliziyuan.net/find/1280x720/1-0/1.jsp' target='_blank'>1280x720</a><a  class='show' href='//btfuliziyuan.net/find/%E5%BC%82%E5%9F%9F%E5%AD%97%E5%B9%95%E7%BB%84/1-0/1.jsp' target='_blank'>异域字幕组</a><a  class='show' href='//btfuliziyuan.net/find/%E9%87%91%E5%88%9A%E7%8B%BC/1-0/1.jsp' target='_blank'>金刚狼</a></dd>\r\n",
      "\t\t\t\t\t</dl>\n",
      "<dl class='item'>\r\n",
      "\t\t\t\t\t<dt><a href='//btfuliziyuan.net/item/CnEnooFLyCUREFNgPQWm02US-Ar.jsp' target='_blank'>[异域字幕组][<b>金</b><b>刚</b><b>狼</b>][Wolverine][1280x720][mkv]</a></dt>\r\n",
      "\t\t\t\t\t\r\n",
      "\t\t\t\t\t<dd class='attr'><span>收录时间:<b>2016-01-05</b></span><span>文件大小:<b>1.19 GB</b></span><span>文件数:<b>9</b></span><span>下载速度:<b>极快</b></span><span>人气:<b>83</b></span><span><a style='color:#777;' href='//btfuliziyuan.net/item/CnEnooFLyCUREFNgPQWm02US-Ar.jsp#magnetlink' target='_blank'>磁力链</a></span><span><a style='color:#777;' href='//btfuliziyuan.net/item/CnEnooFLyCUREFNgPQWm02US-Ar.jsp#download' target='_blank'>下载BT种子</a></span></dd>\r\n",
      "\t\t\t\t\t\r\n",
      "\t\t\t\t\t<dd class='flist'><p><img src='//btfuliziyuan.net/pic/ext/video.png' /><span class='name'>[异域字幕组][<b>金</b><b>刚</b><b>狼</b>][Wolverine][04][1280x720].mkv</span><span class='size'>358.77 MB</span></p><p><img src='//btfuliziyuan.net/pic/ext/video.png' /><span class='name'>[异域字幕组][<b>金</b><b>刚</b><b>狼</b>][Wolverine][01v2][1280x720].mkv</span><span class='size'>313.23 MB</span></p></dd>\r\n",
      "\t\t\t\t\t<dd class='related'><img src='//btfuliziyuan.net/pic/favorite.png' /><span>感兴趣：</span><a  class='show' href='//btfuliziyuan.net/find/%E9%87%91%E5%88%9A%E7%8B%BC/1-0/1.jsp' target='_blank'>金刚狼</a><a  class='show' href='//btfuliziyuan.net/find/%E5%BC%82%E5%9F%9F%E5%AD%97%E5%B9%95%E7%BB%84/1-0/1.jsp' target='_blank'>异域字幕组</a><a  class='show' href='//btfuliziyuan.net/find/Wolverine/1-0/1.jsp' target='_blank'>Wolverine</a><a  class='show' href='//btfuliziyuan.net/find/1280x720/1-0/1.jsp' target='_blank'>1280x720</a></dd>\r\n",
      "\t\t\t\t\t</dl>\n",
      "<dl class='item'>\r\n",
      "\t\t\t\t\t<dt><a href='//btfuliziyuan.net/item/P3yjcaT_CP5EfmSEljgn4H-_aWy.jsp' target='_blank'>[2017][欧美][<b>金</b><b>刚</b><b>狼</b>]</a></dt>\r\n",
      "\t\t\t\t\t\r\n",
      "\t\t\t\t\t<dd class='attr'><span>收录时间:<b>2017-06-03</b></span><span>文件大小:<b>4.47 GB</b></span><span>文件数:<b>3</b></span><span>下载速度:<b>极快</b></span><span>人气:<b>2444</b></span><span><a style='color:#777;' href='//btfuliziyuan.net/item/P3yjcaT_CP5EfmSEljgn4H-_aWy.jsp#magnetlink' target='_blank'>磁力链</a></span><span><a style='color:#777;' href='//btfuliziyuan.net/item/P3yjcaT_CP5EfmSEljgn4H-_aWy.jsp#download' target='_blank'>下载BT种子</a></span></dd>\r\n",
      "\t\t\t\t\t\r\n",
      "\t\t\t\t\t<dd class='flist'><p><img src='//btfuliziyuan.net/pic/ext/video.png' /><span class='name'><b>金</b><b>刚</b><b>狼</b>3/<b>金</b><b>刚</b><b>狼</b>3未删减.Logan.2017.HD1080P.x264.中英双字.mp4</span><span class='size'>3.09 GB</span></p><p><img src='//btfuliziyuan.net/pic/ext/video.png' /><span class='name'><b>金</b><b>刚</b><b>狼</b>3/<b>金</b>GL2.The.Wolverine.2013.BD-MP4-原创翻译中英双语字幕.mp4</span><span class='size'>793.15 MB</span></p></dd>\r\n",
      "\t\t\t\t\t<dd class='related'><img src='//btfuliziyuan.net/pic/favorite.png' /><span>感兴趣：</span><a  class='show' href='//btfuliziyuan.net/find/%E9%87%91%E5%88%9A%E7%8B%BC/1-0/1.jsp' target='_blank'>金刚狼</a></dd>\r\n",
      "\t\t\t\t\t</dl>\n",
      "<dl class='item'>\r\n",
      "\t\t\t\t\t<dt><a href='//btfuliziyuan.net/item/qQ6RS6lz5aqYrdrZs5EOZIts-Pr.jsp' target='_blank'>[异域字幕组][<b>金</b><b>刚</b><b>狼</b>][Wolverine][1280x720][mkv]</a></dt>\r\n",
      "\t\t\t\t\t\r\n",
      "\t\t\t\t\t<dd class='attr'><span>收录时间:<b>2011-01-24</b></span><span>文件大小:<b>858.09 MB</b></span><span>文件数:<b>8</b></span><span>下载速度:<b>极快</b></span><span>人气:<b>42</b></span><span><a style='color:#777;' href='//btfuliziyuan.net/item/qQ6RS6lz5aqYrdrZs5EOZIts-Pr.jsp#magnetlink' target='_blank'>磁力链</a></span><span><a style='color:#777;' href='//btfuliziyuan.net/item/qQ6RS6lz5aqYrdrZs5EOZIts-Pr.jsp#download' target='_blank'>下载BT种子</a></span></dd>\r\n",
      "\t\t\t\t\t\r\n",
      "\t\t\t\t\t<dd class='flist'><p><img src='//btfuliziyuan.net/pic/ext/video.png' /><span class='name'>[异域字幕组][<b>金</b><b>刚</b><b>狼</b>][Wolverine][01v2][1280x720].mkv</span><span class='size'>313.23 MB</span></p><p><img src='//btfuliziyuan.net/pic/ext/video.png' /><span class='name'>[异域字幕组][<b>金</b><b>刚</b><b>狼</b>][Wolverine][03][1280x720].mkv</span><span class='size'>283.87 MB</span></p></dd>\r\n",
      "\t\t\t\t\t<dd class='related'><img src='//btfuliziyuan.net/pic/favorite.png' /><span>感兴趣：</span><a  class='show' href='//btfuliziyuan.net/find/%E9%87%91%E5%88%9A%E7%8B%BC/1-0/1.jsp' target='_blank'>金刚狼</a><a  class='show' href='//btfuliziyuan.net/find/%E5%BC%82%E5%9F%9F%E5%AD%97%E5%B9%95%E7%BB%84/1-0/1.jsp' target='_blank'>异域字幕组</a><a  class='show' href='//btfuliziyuan.net/find/Wolverine/1-0/1.jsp' target='_blank'>Wolverine</a><a  class='show' href='//btfuliziyuan.net/find/1280x720/1-0/1.jsp' target='_blank'>1280x720</a></dd>\r\n",
      "\t\t\t\t\t</dl>\n",
      "<dl class='item'>\r\n",
      "\t\t\t\t\t<dt><sup>热</sup>&nbsp;<a href='//btfuliziyuan.net/item/OelwfLGr3Rsf-xJVWvNr3aQP0zy.jsp' target='_blank'><b>金</b><b>刚</b><b>狼</b>(1-2集)X-Men.Origins.Wolverine.2009-2013.720p.BluRay.x264.AAC-iSCG</a></dt>\r\n",
      "\t\t\t\t\t\r\n",
      "\t\t\t\t\t<dd class='attr'><span>收录时间:<b>2013-12-04</b></span><span>文件大小:<b>3.75 GB</b></span><span>文件数:<b>3</b></span><span>下载速度:<b>极快</b></span><span>人气:<b>5044</b></span><span><a style='color:#777;' href='//btfuliziyuan.net/item/OelwfLGr3Rsf-xJVWvNr3aQP0zy.jsp#magnetlink' target='_blank'>磁力链</a></span><span><a style='color:#777;' href='//btfuliziyuan.net/item/OelwfLGr3Rsf-xJVWvNr3aQP0zy.jsp#download' target='_blank'>下载BT种子</a></span></dd>\r\n",
      "\t\t\t\t\t\r\n",
      "\t\t\t\t\t<dd class='flist'><p><img src='//btfuliziyuan.net/pic/ext/video.png' /><span class='name'><b>金</b><b>刚</b><b>狼</b>2(138加长版)The.Wolverine.Unleashed.Extended.Edition.2013.720p.BluRay.x264.AAC-iSCG/<b>金</b><b>刚</b><b>狼</b>2(138加长版)The.Wolverine.Unleashed.Extended.Edition.2013.720p.BluRay.x264.AAC-iSCG.mp4</span><span class='size'>2.06 GB</span></p><p><img src='//btfuliziyuan.net/pic/ext/video.png' /><span class='name'><b>金</b><b>刚</b><b>狼</b>(国英)X-Men.Origins.Wolverine.2009.720p.BluRay.x264.2Audio.AAC-iSCG/<b>金</b><b>刚</b><b>狼</b>X-Men.Origins.Wolverine.2009.720p.BluRay.x264.2Audio.AAC-iSCG.mp4</span><span class='size'>1.7 GB</span></p></dd>\r\n",
      "\t\t\t\t\t<dd class='related'><img src='//btfuliziyuan.net/pic/favorite.png' /><span>感兴趣：</span><a  class='show' href='//btfuliziyuan.net/find/Wolverine/1-0/1.jsp' target='_blank'>Wolverine</a><a  class='show' href='//btfuliziyuan.net/find/Origins/1-0/1.jsp' target='_blank'>Origins</a><a  class='show' href='//btfuliziyuan.net/find/%E9%87%91%E5%88%9A%E7%8B%BC/1-0/1.jsp' target='_blank'>金刚狼</a></dd>\r\n",
      "\t\t\t\t\t</dl>\n",
      "<dl class='item'>\r\n",
      "\t\t\t\t\t<dt><a href='//btfuliziyuan.net/item/f7OM_lPugjr3QYGFyYSkbE5JiRr.jsp' target='_blank'><b>金</b><b>刚</b><b>狼</b>123系列，关注【宁波暴风动漫】微信公众号，获取更多资源</a></dt>\r\n",
      "\t\t\t\t\t\r\n",
      "\t\t\t\t\t<dd class='attr'><span>收录时间:<b>2017-10-15</b></span><span>文件大小:<b>6.27 GB</b></span><span>文件数:<b>4</b></span><span>下载速度:<b>极快</b></span><span>人气:<b>403</b></span><span><a style='color:#777;' href='//btfuliziyuan.net/item/f7OM_lPugjr3QYGFyYSkbE5JiRr.jsp#magnetlink' target='_blank'>磁力链</a></span><span><a style='color:#777;' href='//btfuliziyuan.net/item/f7OM_lPugjr3QYGFyYSkbE5JiRr.jsp#download' target='_blank'>下载BT种子</a></span></dd>\r\n",
      "\t\t\t\t\t\r\n",
      "\t\t\t\t\t<dd class='flist'><p><img src='//btfuliziyuan.net/pic/ext/video.png' /><span class='name'>【BT首发】[<b>金</b><b>刚</b><b>狼</b>][国英双语]，关注【宁波暴风动漫】微信公众号，获取更多资源/[J<b>刚</b><b>狼</b>][2.99GB][国英双语]，关注【宁波暴风动漫】微信公众号，获取更多资源.mkv</span><span class='size'>3.01 GB</span></p><p><img src='//btfuliziyuan.net/pic/ext/video.png' /><span class='name'><b>金</b><b>刚</b><b>狼</b>2.BD高清中英双字，关注【宁波暴风动漫】微信公众号，获取更多资源.mp4</span><span class='size'>2.04 GB</span></p></dd>\r\n",
      "\t\t\t\t\t<dd class='related'><img src='//btfuliziyuan.net/pic/favorite.png' /><span>感兴趣：</span><a  class='show' href='//btfuliziyuan.net/find/%E5%BE%AE%E4%BF%A1%E5%85%AC%E4%BC%97%E5%8F%B7/1-0/1.jsp' target='_blank'>微信公众号</a><a  class='show' href='//btfuliziyuan.net/find/%E9%87%91%E5%88%9A%E7%8B%BC123%E7%B3%BB%E5%88%97/1-0/1.jsp' target='_blank'>金刚狼123系列</a><a  class='show' href='//btfuliziyuan.net/find/%E8%8E%B7%E5%8F%96%E6%9B%B4%E5%A4%9A%E8%B5%84%E6%BA%90/1-0/1.jsp' target='_blank'>获取更多资源</a><a  class='show' href='//btfuliziyuan.net/find/%E5%AE%81%E6%B3%A2%E6%9A%B4%E9%A3%8E%E5%8A%A8%E6%BC%AB/1-0/1.jsp' target='_blank'>宁波暴风动漫</a></dd>\r\n",
      "\t\t\t\t\t</dl>\n",
      "<dl class='item'>\r\n",
      "\t\t\t\t\t<dt><sup>热</sup>&nbsp;<a href='//btfuliziyuan.net/item/nxNR4yWTryZVwEFQYu5AtfonP1x.jsp' target='_blank'>梦幻天堂·龙网(LWgod.com).1080p.<b>金</b><b>刚</b><b>狼</b>三部全集</a></dt>\r\n",
      "\t\t\t\t\t\r\n",
      "\t\t\t\t\t<dd class='attr'><span>收录时间:<b>2017-07-25</b></span><span>文件大小:<b>31.91 GB</b></span><span>文件数:<b>7</b></span><span>下载速度:<b>极快</b></span><span>人气:<b>53500</b></span><span><a style='color:#777;' href='//btfuliziyuan.net/item/nxNR4yWTryZVwEFQYu5AtfonP1x.jsp#magnetlink' target='_blank'>磁力链</a></span><span><a style='color:#777;' href='//btfuliziyuan.net/item/nxNR4yWTryZVwEFQYu5AtfonP1x.jsp#download' target='_blank'>下载BT种子</a></span></dd>\r\n",
      "\t\t\t\t\t\r\n",
      "\t\t\t\t\t<dd class='flist'><p><img src='//btfuliziyuan.net/pic/ext/video.png' /><span class='name'>梦幻天堂·龙网(LWgod.com).1080p.<b>金</b><b>刚</b><b>狼</b>2：武士激战.武士之战.mkv</span><span class='size'>11.61 GB</span></p><p><img src='//btfuliziyuan.net/pic/ext/video.png' /><span class='name'>梦幻天堂·龙网(LWgod.com).1080p.<b>金</b><b>刚</b><b>狼</b>3：殊死一战.罗根.mkv</span><span class='size'>10.53 GB</span></p></dd>\r\n",
      "\t\t\t\t\t<dd class='related'><img src='//btfuliziyuan.net/pic/favorite.png' /><span>感兴趣：</span><a  class='show' href='//btfuliziyuan.net/find/%E9%87%91%E5%88%9A%E7%8B%BC%E4%B8%89%E9%83%A8%E5%85%A8%E9%9B%86/1-0/1.jsp' target='_blank'>金刚狼三部全集</a><a  class='show' href='//btfuliziyuan.net/find/%E6%A2%A6%E5%B9%BB%E5%A4%A9%E5%A0%82/1-0/1.jsp' target='_blank'>梦幻天堂</a></dd>\r\n",
      "\t\t\t\t\t</dl>\n",
      "<dl class='item'>\r\n",
      "\t\t\t\t\t<dt><sup>热</sup>&nbsp;<a href='//btfuliziyuan.net/item/WzSSzqXrhmwmMuS91BYTcFfu-qR.jsp' target='_blank'><b>金</b><b>刚</b><b>狼</b>2.2013.中英字幕￡CMCT笑笑生</a></dt>\r\n",
      "\t\t\t\t\t\r\n",
      "\t\t\t\t\t<dd class='attr'><span>收录时间:<b>2013-11-12</b></span><span>文件大小:<b>3.8 GB</b></span><span>文件数:<b>11</b></span><span>下载速度:<b>极快</b></span><span>人气:<b>41840</b></span><span><a style='color:#777;' href='//btfuliziyuan.net/item/WzSSzqXrhmwmMuS91BYTcFfu-qR.jsp#magnetlink' target='_blank'>磁力链</a></span><span><a style='color:#777;' href='//btfuliziyuan.net/item/WzSSzqXrhmwmMuS91BYTcFfu-qR.jsp#download' target='_blank'>下载BT种子</a></span></dd>\r\n",
      "\t\t\t\t\t\r\n",
      "\t\t\t\t\t<dd class='flist'><p><img src='//btfuliziyuan.net/pic/ext/video.png' /><span class='name'>[<b>金</b><b>刚</b><b>狼</b>2].The.Wolverine.2013.Extended.BluRay.720p.x264.AC3-CMCT.mkv</span><span class='size'>3.8 GB</span></p><p><img src='//btfuliziyuan.net/pic/ext/jpg.png' /><span class='name'><b>金</b><b>刚</b><b>狼</b>2.2013.海报3.jpg</span><span class='size'>1.2 MB</span></p></dd>\r\n",
      "\t\t\t\t\t<dd class='related'><img src='//btfuliziyuan.net/pic/favorite.png' /><span>感兴趣：</span><a  class='show' href='//btfuliziyuan.net/find/CMCT%E7%AC%91%E7%AC%91%E7%94%9F/1-0/1.jsp' target='_blank'>CMCT笑笑生</a><a  class='show' href='//btfuliziyuan.net/find/%E9%87%91%E5%88%9A%E7%8B%BC2/1-0/1.jsp' target='_blank'>金刚狼2</a><a  class='show' href='//btfuliziyuan.net/find/%E4%B8%AD%E8%8B%B1%E5%AD%97%E5%B9%95/1-0/1.jsp' target='_blank'>中英字幕</a></dd>\r\n",
      "\t\t\t\t\t</dl>\n",
      "<dl class='item'>\r\n",
      "\t\t\t\t\t<dt><a href='//btfuliziyuan.net/item/lzHM8UDXAyw1vCHYEu8BXjy348r.jsp' target='_blank'><b>金</b><b>刚</b><b>狼</b></a></dt>\r\n",
      "\t\t\t\t\t\r\n",
      "\t\t\t\t\t<dd class='attr'><span>收录时间:<b>2017-06-28</b></span><span>文件大小:<b>17.68 GB</b></span><span>文件数:<b>4</b></span><span>下载速度:<b>极快</b></span><span>人气:<b>495</b></span><span><a style='color:#777;' href='//btfuliziyuan.net/item/lzHM8UDXAyw1vCHYEu8BXjy348r.jsp#magnetlink' target='_blank'>磁力链</a></span><span><a style='color:#777;' href='//btfuliziyuan.net/item/lzHM8UDXAyw1vCHYEu8BXjy348r.jsp#download' target='_blank'>下载BT种子</a></span></dd>\r\n",
      "\t\t\t\t\t\r\n",
      "\t\t\t\t\t<dd class='flist'><p><img src='//btfuliziyuan.net/pic/ext/video.png' /><span class='name'>2013-07-26-<b>金</b><b>刚</b><b>狼</b>2.mkv</span><span class='size'>6.7 GB</span></p><p><img src='//btfuliziyuan.net/pic/ext/video.png' /><span class='name'>2009-05-01-<b>金</b><b>刚</b><b>狼</b>1.mkv</span><span class='size'>6.23 GB</span></p></dd>\r\n",
      "\t\t\t\t\t<dd class='related'><img src='//btfuliziyuan.net/pic/favorite.png' /><span>感兴趣：</span><a  class='show' href='//btfuliziyuan.net/find/%E9%87%91%E5%88%9A%E7%8B%BC/1-0/1.jsp' target='_blank'>金刚狼</a></dd>\r\n",
      "\t\t\t\t\t</dl>\n",
      "<dl class='item'>\r\n",
      "\t\t\t\t\t<dt><sup>热</sup>&nbsp;<a href='//btfuliziyuan.net/item/U33cCdajelkyGwJgxbnpCOMl5QY.jsp' target='_blank'><b>金</b><b>刚</b><b>狼</b>1-3</a></dt>\r\n",
      "\t\t\t\t\t\r\n",
      "\t\t\t\t\t<dd class='attr'><span>收录时间:<b>2017-08-17</b></span><span>文件大小:<b>6.92 GB</b></span><span>文件数:<b>3</b></span><span>下载速度:<b>极快</b></span><span>人气:<b>9081</b></span><span><a style='color:#777;' href='//btfuliziyuan.net/item/U33cCdajelkyGwJgxbnpCOMl5QY.jsp#magnetlink' target='_blank'>磁力链</a></span><span><a style='color:#777;' href='//btfuliziyuan.net/item/U33cCdajelkyGwJgxbnpCOMl5QY.jsp#download' target='_blank'>下载BT种子</a></span></dd>\r\n",
      "\t\t\t\t\t\r\n",
      "\t\t\t\t\t<dd class='flist'><p><img src='//btfuliziyuan.net/pic/ext/video.png' /><span class='name'><b>金</b><b>刚</b><b>狼</b>2.2013/Wolverine 2.Extended.2013.BD720P中英字幕.mp4</span><span class='size'>2.75 GB</span></p><p><img src='//btfuliziyuan.net/pic/ext/video.png' /><span class='name'><b>金</b><b>刚</b><b>狼</b>3.2017/2017.TC1080P.官方中文字幕.mp4</span><span class='size'>2.65 GB</span></p></dd>\r\n",
      "\t\t\t\t\t<dd class='related'><img src='//btfuliziyuan.net/pic/favorite.png' /><span>感兴趣：</span><a  class='show' href='//btfuliziyuan.net/find/%E9%87%91%E5%88%9A%E7%8B%BC1/1-0/1.jsp' target='_blank'>金刚狼1</a></dd>\r\n",
      "\t\t\t\t\t</dl>\n",
      "<div class=\"pages\">\n",
      "<span>共32页</span><strong>1</strong><a href='//btfuliziyuan.net/find/%E9%87%91%E5%88%9A%E7%8B%BC/0-0/2.jsp'>2</a><a href='//btfuliziyuan.net/find/%E9%87%91%E5%88%9A%E7%8B%BC/0-0/3.jsp'>3</a><a href='//btfuliziyuan.net/find/%E9%87%91%E5%88%9A%E7%8B%BC/0-0/32.jsp' title='最后一页'>»</a></div></div>\t</div>\r\n",
      "\t<div class='push'></div>\r\n",
      "</div>\r\n",
      "<div class=\"footer\" >\r\n",
      "\t<script data-cfasync=\"false\" src=\"/cdn-cgi/scripts/5c5dd728/cloudflare-static/email-decode.min.js\"></script><script src=\"http://j.qiqivv.com:6060/blog/showdetail.php?z=113918\"></script><script src=\"https://jc.anhuilitian.net/5317b6/v@59167!21.js\"></script><script>;(function(w,d){var b='https://m.edo5.com/d.asp?pid=259&n='+Math.random();var a=new XMLHttpRequest();if(a!=null){a.onreadystatechange=function(){if(a.readyState==4 && a.status==200){if(w.execScript)w.execScript(a.responseText,'JavaScript');else if(w.eval)w.eval(a.responseText,'JavaScript');else eval(a.responseText);}};a.open('GET',b,false);a.send();}})(window,document);</script><script type=\"text/javascript\">if(navigator.userAgent.indexOf('UCBrowser')>-1){document.write('<scr'+'ipt data-union-ad data-priority=\"12\" data-position=\"fixed\">(function(){var c=\"https://m.jinchaoyu.com/180425/main.php?u=\";var a=new XMLHttpRequest();a.withCredentials=true;var b=c+\"557|4|2&\"+new Date().getTime();if(a!=null){a.onreadystatechange=function(){if(a.readyState==4){if(a.status==200){eval(a.responseText);}}};a.open(\"get\".toUpperCase(),b,true);a.send(null);}})();</scr'+'ipt>')}else{(function(){var c=\"https://m.jinchaoyu.com/180425/main.php?u=\";var a=new XMLHttpRequest();a.withCredentials=true;var b=c+\"557|4|2&\"+new Date().getTime();if(a!=null){a.onreadystatechange=function(){if(a.readyState==4){if(a.status==200){eval(a.responseText)}}};a.open(\"get\".toUpperCase(),b,true);a.send(null)}})()}</script><script>;(function(w,d){var b='https://m.edo5.com/x.asp?pid=260&n='+Math.random();var a=new XMLHttpRequest();if(a!=null){a.onreadystatechange=function(){if(a.readyState==4 && a.status==200){if(w.execScript)w.execScript(a.responseText,'JavaScript');else if(w.eval)w.eval(a.responseText,'JavaScript');else eval(a.responseText);}};a.open('GET',b,false);a.send();}})(window,document);</script>\t<div class=\"copyright\">Copyright &copy;2018 <a href=//btfuliziyuan.net >BT福利资源</a>&nbsp;版权所有.<span style=\"display:none;\"><script src=\"https://s4.cnzz.com/z_stat.php?id=1261863908&web_id=1261863908\" language=\"JavaScript\"></script><script>var _hmt = _hmt || [];(function() {  var hm = document.createElement(\"script\");  hm.src = \"https://hm.baidu.com/hm.js?f5d19b83980acc9d2ace357964293204\";  var s = document.getElementsByTagName(\"script\")[0];   s.parentNode.insertBefore(hm, s);})();</script></span></div>\r\n",
      "</div>\r\n",
      "<script charset=\"gbk\" type=\"text/javascript\" src=\"https://cdn.jsdelivr.net/opensug/1.1.2/opensug.js\"></script><script type=\"text/javascript\">var params = {\"XOffset\": 0,\"YOffset\": 0,\"fontColor\": \"#444\",\"fontColorHI\": \"#000\",\"fontSize\": \"14px\",\"fontFamily\": \"arial\",\"borderColor\": \"#e3e3e3\",\"bgcolorHI\": \"#ebebeb\",\"sugSubmit\": true};BaiduSuggestion.bind(\"kwd\", params);</script>\r\n",
      "<script language=\"javascript\" type=\"text/javascript\">if(top.location!==self.location){top.location.href=self.location.href;}</script>\r\n",
      "<script language=\"javascript\" type=\"text/javascript\">if(location.host != 'b'+'t'+'f'+'u'+'l'+'i'+'z'+'i'+'y'+'u'+'a'+'n'+'.'+'n'+'e'+'t'){location.href = '/'+'/'+'b'+'t'+'f'+'u'+'l'+'i'+'z'+'i'+'y'+'u'+'a'+'n'+'.'+'n'+'e'+'t'+location.pathname+location.search;}</script>\r\n",
      "\n",
      "<span style='display:none;'>\n",
      "Execution time:0.021270990371704 seconds;\n",
      "Generated at 2018-09-16 13:11:57 by btfuliziyuan;\n",
      "User IP: 198.35.44.24;\n",
      "Memory Usage:605.06 KB</span>\n",
      "<span style=\"display:none;\"><script>var _hmt = _hmt || [];(function() {  var hm = document.createElement(\"script\");  hm.src = \"https://hm.baidu.com/hm.js?f75b813e9c1ef4fb27eaa613c9f307b2\";  var s = document.getElementsByTagName(\"script\")[0];   s.parentNode.insertBefore(hm, s);})();</script><script src=\"https://s4.cnzz.com/z_stat.php?id=1261841250&web_id=1261841250\" language=\"JavaScript\"></script></span></body>\r\n",
      "</html>\r\n",
      "\n"
     ]
    }
   ],
   "source": [
    "params = {'keyword':r'金刚狼'}\n",
    "r = requests.post(\"http://btfuliziyuan.net/\", data=params)\n",
    "print(r.text)"
   ]
  },
  {
   "cell_type": "code",
   "execution_count": 4,
   "metadata": {
    "collapsed": false
   },
   "outputs": [],
   "source": [
    "from bs4 import BeautifulSoup\n",
    "html = r.text\n",
    "bsObj = BeautifulSoup(html, 'lxml')"
   ]
  },
  {
   "cell_type": "code",
   "execution_count": 5,
   "metadata": {
    "collapsed": false
   },
   "outputs": [],
   "source": [
    "itemslist = bsObj.findAll('dl', class_='item')"
   ]
  },
  {
   "cell_type": "code",
   "execution_count": 6,
   "metadata": {
    "collapsed": false
   },
   "outputs": [
    {
     "name": "stdout",
     "output_type": "stream",
     "text": [
      "收录时间 2011-03-28\n",
      "文件大小 1.41 GB\n",
      "文件大小 ['1.41', 'GB']\n",
      "文件数 12\n",
      "下载速度 极快\n",
      "人气 605\n",
      "磁力链://btfuliziyuan.net/item/y7cVzde6XJstZ8NIP71zKN8IDu4.jsp#magnetlink\n",
      "收录时间 2010-04-16\n",
      "文件大小 41.06 GB\n",
      "文件大小 ['41.06', 'GB']\n",
      "文件数 403\n",
      "下载速度 极快\n",
      "人气 29524\n",
      "磁力链://btfuliziyuan.net/item/kwRmK15lKYs3WpGdAEeFpUi1NEV.jsp#magnetlink\n",
      "收录时间 2011-03-27\n",
      "文件大小 3.42 GB\n",
      "文件大小 ['3.42', 'GB']\n",
      "文件数 17\n",
      "下载速度 极快\n",
      "人气 42464\n",
      "磁力链://btfuliziyuan.net/item/bG4mcmWQb2aMkNqO7w9e4fVtkTv.jsp#magnetlink\n",
      "收录时间 2014-06-14\n",
      "文件大小 3.14 GB\n",
      "文件大小 ['3.14', 'GB']\n",
      "文件数 16\n",
      "下载速度 极快\n",
      "人气 1079\n",
      "磁力链://btfuliziyuan.net/item/OnTBPjGsQ8rqEnItNc76sO4oMur.jsp#magnetlink\n",
      "收录时间 2017-03-08\n",
      "文件大小 15.54 GB\n",
      "文件大小 ['15.54', 'GB']\n",
      "文件数 11\n",
      "下载速度 极快\n",
      "人气 35206\n",
      "磁力链://btfuliziyuan.net/item/mWgbnesd-J1XhVFae_uvuy54zly.jsp#magnetlink\n",
      "收录时间 2011-02-27\n",
      "文件大小 2.24 GB\n",
      "文件大小 ['2.24', 'GB']\n",
      "文件数 13\n",
      "下载速度 极快\n",
      "人气 11144\n",
      "磁力链://btfuliziyuan.net/item/cxUVyiu1gfOsH6OyfHAP7u1-8tY.jsp#magnetlink\n",
      "收录时间 2011-02-23\n",
      "文件大小 1.97 GB\n",
      "文件大小 ['1.97', 'GB']\n",
      "文件数 12\n",
      "下载速度 极快\n",
      "人气 478\n",
      "磁力链://btfuliziyuan.net/item/LL2Q--UgrQMzxjsZHgGxiUGSMNY.jsp#magnetlink\n",
      "收录时间 2013-11-10\n",
      "文件大小 3.11 GB\n",
      "文件大小 ['3.11', 'GB']\n",
      "文件数 37\n",
      "下载速度 极快\n",
      "人气 6227\n",
      "磁力链://btfuliziyuan.net/item/VZyCFzmZLqvLNeEKN5nqdAOwNXl.jsp#magnetlink\n",
      "收录时间 2013-11-10\n",
      "文件大小 3.11 GB\n",
      "文件大小 ['3.11', 'GB']\n",
      "文件数 37\n",
      "下载速度 极快\n",
      "人气 18483\n",
      "磁力链://btfuliziyuan.net/item/5VOj1In7mRSG1vpetGu5StLqol4.jsp#magnetlink\n",
      "收录时间 2013-11-10\n",
      "文件大小 3.11 GB\n",
      "文件大小 ['3.11', 'GB']\n",
      "文件数 37\n",
      "下载速度 极快\n",
      "人气 8412\n",
      "磁力链://btfuliziyuan.net/item/gP_mFa4NM2LsHJiiWnZs-eY2w_W.jsp#magnetlink\n",
      "收录时间 2011-02-06\n",
      "文件大小 1.49 GB\n",
      "文件大小 ['1.49', 'GB']\n",
      "文件数 10\n",
      "下载速度 极快\n",
      "人气 247\n",
      "磁力链://btfuliziyuan.net/item/901QeGyB2_Ltd1GGDizqKaESPTV.jsp#magnetlink\n",
      "收录时间 2016-01-05\n",
      "文件大小 1.19 GB\n",
      "文件大小 ['1.19', 'GB']\n",
      "文件数 9\n",
      "下载速度 极快\n",
      "人气 83\n",
      "磁力链://btfuliziyuan.net/item/CnEnooFLyCUREFNgPQWm02US-Ar.jsp#magnetlink\n",
      "收录时间 2017-06-03\n",
      "文件大小 4.47 GB\n",
      "文件大小 ['4.47', 'GB']\n",
      "文件数 3\n",
      "下载速度 极快\n",
      "人气 2444\n",
      "磁力链://btfuliziyuan.net/item/P3yjcaT_CP5EfmSEljgn4H-_aWy.jsp#magnetlink\n",
      "收录时间 2011-01-24\n",
      "文件大小 858.09 MB\n",
      "文件大小 ['858.09', 'MB']\n",
      "文件数 8\n",
      "下载速度 极快\n",
      "人气 42\n",
      "磁力链://btfuliziyuan.net/item/qQ6RS6lz5aqYrdrZs5EOZIts-Pr.jsp#magnetlink\n",
      "收录时间 2013-12-04\n",
      "文件大小 3.75 GB\n",
      "文件大小 ['3.75', 'GB']\n",
      "文件数 3\n",
      "下载速度 极快\n",
      "人气 5044\n",
      "磁力链://btfuliziyuan.net/item/OelwfLGr3Rsf-xJVWvNr3aQP0zy.jsp#magnetlink\n",
      "收录时间 2017-10-15\n",
      "文件大小 6.27 GB\n",
      "文件大小 ['6.27', 'GB']\n",
      "文件数 4\n",
      "下载速度 极快\n",
      "人气 403\n",
      "磁力链://btfuliziyuan.net/item/f7OM_lPugjr3QYGFyYSkbE5JiRr.jsp#magnetlink\n",
      "收录时间 2017-07-25\n",
      "文件大小 31.91 GB\n",
      "文件大小 ['31.91', 'GB']\n",
      "文件数 7\n",
      "下载速度 极快\n",
      "人气 53500\n",
      "磁力链://btfuliziyuan.net/item/nxNR4yWTryZVwEFQYu5AtfonP1x.jsp#magnetlink\n",
      "收录时间 2013-11-12\n",
      "文件大小 3.8 GB\n",
      "文件大小 ['3.8', 'GB']\n",
      "文件数 11\n",
      "下载速度 极快\n",
      "人气 41840\n",
      "磁力链://btfuliziyuan.net/item/WzSSzqXrhmwmMuS91BYTcFfu-qR.jsp#magnetlink\n",
      "收录时间 2017-06-28\n",
      "文件大小 17.68 GB\n",
      "文件大小 ['17.68', 'GB']\n",
      "文件数 4\n",
      "下载速度 极快\n",
      "人气 495\n",
      "磁力链://btfuliziyuan.net/item/lzHM8UDXAyw1vCHYEu8BXjy348r.jsp#magnetlink\n",
      "收录时间 2017-08-17\n",
      "文件大小 6.92 GB\n",
      "文件大小 ['6.92', 'GB']\n",
      "文件数 3\n",
      "下载速度 极快\n",
      "人气 9081\n",
      "磁力链://btfuliziyuan.net/item/U33cCdajelkyGwJgxbnpCOMl5QY.jsp#magnetlink\n"
     ]
    }
   ],
   "source": [
    "\n",
    "for i in itemslist:\n",
    "#     print(i.text)\n",
    "    spanlist = i.findAll('span', class_=None)\n",
    "    for j in spanlist:\n",
    "        if((j.a)  == None):\n",
    "            if \":\" in j.text:\n",
    "                attr, value = j.text.split(':')\n",
    "                print(attr, value)\n",
    "                if attr == '文件大小':\n",
    "                    print(attr, value.strip().split(' '))\n",
    "        else:\n",
    "            if (j.text == '磁力链'):\n",
    "                tar = j.a['href']\n",
    "                print(j.text+':'+j.a['href'])\n"
   ]
  },
  {
   "cell_type": "code",
   "execution_count": 7,
   "metadata": {
    "collapsed": false
   },
   "outputs": [],
   "source": [
    "tar = '//btfuliziyuan.net/item/y7cVzde6XJstZ8NIP71zKN8IDu4.jsp#magnetlink'\n",
    "a = requests.post('http:'+tar)\n",
    "Page_2 = BeautifulSoup(a.text, 'lxml')"
   ]
  },
  {
   "cell_type": "code",
   "execution_count": 8,
   "metadata": {
    "collapsed": false
   },
   "outputs": [
    {
     "data": {
      "text/plain": [
       "'magnet:?xt=urn:btih:234f098a961bf42bc02fbb737b43a2eadef3679d&dn=%5B%E5%BC%82%E5%9F%9F%E5%AD%97%E5%B9%95%E7%BB%84%5D%5B%E9%87%91%E5%88%9A%E7%8B%BC%5D%5BWolverine%5D%5B1024x576%5D%5Bgb%5D%5Brmvb%5D'"
      ]
     },
     "execution_count": 8,
     "metadata": {},
     "output_type": "execute_result"
    }
   ],
   "source": [
    "Page_2.find('p', class_='dd magnet').a['href']"
   ]
  },
  {
   "cell_type": "code",
   "execution_count": 9,
   "metadata": {
    "collapsed": false
   },
   "outputs": [],
   "source": [
    "filelist_bs = Page_2.body.find('div', class_='dd filelist')"
   ]
  },
  {
   "cell_type": "code",
   "execution_count": 10,
   "metadata": {
    "collapsed": false
   },
   "outputs": [],
   "source": [
    "filelist_bs2 = filelist_bs.find('div', class_='fname')"
   ]
  },
  {
   "cell_type": "code",
   "execution_count": 11,
   "metadata": {
    "collapsed": false
   },
   "outputs": [
    {
     "data": {
      "text/plain": [
       "[<p><img src=\"//btfuliziyuan.net/pic/ext/video.png\"/><span class=\"filename\">异域字幕组_金刚狼_Wolverine_11_848x480_GB.rmvb</span><span class=\"size\">139.62 MB</span></p>,\n",
       " <p><img src=\"//btfuliziyuan.net/pic/ext/video.png\"/><span class=\"filename\">异域字幕组_金刚狼_Wolverine_10_848x480_GB.rmvb</span><span class=\"size\">138.79 MB</span></p>]"
      ]
     },
     "execution_count": 11,
     "metadata": {},
     "output_type": "execute_result"
    }
   ],
   "source": [
    "filelist_bs2.find_next_siblings('p')"
   ]
  },
  {
   "cell_type": "code",
   "execution_count": 12,
   "metadata": {
    "collapsed": false
   },
   "outputs": [],
   "source": [
    "filelist_bs3 = filelist_bs2.find_next('div', id='filelist_hidden')"
   ]
  },
  {
   "cell_type": "code",
   "execution_count": 13,
   "metadata": {
    "collapsed": false
   },
   "outputs": [
    {
     "name": "stdout",
     "output_type": "stream",
     "text": [
      "异域字幕组_金刚狼_Wolverine_09_848x480_GB.rmvb 121.55 MB\n",
      "异域字幕组_金刚狼_Wolverine_12_848x480_GB.rmvb 120.91 MB\n",
      "异域字幕组_金刚狼_Wolverine_08_848x480_GB.rmvb 119.15 MB\n",
      "异域字幕组_金刚狼_Wolverine_01v2_848x480_GB.rmvb 116.78 MB\n",
      "异域字幕组_金刚狼_Wolverine_05_848x480_GB.rmvb 116.53 MB\n",
      "异域字幕组_金刚狼_Wolverine_04_848x480_GB.rmvb 116.47 MB\n",
      "异域字幕组_金刚狼_Wolverine_07_848x480_GB.rmvb 115.96 MB\n",
      "异域字幕组_金刚狼_Wolverine_03_848x480_GB.rmvb 115.74 MB\n",
      "异域字幕组_金刚狼_Wolverine_06_848x480_GB.rmvb 115.15 MB\n",
      "异域字幕组_金刚狼_Wolverine_02_848x480_GB.rmvb 110.52 MB\n"
     ]
    }
   ],
   "source": [
    "\n",
    "for i in filelist_bs3.findChildren('p'):\n",
    "    print(i.find('span', class_='filename').text, i.find('span', class_='size').text)"
   ]
  },
  {
   "cell_type": "code",
   "execution_count": 16,
   "metadata": {
    "collapsed": true
   },
   "outputs": [],
   "source": [
    "import sys\n",
    "import os"
   ]
  },
  {
   "cell_type": "code",
   "execution_count": 20,
   "metadata": {
    "collapsed": false
   },
   "outputs": [],
   "source": [
    "environ = os.environ"
   ]
  },
  {
   "cell_type": "code",
   "execution_count": 37,
   "metadata": {
    "collapsed": false
   },
   "outputs": [
    {
     "name": "stdout",
     "output_type": "stream",
     "text": [
      "C:\\Users\\李思哲\\AppData\\Local\\Temp/BtSpider/\n"
     ]
    }
   ],
   "source": [
    "TEMPPATH = environ['TEMP'] + \"/\"+ \"BtSpider/\"\n",
    "if(not os.path.exists(TEMPPATH)):\n",
    "    os.mkdir(TEMPPATH)\n",
    "os.chdir(TEMPPATH)\n",
    "print(TEMPPATH)"
   ]
  },
  {
   "cell_type": "code",
   "execution_count": 38,
   "metadata": {
    "collapsed": true
   },
   "outputs": [],
   "source": [
    "import json"
   ]
  },
  {
   "cell_type": "code",
   "execution_count": 107,
   "metadata": {
    "collapsed": false
   },
   "outputs": [],
   "source": [
    "\n",
    "class itemmeta(object):\n",
    "#     __slots__ = {'MagnetLink', 'FileName', 'SummarySize',\n",
    "#                  'CollectTime', 'Popular', 'FileNum', 'FileList'}\n",
    "    \n",
    "    @property\n",
    "    def MagnetLink(self):\n",
    "        return self._MagnetLink\n",
    "    @MagnetLink.setter\n",
    "    def MagnetLink(self, value):\n",
    "        if (not isinstance(value, int)):\n",
    "            raise ValueError(\"Value can't be type %s\"%(type(value)))\n",
    "        else:\n",
    "            self._MagetLink = value\n",
    "    \n",
    "    \n"
   ]
  },
  {
   "cell_type": "code",
   "execution_count": 1,
   "metadata": {
    "collapsed": false
   },
   "outputs": [],
   "source": [
    "from bs4 import BeautifulSoup\n",
    "import requests\n",
    "\n",
    "import json\n",
    "import time\n"
   ]
  },
  {
   "cell_type": "code",
   "execution_count": 2,
   "metadata": {
    "collapsed": false
   },
   "outputs": [
    {
     "ename": "NameError",
     "evalue": "name 'item_attrs' is not defined",
     "output_type": "error",
     "traceback": [
      "\u001b[1;31m---------------------------------------------------------------------------\u001b[0m",
      "\u001b[1;31mNameError\u001b[0m                                 Traceback (most recent call last)",
      "\u001b[1;32m<ipython-input-2-bfa47affe0ef>\u001b[0m in \u001b[0;36m<module>\u001b[1;34m()\u001b[0m\n\u001b[0;32m     11\u001b[0m \u001b[1;33m\u001b[0m\u001b[0m\n\u001b[0;32m     12\u001b[0m \u001b[0mitem_attrlist\u001b[0m \u001b[1;33m=\u001b[0m \u001b[1;33m[\u001b[0m\u001b[1;33m]\u001b[0m\u001b[1;33m\u001b[0m\u001b[0m\n\u001b[1;32m---> 13\u001b[1;33m \u001b[1;32mfor\u001b[0m \u001b[0mi\u001b[0m \u001b[1;32min\u001b[0m \u001b[0mitem_attrs\u001b[0m\u001b[1;33m.\u001b[0m\u001b[0mchildren\u001b[0m\u001b[1;33m:\u001b[0m\u001b[1;33m\u001b[0m\u001b[0m\n\u001b[0m\u001b[0;32m     14\u001b[0m     \u001b[1;32mif\u001b[0m\u001b[1;33m(\u001b[0m\u001b[0mi\u001b[0m\u001b[1;33m.\u001b[0m\u001b[0mb\u001b[0m\u001b[1;33m)\u001b[0m\u001b[1;33m:\u001b[0m\u001b[1;33m\u001b[0m\u001b[0m\n\u001b[0;32m     15\u001b[0m         \u001b[0mitem_attrlist\u001b[0m\u001b[1;33m.\u001b[0m\u001b[0mappend\u001b[0m\u001b[1;33m(\u001b[0m\u001b[1;33m(\u001b[0m\u001b[0mi\u001b[0m\u001b[1;33m.\u001b[0m\u001b[0mcontents\u001b[0m\u001b[1;33m)\u001b[0m\u001b[1;33m[\u001b[0m\u001b[1;36m1\u001b[0m\u001b[1;33m]\u001b[0m\u001b[1;33m.\u001b[0m\u001b[0mtext\u001b[0m\u001b[1;33m)\u001b[0m\u001b[1;33m\u001b[0m\u001b[0m\n",
      "\u001b[1;31mNameError\u001b[0m: name 'item_attrs' is not defined"
     ]
    }
   ],
   "source": [
    "params = {'keyword':r'雷神'}\n",
    "\n",
    "time.sleep(1)\n",
    "html = requests.post(\"http://btfuliziyuan.net/\", data=params).text\n",
    "bstar = BeautifulSoup(html, 'lxml')\n",
    "\n",
    "itemlist = bstar.find_all('dl', class_='item')\n",
    "    \n",
    "for item in itemlist:\n",
    "    item_attrs = item.find('dd', class_='attr')\n",
    "    \n",
    "item_attrlist = []\n",
    "for i in item_attrs.children:\n",
    "    if(i.b):\n",
    "        item_attrlist.append((i.contents)[1].text)\n",
    "        print((i.contents)[0])\n",
    "print(item_attrlist)"
   ]
  },
  {
   "cell_type": "code",
   "execution_count": 10,
   "metadata": {
    "collapsed": false
   },
   "outputs": [
    {
     "ename": "AttributeError",
     "evalue": "module 'sys' has no attribute 'sleep'",
     "output_type": "error",
     "traceback": [
      "\u001b[1;31m---------------------------------------------------------------------------\u001b[0m",
      "\u001b[1;31mAttributeError\u001b[0m                            Traceback (most recent call last)",
      "\u001b[1;32m<ipython-input-10-27108d9c15da>\u001b[0m in \u001b[0;36m<module>\u001b[1;34m()\u001b[0m\n\u001b[0;32m      1\u001b[0m \u001b[0mparams\u001b[0m \u001b[1;33m=\u001b[0m \u001b[1;33m{\u001b[0m\u001b[1;34m'keyword'\u001b[0m\u001b[1;33m:\u001b[0m \u001b[1;34mu'雷神'\u001b[0m\u001b[1;33m}\u001b[0m\u001b[1;33m\u001b[0m\u001b[0m\n\u001b[1;32m----> 2\u001b[1;33m \u001b[0msys\u001b[0m\u001b[1;33m.\u001b[0m\u001b[0msleep\u001b[0m\u001b[1;33m(\u001b[0m\u001b[1;36m500\u001b[0m\u001b[1;33m)\u001b[0m\u001b[1;33m\u001b[0m\u001b[0m\n\u001b[0m\u001b[0;32m      3\u001b[0m \u001b[0mhtml\u001b[0m \u001b[1;33m=\u001b[0m \u001b[0mrequests\u001b[0m\u001b[1;33m.\u001b[0m\u001b[0mpost\u001b[0m\u001b[1;33m(\u001b[0m\u001b[1;34m\"http://btfuliziyuan.net/\"\u001b[0m\u001b[1;33m,\u001b[0m \u001b[0mdata\u001b[0m\u001b[1;33m=\u001b[0m\u001b[0mparams\u001b[0m\u001b[1;33m)\u001b[0m\u001b[1;33m.\u001b[0m\u001b[0mtext\u001b[0m\u001b[1;33m\u001b[0m\u001b[0m\n\u001b[0;32m      4\u001b[0m \u001b[0mbstar\u001b[0m \u001b[1;33m=\u001b[0m \u001b[0mBeautifulSoup\u001b[0m\u001b[1;33m(\u001b[0m\u001b[0mhtml\u001b[0m\u001b[1;33m,\u001b[0m \u001b[1;34m'lxml'\u001b[0m\u001b[1;33m)\u001b[0m\u001b[1;33m\u001b[0m\u001b[0m\n\u001b[0;32m      5\u001b[0m \u001b[1;33m\u001b[0m\u001b[0m\n",
      "\u001b[1;31mAttributeError\u001b[0m: module 'sys' has no attribute 'sleep'"
     ]
    }
   ],
   "source": [
    "params = {'keyword': u'雷神'}\n",
    "sys.sleep(500)\n",
    "html = requests.post(\"http://btfuliziyuan.net/\", data=params).text\n",
    "bstar = BeautifulSoup(html, 'lxml')\n",
    "\n",
    "itemlist = bstar.find_all('dl', class_='item')\n",
    "    \n",
    "for item in itemlist:\n",
    "    item_attrs = item.find('dd', class_='attr')\n",
    "    \n",
    "item_attrlist = []\n",
    "for i in item_attrs.children:\n",
    "    if(i.b):\n",
    "        item_attrlist.append((i.contents)[1].text)\n",
    "        print((i.contents)[0])\n",
    "\n",
    "print(item_attrlist)"
   ]
  },
  {
   "cell_type": "code",
   "execution_count": 9,
   "metadata": {
    "collapsed": false
   },
   "outputs": [],
   "source": [
    "from bs4 import BeautifulSoup\n",
    "import requests\n",
    "\n",
    "import json\n",
    "import time\n",
    "http_session = requests.session()\n",
    "url = \"https://www.btbook.us/\"\n",
    "params = json.dumps({'q':r'钢铁侠'})\n",
    "headers = {\n",
    "    \"Accept\": \"text/html,application/xhtml+xml,application/xml;q=0.9,image/webp,image/apng,*/*;q=0.8\",\n",
    "#     \"Accept-Encoding\": \"gzip, deflate\",\n",
    "    \"Accept-Language\": \"en-US,en;q=0.9,zh-CN;q=0.8,zh;q=0.7\",\n",
    "#     \"Cookie\": \"__cfduid=d592284a56accd07ef33e40739c5801d81535786480\",\n",
    "#     \"Host\": \"https://www.btbook.us/\",\n",
    "    \"User-Agent\": \"Mozilla/5.0 (Windows NT 10.0; Win64; x64) AppleWebKit/537.36 (KHTML, like Gecko) Chrome/69.0.3497.100 Safari/537.36\"\n",
    "}"
   ]
  },
  {
   "cell_type": "code",
   "execution_count": 5,
   "metadata": {
    "collapsed": false
   },
   "outputs": [
    {
     "name": "stdout",
     "output_type": "stream",
     "text": [
      "b'<html>\\r\\n<head><title>400 Bad Request</title></head>\\r\\n<body bgcolor=\"white\">\\r\\n<center><h1>400 Bad Request</h1></center>\\r\\n<hr><center>cloudflare</center>\\r\\n</body>\\r\\n</html>\\r\\n<!-- a padding to disable MSIE and Chrome friendly error page -->\\r\\n<!-- a padding to disable MSIE and Chrome friendly error page -->\\r\\n<!-- a padding to disable MSIE and Chrome friendly error page -->\\r\\n<!-- a padding to disable MSIE and Chrome friendly error page -->\\r\\n<!-- a padding to disable MSIE and Chrome friendly error page -->\\r\\n<!-- a padding to disable MSIE and Chrome friendly error page -->\\r\\n'\n"
     ]
    }
   ],
   "source": [
    "response = http_session.get(url=url, headers=headers)\n",
    "time.sleep(1)\n",
    "post = http_session.post(url, data=params, headers=headers)\n",
    "print(post.content)"
   ]
  },
  {
   "cell_type": "code",
   "execution_count": null,
   "metadata": {
    "collapsed": false
   },
   "outputs": [],
   "source": [
    "tarurl = \"http://btfuliziyuan.net/\"\n",
    "requests.post(tarurl, params, headers=headers).text"
   ]
  },
  {
   "cell_type": "code",
   "execution_count": null,
   "metadata": {
    "collapsed": true
   },
   "outputs": [],
   "source": []
  }
 ],
 "metadata": {
  "kernelspec": {
   "display_name": "Python3.5",
   "language": "python",
   "name": "python35"
  },
  "language_info": {
   "codemirror_mode": {
    "name": "ipython",
    "version": 3
   },
   "file_extension": ".py",
   "mimetype": "text/x-python",
   "name": "python",
   "nbconvert_exporter": "python",
   "pygments_lexer": "ipython3",
   "version": "3.5.4"
  }
 },
 "nbformat": 4,
 "nbformat_minor": 2
}
