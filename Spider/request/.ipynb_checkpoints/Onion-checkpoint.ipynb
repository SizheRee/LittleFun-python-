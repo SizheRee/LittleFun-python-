{
 "cells": [
  {
   "cell_type": "code",
   "execution_count": 1,
   "metadata": {
    "collapsed": true
   },
   "outputs": [],
   "source": [
    "from bs4 import BeautifulSoup\n",
    "import requests\n",
    "import json\n",
    "import time"
   ]
  },
  {
   "cell_type": "code",
   "execution_count": 37,
   "metadata": {
    "collapsed": true
   },
   "outputs": [],
   "source": [
    "url = \"http://www.btbook.me/\"\n",
    "payload = {\"q\":u\"蚁人\"}\n",
    "\n",
    "headers = {\n",
    "    \"Accept\": \"text/html,application/xhtml+xml,application/xml;q=0.9,image/webp,image/apng,*/*;q=0.8\",\n",
    "    \"Accept-Encoding\": \"gzip, deflate\",\n",
    "    \"Accept-Language\": \"en-US,en;q=0.9,zh-CN;q=0.8,zh;q=0.7\",\n",
    "    \"Connection\" : \"keep-alive\",\n",
    "    \"Host\":\"www.btbook.me\",\n",
    "    \"Host\":\"http://www.btbook.me/\",\n",
    "    \"User-Agent\": \"Mozilla/5.0 (Windows NT 10.0; Win64; x64) AppleWebKit/537.36 (KHTML, like Gecko) Chrome/69.0.3497.100 Safari/537.36\"\n",
    "}\n",
    "\n",
    "Accept: text/html,application/xhtml+xml,application/xml;q=0.9,image/webp,image/apng,*/*;q=0.8\n",
    "Accept-Encoding: gzip, deflate\n",
    "Accept-Language: en-US,en;q=0.9,zh-CN;q=0.8,zh;q=0.7\n",
    "Connection: keep-alive\n",
    "Host: www.btbook.me\n",
    "Referer: http://www.btbook.me/\n",
    "Upgrade-Insecure-Requests: 1\n",
    "User-Agent: Mozilla/5.0 (Windows NT 10.0; Win64; x64) AppleWebKit/537.36 (KHTML, like Gecko) Chrome/69.0.3497.100 Safari/537.36\n",
    "    \n",
    "session = requests.session()\n",
    "session.headers = headers"
   ]
  },
  {
   "cell_type": "code",
   "execution_count": 38,
   "metadata": {
    "collapsed": false
   },
   "outputs": [
    {
     "name": "stdout",
     "output_type": "stream",
     "text": [
      "<Response [200]>\n"
     ]
    }
   ],
   "source": [
    "# res_get = session.get(url)\n",
    "\n",
    "res_post = session.post(url=url, data=payload)\n",
    "print(res_post)"
   ]
  },
  {
   "cell_type": "code",
   "execution_count": 45,
   "metadata": {
    "collapsed": false
   },
   "outputs": [],
   "source": [
    "if (res_post.text):\n",
    "    with open(\"D:/Github/index.html\", \"w\", encoding=\"utf-8\") as fp:\n",
    "        fp.write(res_post.text)"
   ]
  },
  {
   "cell_type": "code",
   "execution_count": 39,
   "metadata": {
    "collapsed": false
   },
   "outputs": [],
   "source": [
    "bstar = BeautifulSoup(res_post.text)"
   ]
  },
  {
   "cell_type": "code",
   "execution_count": 42,
   "metadata": {
    "collapsed": false
   },
   "outputs": [
    {
     "data": {
      "text/plain": [
       "<!DOCTYPE html>\n",
       "<html lang=\"zh-CN\">\n",
       "<head>\n",
       "<meta charset=\"utf-8\"/>\n",
       "<meta content=\"IE=edge\" http-equiv=\"X-UA-Compatible\"/>\n",
       "<meta content=\"width=device-width, initial-scale=1.0\" name=\"viewport\"/>\n",
       "<title>btbook.me - 我的BT磁力链接书屋</title> <meta content=\"btbook.me是一款提供最新最热门的BT种子搜索的磁力搜索引擎，覆含影视音乐、动漫、电子书等BT种子资源，本站实时通过DHT网络获取最新的BT种子文件信息并生成磁力链接。\" name=\"description\"/>\n",
       "<meta content=\"btbook,磁力链接\" name=\"keywords\"/> <meta content=\"no-transform\" http-equiv=\"Cache-Control\"/>\n",
       "<meta content=\"no-siteapp\" http-equiv=\"Cache-Control\"/>\n",
       "<meta content=\"webkit\" name=\"renderer\"/> <link href=\"/favicon.ico\" rel=\"shortcut icon\"/>\n",
       "<link href=\"/view/css/default.css\" rel=\"stylesheet\" type=\"text/css\"/>\n",
       "</head>\n",
       "<body>\n",
       "<div class=\"main\">\n",
       "<div class=\"header fl\">\n",
       "<div class=\"nav\">\n",
       "<a class=\"menu\" href=\"./\">Home</a>\n",
       "<a class=\"menu\" href=\"/tags.htm\">Tags</a>\n",
       "</div>\n",
       "</div>\n",
       "<div class=\"index-box\">\n",
       "<div style=\"margin-bottom: 40px\">\n",
       "<a href=\"/\"><img alt=\"btbook\" src=\"/view/css/logo.png\"/></a>\n",
       "</div>\n",
       "<div id=\"search-box\">\n",
       "<form action=\"/search.htm\" id=\"search-form\" method=\"get\">\n",
       "<input autocomplete=\"off\" id=\"search\" name=\"q\" placeholder=\"Search anything you want...\" type=\"text\"/>\n",
       "<input class=\"blue\" id=\"btnSearch\" type=\"submit\" value=\"Search\"/>\n",
       "</form>\n",
       "<div class=\"info-box\"></div>\n",
       "</div>\n",
       "</div>\n",
       "<script type=\"text/javascript\">\n",
       "        document.getElementById(\"search\").focus();\n",
       "        document.forms[0].onsubmit = function (e) {\n",
       "            e.preventDefault(); \n",
       "            var query = document.getElementById(\"search\").value; if (!query) { document.getElementById(\"search\").focus(); return false; }\n",
       "            var url = 'search.htm?q=' + encodeURIComponent(query); window.location = url; return false;\n",
       "        };\n",
       "        </script>\n",
       "</div>\n",
       "<div class=\"footer fl\">\n",
       "<div class=\"nav_bot\">\n",
       "<small>©2017 \n",
       "\t<a href=\"http://www.btbook.me\" title=\"btbook\">btbook</a>\n",
       "<a href=\"/dmca.htm\" rel=\"nofollow\">DMCA</a></small>\n",
       "<!-- <script type=\"text/javascript\" src=\"/view/css/yong.js\"></script> -->\n",
       "<span><script language=\"JavaScript\" src=\"http://s4.cnzz.com/stat.php?id=1255667073&amp;web_id=1255667073\"></script></span>\n",
       "<script type=\"text/javascript\">\n",
       "(function(){\n",
       "    var bp = document.createElement('script');\n",
       "    bp.src = '//push.zhanzhang.baidu.com/push.js';\n",
       "    var s = document.getElementsByTagName(\"script\")[0];\n",
       "    s.parentNode.insertBefore(bp, s);\n",
       "})();\n",
       "</script>\n",
       "</div>\n",
       "</div>\n",
       "</body>\n",
       "</html>"
      ]
     },
     "execution_count": 42,
     "metadata": {},
     "output_type": "execute_result"
    }
   ],
   "source": [
    "bstar"
   ]
  },
  {
   "cell_type": "code",
   "execution_count": null,
   "metadata": {
    "collapsed": true
   },
   "outputs": [],
   "source": []
  }
 ],
 "metadata": {
  "kernelspec": {
   "display_name": "Python3.5",
   "language": "python",
   "name": "python35"
  },
  "language_info": {
   "codemirror_mode": {
    "name": "ipython",
    "version": 3
   },
   "file_extension": ".py",
   "mimetype": "text/x-python",
   "name": "python",
   "nbconvert_exporter": "python",
   "pygments_lexer": "ipython3",
   "version": "3.5.4"
  }
 },
 "nbformat": 4,
 "nbformat_minor": 2
}
