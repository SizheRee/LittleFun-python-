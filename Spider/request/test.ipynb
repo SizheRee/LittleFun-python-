{
 "cells": [
  {
   "cell_type": "code",
   "execution_count": 1,
   "metadata": {
    "collapsed": true
   },
   "outputs": [],
   "source": [
    "import urllib.request as request\n",
    "from urllib.error import HTTPError\n",
    "from queue import Queue\n",
    "import re\n",
    "import bs4\n",
    "import json\n",
    "\n",
    "import requests"
   ]
  },
  {
   "cell_type": "code",
   "execution_count": 2,
   "metadata": {
    "collapsed": false
   },
   "outputs": [
    {
     "name": "stdout",
     "output_type": "stream",
     "text": [
      "<!DOCTYPE HTML>\n",
      "<html lang=\"en-US\">\n",
      "<head>\n",
      "  <meta charset=\"UTF-8\" />\n",
      "  <meta http-equiv=\"Content-Type\" content=\"text/html; charset=UTF-8\" />\n",
      "  <meta http-equiv=\"X-UA-Compatible\" content=\"IE=Edge,chrome=1\" />\n",
      "  <meta name=\"robots\" content=\"noindex, nofollow\" />\n",
      "  <meta name=\"viewport\" content=\"width=device-width, initial-scale=1, maximum-scale=1\" />\n",
      "  <title>Just a moment...</title>\n",
      "  <style type=\"text/css\">\n",
      "    html, body {width: 100%; height: 100%; margin: 0; padding: 0;}\n",
      "    body {background-color: #ffffff; font-family: Helvetica, Arial, sans-serif; font-size: 100%;}\n",
      "    h1 {font-size: 1.5em; color: #404040; text-align: center;}\n",
      "    p {font-size: 1em; color: #404040; text-align: center; margin: 10px 0 0 0;}\n",
      "    #spinner {margin: 0 auto 30px auto; display: block;}\n",
      "    .attribution {margin-top: 20px;}\n",
      "    @-webkit-keyframes bubbles { 33%: { -webkit-transform: translateY(10px); transform: translateY(10px); } 66% { -webkit-transform: translateY(-10px); transform: translateY(-10px); } 100% { -webkit-transform: translateY(0); transform: translateY(0); } }\n",
      "    @keyframes bubbles { 33%: { -webkit-transform: translateY(10px); transform: translateY(10px); } 66% { -webkit-transform: translateY(-10px); transform: translateY(-10px); } 100% { -webkit-transform: translateY(0); transform: translateY(0); } }\n",
      "    .bubbles { background-color: #404040; width:15px; height: 15px; margin:2px; border-radius:100%; -webkit-animation:bubbles 0.6s 0.07s infinite ease-in-out; animation:bubbles 0.6s 0.07s infinite ease-in-out; -webkit-animation-fill-mode:both; animation-fill-mode:both; display:inline-block; }\n",
      "  </style>\n",
      "\n",
      "    <script type=\"text/javascript\">\n",
      "  //<![CDATA[\n",
      "  (function(){\n",
      "    var a = function() {try{return !!window.addEventListener} catch(e) {return !1} },\n",
      "    b = function(b, c) {a() ? document.addEventListener(\"DOMContentLoaded\", b, c) : document.attachEvent(\"onreadystatechange\", b)};\n",
      "    b(function(){\n",
      "      var a = document.getElementById('cf-content');a.style.display = 'block';\n",
      "      setTimeout(function(){\n",
      "        var s,t,o,p,b,r,e,a,k,i,n,g,f, tAZocJG={\"O\":+((!+[]+!![]+!![]+!![]+!![]+!![]+!![]+!![]+!![]+[])+(!+[]+!![])+(+[])+(!+[]+!![]+!![]+!![])+(+!![])+(!+[]+!![]+!![]+!![]+!![]+!![]+!![]+!![]+!![])+(!+[]+!![]+!![]+!![]+!![]+!![]+!![]+!![])+(!+[]+!![])+(!+[]+!![]+!![]))/+((+!![]+[])+(!+[]+!![]+!![]+!![]+!![]+!![]+!![])+(!+[]+!![]+!![]+!![]+!![]+!![])+(!+[]+!![]+!![])+(!+[]+!![]+!![]+!![])+(+[])+(!+[]+!![]+!![]+!![]+!![]+!![])+(!+[]+!![]+!![])+(!+[]+!![]+!![]+!![]+!![]+!![]+!![]))};\n",
      "        t = document.createElement('div');\n",
      "        t.innerHTML=\"<a href='/'>x</a>\";\n",
      "        t = t.firstChild.href;r = t.match(/https?:\\/\\//)[0];\n",
      "        t = t.substr(r.length); t = t.substr(0,t.length-1);\n",
      "        a = document.getElementById('jschl-answer');\n",
      "        f = document.getElementById('challenge-form');\n",
      "        ;tAZocJG.O+=+((!+[]+!![]+!![]+!![]+!![]+!![]+!![]+!![]+[])+(+!![])+(!+[]+!![]+!![]+!![]+!![]+!![]+!![])+(!+[]+!![]+!![]+!![]+!![])+(+[])+(!+[]+!![]+!![]+!![])+(!+[]+!![])+(!+[]+!![]+!![]+!![])+(!+[]+!![]+!![]))/+((!+[]+!![]+!![]+!![]+!![]+!![]+!![]+[])+(!+[]+!![])+(!+[]+!![]+!![]+!![]+!![])+(!+[]+!![]+!![]+!![]+!![]+!![]+!![]+!![])+(!+[]+!![]+!![]+!![]+!![]+!![])+(+!![])+(!+[]+!![]+!![]+!![]+!![]+!![]+!![]+!![]+!![])+(!+[]+!![])+(!+[]+!![]+!![]+!![]+!![]+!![]+!![]+!![]+!![]));tAZocJG.O*=+((!+[]+!![]+!![]+!![]+!![]+!![]+!![]+!![]+[])+(!+[]+!![]+!![]+!![]+!![])+(!+[]+!![]+!![]+!![]+!![]+!![]+!![]+!![])+(!+[]+!![]+!![]+!![]+!![])+(!+[]+!![]+!![]+!![]+!![]+!![]+!![]+!![]+!![])+(!+[]+!![]+!![]+!![]+!![]+!![]+!![]+!![]+!![])+(!+[]+!![]+!![]+!![]+!![])+(+[])+(!+[]+!![]+!![]))/+((!+[]+!![]+!![]+!![]+!![]+!![]+!![]+!![]+!![]+[])+(!+[]+!![]+!![])+(!+[]+!![]+!![]+!![]+!![])+(!+[]+!![]+!![]+!![])+(+!![])+(!+[]+!![])+(!+[]+!![]+!![]+!![]+!![]+!![])+(+!![])+(!+[]+!![]+!![]+!![]+!![]+!![]));tAZocJG.O*=+((!+[]+!![]+!![]+!![]+!![]+!![]+!![]+!![]+[])+(!+[]+!![]+!![])+(!+[]+!![]+!![]+!![]+!![]+!![]+!![]+!![])+(+[])+(!+[]+!![]+!![]+!![])+(+!![])+(!+[]+!![]+!![]+!![]+!![]+!![])+(!+[]+!![]+!![]+!![])+(+!![]))/+((!+[]+!![]+!![]+!![]+[])+(!+[]+!![]+!![]+!![]+!![])+(!+[]+!![]+!![]+!![]+!![])+(!+[]+!![]+!![]+!![]+!![]+!![]+!![])+(+[])+(!+[]+!![]+!![]+!![]+!![])+(!+[]+!![]+!![]+!![]+!![]+!![]+!![]+!![]+!![])+(!+[]+!![]+!![]+!![])+(!+[]+!![]+!![]+!![]+!![]+!![]));tAZocJG.O+=+((!+[]+!![]+!![]+!![]+!![]+!![]+!![]+!![]+[])+(!+[]+!![]+!![])+(!+[]+!![]+!![]+!![]+!![]+!![]+!![]+!![])+(+[])+(!+[]+!![]+!![]+!![])+(+!![])+(!+[]+!![]+!![]+!![]+!![]+!![])+(!+[]+!![]+!![]+!![])+(+!![]))/+((!+[]+!![]+!![]+!![]+!![]+!![]+!![]+!![]+!![]+[])+(!+[]+!![]+!![]+!![])+(!+[]+!![]+!![]+!![]+!![]+!![]+!![]+!![])+(!+[]+!![])+(!+[]+!![]+!![]+!![]+!![]+!![]+!![])+(!+[]+!![]+!![])+(+!![])+(!+[]+!![]+!![]+!![]+!![]+!![]+!![])+(!+[]+!![]+!![]+!![]+!![]+!![]+!![]));tAZocJG.O-=+((!+[]+!![]+!![]+!![]+!![]+!![]+!![]+!![]+[])+(!+[]+!![]+!![]+!![]+!![])+(!+[]+!![]+!![]+!![]+!![]+!![]+!![]+!![])+(!+[]+!![]+!![]+!![]+!![])+(!+[]+!![]+!![]+!![]+!![]+!![]+!![]+!![]+!![])+(!+[]+!![]+!![]+!![]+!![]+!![]+!![]+!![]+!![])+(!+[]+!![]+!![]+!![]+!![])+(+[])+(!+[]+!![]+!![]))/+((!+[]+!![]+!![]+!![]+!![]+!![]+!![]+[])+(!+[]+!![])+(!+[]+!![])+(!+[]+!![]+!![]+!![]+!![])+(!+[]+!![]+!![]+!![]+!![])+(!+[]+!![]+!![]+!![]+!![]+!![]+!![]+!![]+!![])+(!+[]+!![]+!![]+!![]+!![])+(+!![])+(!+[]+!![]+!![]+!![]+!![]));tAZocJG.O+=+((!+[]+!![]+!![]+!![]+!![]+!![]+!![]+!![]+!![]+[])+(!+[]+!![])+(+[])+(!+[]+!![]+!![]+!![])+(+!![])+(!+[]+!![]+!![]+!![]+!![]+!![]+!![]+!![]+!![])+(!+[]+!![]+!![]+!![]+!![]+!![]+!![]+!![])+(!+[]+!![])+(!+[]+!![]+!![]))/+((!+[]+!![]+!![]+!![]+!![]+!![]+[])+(!+[]+!![]+!![])+(!+[]+!![]+!![]+!![]+!![]+!![]+!![]+!![]+!![])+(!+[]+!![]+!![]+!![]+!![]+!![]+!![]+!![]+!![])+(!+[]+!![])+(!+[]+!![]+!![]+!![]+!![]+!![])+(!+[]+!![])+(+!![])+(!+[]+!![]+!![]));tAZocJG.O-=+((!+[]+!![]+!![]+!![]+!![]+!![]+!![]+!![]+!![]+[])+(!+[]+!![])+(+[])+(!+[]+!![]+!![]+!![])+(+!![])+(!+[]+!![]+!![]+!![]+!![]+!![]+!![]+!![]+!![])+(!+[]+!![]+!![]+!![]+!![]+!![]+!![]+!![])+(!+[]+!![])+(!+[]+!![]+!![]))/+((!+[]+!![]+[])+(+!![])+(!+[]+!![]+!![])+(!+[]+!![]+!![]+!![]+!![]+!![]+!![]+!![]+!![])+(!+[]+!![]+!![])+(!+[]+!![]+!![]+!![]+!![]+!![])+(!+[]+!![]+!![]+!![])+(!+[]+!![]+!![])+(!+[]+!![]+!![]+!![]+!![]+!![]+!![]));tAZocJG.O-=+((!+[]+!![]+!![]+!![]+!![]+!![]+!![]+!![]+[])+(!+[]+!![]+!![]+!![]+!![])+(!+[]+!![]+!![]+!![]+!![]+!![]+!![]+!![])+(!+[]+!![]+!![]+!![]+!![])+(!+[]+!![]+!![]+!![]+!![]+!![]+!![]+!![]+!![])+(!+[]+!![]+!![]+!![]+!![]+!![]+!![]+!![]+!![])+(!+[]+!![]+!![]+!![]+!![])+(+[])+(!+[]+!![]+!![]))/+((!+[]+!![]+!![]+!![]+!![]+[])+(!+[]+!![]+!![]+!![]+!![]+!![]+!![]+!![]+!![])+(+!![])+(+!![])+(!+[]+!![]+!![]+!![]+!![])+(!+[]+!![]+!![])+(!+[]+!![]+!![]+!![]+!![]+!![]+!![])+(!+[]+!![]+!![]+!![]+!![]+!![]+!![]+!![]+!![])+(!+[]+!![]+!![]+!![]+!![]+!![]+!![]+!![]));tAZocJG.O-=+((!+[]+!![]+!![]+!![]+!![]+!![]+!![]+!![]+!![]+[])+(!+[]+!![])+(+[])+(!+[]+!![]+!![]+!![])+(+!![])+(!+[]+!![]+!![]+!![]+!![]+!![]+!![]+!![]+!![])+(!+[]+!![]+!![]+!![]+!![]+!![]+!![]+!![])+(!+[]+!![])+(!+[]+!![]+!![]))/+((+!![]+[])+(!+[]+!![]+!![]+!![]+!![]+!![]+!![]+!![])+(+!![])+(!+[]+!![]+!![]+!![]+!![]+!![]+!![])+(!+[]+!![]+!![]+!![]+!![]+!![]+!![]+!![])+(!+[]+!![]+!![]+!![]+!![]+!![]+!![]+!![]+!![])+(!+[]+!![]+!![]+!![]+!![]+!![]+!![]+!![]+!![])+(!+[]+!![]+!![]+!![])+(!+[]+!![]));tAZocJG.O*=+((!+[]+!![]+!![]+!![]+!![]+!![]+!![]+!![]+!![]+[])+(!+[]+!![])+(+[])+(!+[]+!![]+!![]+!![])+(+!![])+(!+[]+!![]+!![]+!![]+!![]+!![]+!![]+!![]+!![])+(!+[]+!![]+!![]+!![]+!![]+!![]+!![]+!![])+(!+[]+!![])+(!+[]+!![]+!![]))/+((!+[]+!![]+!![]+!![]+!![]+!![]+[])+(!+[]+!![]+!![])+(!+[]+!![]+!![]+!![]+!![]+!![])+(!+[]+!![])+(!+[]+!![]+!![]+!![]+!![]+!![]+!![]+!![])+(+!![])+(!+[]+!![]+!![]+!![])+(!+[]+!![])+(!+[]+!![]+!![]+!![]+!![]+!![]+!![]+!![]+!![]));a.value = +tAZocJG.O.toFixed(10) + t.length; '; 121'\n",
      "        f.action += location.hash;\n",
      "        f.submit();\n",
      "      }, 4000);\n",
      "    }, false);\n",
      "  })();\n",
      "  //]]>\n",
      "</script>\n",
      "\n",
      "\n",
      "</head>\n",
      "<body>\n",
      "  <table width=\"100%\" height=\"100%\" cellpadding=\"20\">\n",
      "    <tr>\n",
      "      <td align=\"center\" valign=\"middle\">\n",
      "          <div class=\"cf-browser-verification cf-im-under-attack\">\n",
      "  <noscript><h1 data-translate=\"turn_on_js\" style=\"color:#bd2426;\">Please turn JavaScript on and reload the page.</h1></noscript>\n",
      "  <div id=\"cf-content\" style=\"display:none\">\n",
      "    \n",
      "    <div>\n",
      "      <div class=\"bubbles\"></div>\n",
      "      <div class=\"bubbles\"></div>\n",
      "      <div class=\"bubbles\"></div>\n",
      "    </div>\n",
      "    <h1><span data-translate=\"checking_browser\">Checking your browser before accessing</span> btfuliziyuan.net.</h1>\n",
      "    \n",
      "    <p data-translate=\"process_is_automatic\">This process is automatic. Your browser will redirect to your requested content shortly.</p>\n",
      "    <p data-translate=\"allow_5_secs\">Please allow up to 5 seconds&hellip;</p>\n",
      "  </div>\n",
      "   <div style=\"display: none;\"><a href=\"http://nhs-foi.com/aberrantgrump.php?f=705\">table</a></div>\n",
      "  <form id=\"challenge-form\" action=\"/cdn-cgi/l/chk_jschl\" method=\"get\">\n",
      "    <input type=\"hidden\" name=\"jschl_vc\" value=\"8749d51c8ed0878d890f4b5b0222dd06\"/>\n",
      "    <input type=\"hidden\" name=\"pass\" value=\"1538113380.332-9IeBt9k85u\"/>\n",
      "    <input type=\"hidden\" id=\"jschl-answer\" name=\"jschl_answer\"/>\n",
      "  </form>\n",
      "</div>\n",
      "\n",
      "          \n",
      "          <div class=\"attribution\">\n",
      "            <a href=\"https://www.cloudflare.com/5xx-error-landing?utm_source=iuam\" target=\"_blank\" style=\"font-size: 12px;\">DDoS protection by Cloudflare</a>\n",
      "            <br>\n",
      "            Ray ID: 4613e3ba054239a0\n",
      "          </div>\n",
      "      </td>\n",
      "     \n",
      "    </tr>\n",
      "  </table>\n",
      "</body>\n",
      "</html>\n",
      "\n"
     ]
    }
   ],
   "source": [
    "params = {'keyword':r'金刚狼'}\n",
    "r = requests.post(\"http://btfuliziyuan.net/\", data=params)\n",
    "print(r.text)"
   ]
  },
  {
   "cell_type": "code",
   "execution_count": 4,
   "metadata": {
    "collapsed": false
   },
   "outputs": [],
   "source": [
    "from bs4 import BeautifulSoup\n",
    "html = r.text\n",
    "bsObj = BeautifulSoup(html, 'lxml')"
   ]
  },
  {
   "cell_type": "code",
   "execution_count": 5,
   "metadata": {
    "collapsed": false
   },
   "outputs": [],
   "source": [
    "itemslist = bsObj.findAll('dl', class_='item')"
   ]
  },
  {
   "cell_type": "code",
   "execution_count": 6,
   "metadata": {
    "collapsed": false
   },
   "outputs": [
    {
     "name": "stdout",
     "output_type": "stream",
     "text": [
      "收录时间 2011-03-28\n",
      "文件大小 1.41 GB\n",
      "文件大小 ['1.41', 'GB']\n",
      "文件数 12\n",
      "下载速度 极快\n",
      "人气 605\n",
      "磁力链://btfuliziyuan.net/item/y7cVzde6XJstZ8NIP71zKN8IDu4.jsp#magnetlink\n",
      "收录时间 2010-04-16\n",
      "文件大小 41.06 GB\n",
      "文件大小 ['41.06', 'GB']\n",
      "文件数 403\n",
      "下载速度 极快\n",
      "人气 29524\n",
      "磁力链://btfuliziyuan.net/item/kwRmK15lKYs3WpGdAEeFpUi1NEV.jsp#magnetlink\n",
      "收录时间 2011-03-27\n",
      "文件大小 3.42 GB\n",
      "文件大小 ['3.42', 'GB']\n",
      "文件数 17\n",
      "下载速度 极快\n",
      "人气 42464\n",
      "磁力链://btfuliziyuan.net/item/bG4mcmWQb2aMkNqO7w9e4fVtkTv.jsp#magnetlink\n",
      "收录时间 2014-06-14\n",
      "文件大小 3.14 GB\n",
      "文件大小 ['3.14', 'GB']\n",
      "文件数 16\n",
      "下载速度 极快\n",
      "人气 1079\n",
      "磁力链://btfuliziyuan.net/item/OnTBPjGsQ8rqEnItNc76sO4oMur.jsp#magnetlink\n",
      "收录时间 2017-03-08\n",
      "文件大小 15.54 GB\n",
      "文件大小 ['15.54', 'GB']\n",
      "文件数 11\n",
      "下载速度 极快\n",
      "人气 35206\n",
      "磁力链://btfuliziyuan.net/item/mWgbnesd-J1XhVFae_uvuy54zly.jsp#magnetlink\n",
      "收录时间 2011-02-27\n",
      "文件大小 2.24 GB\n",
      "文件大小 ['2.24', 'GB']\n",
      "文件数 13\n",
      "下载速度 极快\n",
      "人气 11144\n",
      "磁力链://btfuliziyuan.net/item/cxUVyiu1gfOsH6OyfHAP7u1-8tY.jsp#magnetlink\n",
      "收录时间 2011-02-23\n",
      "文件大小 1.97 GB\n",
      "文件大小 ['1.97', 'GB']\n",
      "文件数 12\n",
      "下载速度 极快\n",
      "人气 478\n",
      "磁力链://btfuliziyuan.net/item/LL2Q--UgrQMzxjsZHgGxiUGSMNY.jsp#magnetlink\n",
      "收录时间 2013-11-10\n",
      "文件大小 3.11 GB\n",
      "文件大小 ['3.11', 'GB']\n",
      "文件数 37\n",
      "下载速度 极快\n",
      "人气 6227\n",
      "磁力链://btfuliziyuan.net/item/VZyCFzmZLqvLNeEKN5nqdAOwNXl.jsp#magnetlink\n",
      "收录时间 2013-11-10\n",
      "文件大小 3.11 GB\n",
      "文件大小 ['3.11', 'GB']\n",
      "文件数 37\n",
      "下载速度 极快\n",
      "人气 18483\n",
      "磁力链://btfuliziyuan.net/item/5VOj1In7mRSG1vpetGu5StLqol4.jsp#magnetlink\n",
      "收录时间 2013-11-10\n",
      "文件大小 3.11 GB\n",
      "文件大小 ['3.11', 'GB']\n",
      "文件数 37\n",
      "下载速度 极快\n",
      "人气 8412\n",
      "磁力链://btfuliziyuan.net/item/gP_mFa4NM2LsHJiiWnZs-eY2w_W.jsp#magnetlink\n",
      "收录时间 2011-02-06\n",
      "文件大小 1.49 GB\n",
      "文件大小 ['1.49', 'GB']\n",
      "文件数 10\n",
      "下载速度 极快\n",
      "人气 247\n",
      "磁力链://btfuliziyuan.net/item/901QeGyB2_Ltd1GGDizqKaESPTV.jsp#magnetlink\n",
      "收录时间 2016-01-05\n",
      "文件大小 1.19 GB\n",
      "文件大小 ['1.19', 'GB']\n",
      "文件数 9\n",
      "下载速度 极快\n",
      "人气 83\n",
      "磁力链://btfuliziyuan.net/item/CnEnooFLyCUREFNgPQWm02US-Ar.jsp#magnetlink\n",
      "收录时间 2017-06-03\n",
      "文件大小 4.47 GB\n",
      "文件大小 ['4.47', 'GB']\n",
      "文件数 3\n",
      "下载速度 极快\n",
      "人气 2444\n",
      "磁力链://btfuliziyuan.net/item/P3yjcaT_CP5EfmSEljgn4H-_aWy.jsp#magnetlink\n",
      "收录时间 2011-01-24\n",
      "文件大小 858.09 MB\n",
      "文件大小 ['858.09', 'MB']\n",
      "文件数 8\n",
      "下载速度 极快\n",
      "人气 42\n",
      "磁力链://btfuliziyuan.net/item/qQ6RS6lz5aqYrdrZs5EOZIts-Pr.jsp#magnetlink\n",
      "收录时间 2013-12-04\n",
      "文件大小 3.75 GB\n",
      "文件大小 ['3.75', 'GB']\n",
      "文件数 3\n",
      "下载速度 极快\n",
      "人气 5044\n",
      "磁力链://btfuliziyuan.net/item/OelwfLGr3Rsf-xJVWvNr3aQP0zy.jsp#magnetlink\n",
      "收录时间 2017-10-15\n",
      "文件大小 6.27 GB\n",
      "文件大小 ['6.27', 'GB']\n",
      "文件数 4\n",
      "下载速度 极快\n",
      "人气 403\n",
      "磁力链://btfuliziyuan.net/item/f7OM_lPugjr3QYGFyYSkbE5JiRr.jsp#magnetlink\n",
      "收录时间 2017-07-25\n",
      "文件大小 31.91 GB\n",
      "文件大小 ['31.91', 'GB']\n",
      "文件数 7\n",
      "下载速度 极快\n",
      "人气 53500\n",
      "磁力链://btfuliziyuan.net/item/nxNR4yWTryZVwEFQYu5AtfonP1x.jsp#magnetlink\n",
      "收录时间 2013-11-12\n",
      "文件大小 3.8 GB\n",
      "文件大小 ['3.8', 'GB']\n",
      "文件数 11\n",
      "下载速度 极快\n",
      "人气 41840\n",
      "磁力链://btfuliziyuan.net/item/WzSSzqXrhmwmMuS91BYTcFfu-qR.jsp#magnetlink\n",
      "收录时间 2017-06-28\n",
      "文件大小 17.68 GB\n",
      "文件大小 ['17.68', 'GB']\n",
      "文件数 4\n",
      "下载速度 极快\n",
      "人气 495\n",
      "磁力链://btfuliziyuan.net/item/lzHM8UDXAyw1vCHYEu8BXjy348r.jsp#magnetlink\n",
      "收录时间 2017-08-17\n",
      "文件大小 6.92 GB\n",
      "文件大小 ['6.92', 'GB']\n",
      "文件数 3\n",
      "下载速度 极快\n",
      "人气 9081\n",
      "磁力链://btfuliziyuan.net/item/U33cCdajelkyGwJgxbnpCOMl5QY.jsp#magnetlink\n"
     ]
    }
   ],
   "source": [
    "\n",
    "for i in itemslist:\n",
    "#     print(i.text)\n",
    "    spanlist = i.findAll('span', class_=None)\n",
    "    for j in spanlist:\n",
    "        if((j.a)  == None):\n",
    "            if \":\" in j.text:\n",
    "                attr, value = j.text.split(':')\n",
    "                print(attr, value)\n",
    "                if attr == '文件大小':\n",
    "                    print(attr, value.strip().split(' '))\n",
    "        else:\n",
    "            if (j.text == '磁力链'):\n",
    "                tar = j.a['href']\n",
    "                print(j.text+':'+j.a['href'])\n"
   ]
  },
  {
   "cell_type": "code",
   "execution_count": 7,
   "metadata": {
    "collapsed": false
   },
   "outputs": [],
   "source": [
    "tar = '//btfuliziyuan.net/item/y7cVzde6XJstZ8NIP71zKN8IDu4.jsp#magnetlink'\n",
    "a = requests.post('http:'+tar)\n",
    "Page_2 = BeautifulSoup(a.text, 'lxml')"
   ]
  },
  {
   "cell_type": "code",
   "execution_count": 8,
   "metadata": {
    "collapsed": false
   },
   "outputs": [
    {
     "data": {
      "text/plain": [
       "'magnet:?xt=urn:btih:234f098a961bf42bc02fbb737b43a2eadef3679d&dn=%5B%E5%BC%82%E5%9F%9F%E5%AD%97%E5%B9%95%E7%BB%84%5D%5B%E9%87%91%E5%88%9A%E7%8B%BC%5D%5BWolverine%5D%5B1024x576%5D%5Bgb%5D%5Brmvb%5D'"
      ]
     },
     "execution_count": 8,
     "metadata": {},
     "output_type": "execute_result"
    }
   ],
   "source": [
    "Page_2.find('p', class_='dd magnet').a['href']"
   ]
  },
  {
   "cell_type": "code",
   "execution_count": 9,
   "metadata": {
    "collapsed": false
   },
   "outputs": [],
   "source": [
    "filelist_bs = Page_2.body.find('div', class_='dd filelist')"
   ]
  },
  {
   "cell_type": "code",
   "execution_count": 10,
   "metadata": {
    "collapsed": false
   },
   "outputs": [],
   "source": [
    "filelist_bs2 = filelist_bs.find('div', class_='fname')"
   ]
  },
  {
   "cell_type": "code",
   "execution_count": 11,
   "metadata": {
    "collapsed": false
   },
   "outputs": [
    {
     "data": {
      "text/plain": [
       "[<p><img src=\"//btfuliziyuan.net/pic/ext/video.png\"/><span class=\"filename\">异域字幕组_金刚狼_Wolverine_11_848x480_GB.rmvb</span><span class=\"size\">139.62 MB</span></p>,\n",
       " <p><img src=\"//btfuliziyuan.net/pic/ext/video.png\"/><span class=\"filename\">异域字幕组_金刚狼_Wolverine_10_848x480_GB.rmvb</span><span class=\"size\">138.79 MB</span></p>]"
      ]
     },
     "execution_count": 11,
     "metadata": {},
     "output_type": "execute_result"
    }
   ],
   "source": [
    "filelist_bs2.find_next_siblings('p')"
   ]
  },
  {
   "cell_type": "code",
   "execution_count": 12,
   "metadata": {
    "collapsed": false
   },
   "outputs": [],
   "source": [
    "filelist_bs3 = filelist_bs2.find_next('div', id='filelist_hidden')"
   ]
  },
  {
   "cell_type": "code",
   "execution_count": 13,
   "metadata": {
    "collapsed": false
   },
   "outputs": [
    {
     "name": "stdout",
     "output_type": "stream",
     "text": [
      "异域字幕组_金刚狼_Wolverine_09_848x480_GB.rmvb 121.55 MB\n",
      "异域字幕组_金刚狼_Wolverine_12_848x480_GB.rmvb 120.91 MB\n",
      "异域字幕组_金刚狼_Wolverine_08_848x480_GB.rmvb 119.15 MB\n",
      "异域字幕组_金刚狼_Wolverine_01v2_848x480_GB.rmvb 116.78 MB\n",
      "异域字幕组_金刚狼_Wolverine_05_848x480_GB.rmvb 116.53 MB\n",
      "异域字幕组_金刚狼_Wolverine_04_848x480_GB.rmvb 116.47 MB\n",
      "异域字幕组_金刚狼_Wolverine_07_848x480_GB.rmvb 115.96 MB\n",
      "异域字幕组_金刚狼_Wolverine_03_848x480_GB.rmvb 115.74 MB\n",
      "异域字幕组_金刚狼_Wolverine_06_848x480_GB.rmvb 115.15 MB\n",
      "异域字幕组_金刚狼_Wolverine_02_848x480_GB.rmvb 110.52 MB\n"
     ]
    }
   ],
   "source": [
    "\n",
    "for i in filelist_bs3.findChildren('p'):\n",
    "    print(i.find('span', class_='filename').text, i.find('span', class_='size').text)"
   ]
  },
  {
   "cell_type": "code",
   "execution_count": 16,
   "metadata": {
    "collapsed": true
   },
   "outputs": [],
   "source": [
    "import sys\n",
    "import os"
   ]
  },
  {
   "cell_type": "code",
   "execution_count": 20,
   "metadata": {
    "collapsed": false
   },
   "outputs": [],
   "source": [
    "environ = os.environ"
   ]
  },
  {
   "cell_type": "code",
   "execution_count": 37,
   "metadata": {
    "collapsed": false
   },
   "outputs": [
    {
     "name": "stdout",
     "output_type": "stream",
     "text": [
      "C:\\Users\\李思哲\\AppData\\Local\\Temp/BtSpider/\n"
     ]
    }
   ],
   "source": [
    "TEMPPATH = environ['TEMP'] + \"/\"+ \"BtSpider/\"\n",
    "if(not os.path.exists(TEMPPATH)):\n",
    "    os.mkdir(TEMPPATH)\n",
    "os.chdir(TEMPPATH)\n",
    "print(TEMPPATH)"
   ]
  },
  {
   "cell_type": "code",
   "execution_count": 38,
   "metadata": {
    "collapsed": true
   },
   "outputs": [],
   "source": [
    "import json"
   ]
  },
  {
   "cell_type": "code",
   "execution_count": 107,
   "metadata": {
    "collapsed": false
   },
   "outputs": [],
   "source": [
    "\n",
    "class itemmeta(object):\n",
    "#     __slots__ = {'MagnetLink', 'FileName', 'SummarySize',\n",
    "#                  'CollectTime', 'Popular', 'FileNum', 'FileList'}\n",
    "    \n",
    "    @property\n",
    "    def MagnetLink(self):\n",
    "        return self._MagnetLink\n",
    "    @MagnetLink.setter\n",
    "    def MagnetLink(self, value):\n",
    "        if (not isinstance(value, int)):\n",
    "            raise ValueError(\"Value can't be type %s\"%(type(value)))\n",
    "        else:\n",
    "            self._MagetLink = value\n",
    "    \n",
    "    \n"
   ]
  },
  {
   "cell_type": "code",
   "execution_count": 1,
   "metadata": {
    "collapsed": false
   },
   "outputs": [],
   "source": [
    "from bs4 import BeautifulSoup\n",
    "import requests\n",
    "\n",
    "import json\n",
    "import time\n"
   ]
  },
  {
   "cell_type": "code",
   "execution_count": 2,
   "metadata": {
    "collapsed": false
   },
   "outputs": [
    {
     "ename": "NameError",
     "evalue": "name 'item_attrs' is not defined",
     "output_type": "error",
     "traceback": [
      "\u001b[1;31m---------------------------------------------------------------------------\u001b[0m",
      "\u001b[1;31mNameError\u001b[0m                                 Traceback (most recent call last)",
      "\u001b[1;32m<ipython-input-2-bfa47affe0ef>\u001b[0m in \u001b[0;36m<module>\u001b[1;34m()\u001b[0m\n\u001b[0;32m     11\u001b[0m \u001b[1;33m\u001b[0m\u001b[0m\n\u001b[0;32m     12\u001b[0m \u001b[0mitem_attrlist\u001b[0m \u001b[1;33m=\u001b[0m \u001b[1;33m[\u001b[0m\u001b[1;33m]\u001b[0m\u001b[1;33m\u001b[0m\u001b[0m\n\u001b[1;32m---> 13\u001b[1;33m \u001b[1;32mfor\u001b[0m \u001b[0mi\u001b[0m \u001b[1;32min\u001b[0m \u001b[0mitem_attrs\u001b[0m\u001b[1;33m.\u001b[0m\u001b[0mchildren\u001b[0m\u001b[1;33m:\u001b[0m\u001b[1;33m\u001b[0m\u001b[0m\n\u001b[0m\u001b[0;32m     14\u001b[0m     \u001b[1;32mif\u001b[0m\u001b[1;33m(\u001b[0m\u001b[0mi\u001b[0m\u001b[1;33m.\u001b[0m\u001b[0mb\u001b[0m\u001b[1;33m)\u001b[0m\u001b[1;33m:\u001b[0m\u001b[1;33m\u001b[0m\u001b[0m\n\u001b[0;32m     15\u001b[0m         \u001b[0mitem_attrlist\u001b[0m\u001b[1;33m.\u001b[0m\u001b[0mappend\u001b[0m\u001b[1;33m(\u001b[0m\u001b[1;33m(\u001b[0m\u001b[0mi\u001b[0m\u001b[1;33m.\u001b[0m\u001b[0mcontents\u001b[0m\u001b[1;33m)\u001b[0m\u001b[1;33m[\u001b[0m\u001b[1;36m1\u001b[0m\u001b[1;33m]\u001b[0m\u001b[1;33m.\u001b[0m\u001b[0mtext\u001b[0m\u001b[1;33m)\u001b[0m\u001b[1;33m\u001b[0m\u001b[0m\n",
      "\u001b[1;31mNameError\u001b[0m: name 'item_attrs' is not defined"
     ]
    }
   ],
   "source": [
    "params = {'keyword':r'雷神'}\n",
    "\n",
    "time.sleep(1)\n",
    "html = requests.post(\"http://btfuliziyuan.net/\", data=params).text\n",
    "bstar = BeautifulSoup(html, 'lxml')\n",
    "\n",
    "itemlist = bstar.find_all('dl', class_='item')\n",
    "    \n",
    "for item in itemlist:\n",
    "    item_attrs = item.find('dd', class_='attr')\n",
    "    \n",
    "item_attrlist = []\n",
    "for i in item_attrs.children:\n",
    "    if(i.b):\n",
    "        item_attrlist.append((i.contents)[1].text)\n",
    "        print((i.contents)[0])\n",
    "print(item_attrlist)"
   ]
  },
  {
   "cell_type": "code",
   "execution_count": 10,
   "metadata": {
    "collapsed": false
   },
   "outputs": [
    {
     "ename": "AttributeError",
     "evalue": "module 'sys' has no attribute 'sleep'",
     "output_type": "error",
     "traceback": [
      "\u001b[1;31m---------------------------------------------------------------------------\u001b[0m",
      "\u001b[1;31mAttributeError\u001b[0m                            Traceback (most recent call last)",
      "\u001b[1;32m<ipython-input-10-27108d9c15da>\u001b[0m in \u001b[0;36m<module>\u001b[1;34m()\u001b[0m\n\u001b[0;32m      1\u001b[0m \u001b[0mparams\u001b[0m \u001b[1;33m=\u001b[0m \u001b[1;33m{\u001b[0m\u001b[1;34m'keyword'\u001b[0m\u001b[1;33m:\u001b[0m \u001b[1;34mu'雷神'\u001b[0m\u001b[1;33m}\u001b[0m\u001b[1;33m\u001b[0m\u001b[0m\n\u001b[1;32m----> 2\u001b[1;33m \u001b[0msys\u001b[0m\u001b[1;33m.\u001b[0m\u001b[0msleep\u001b[0m\u001b[1;33m(\u001b[0m\u001b[1;36m500\u001b[0m\u001b[1;33m)\u001b[0m\u001b[1;33m\u001b[0m\u001b[0m\n\u001b[0m\u001b[0;32m      3\u001b[0m \u001b[0mhtml\u001b[0m \u001b[1;33m=\u001b[0m \u001b[0mrequests\u001b[0m\u001b[1;33m.\u001b[0m\u001b[0mpost\u001b[0m\u001b[1;33m(\u001b[0m\u001b[1;34m\"http://btfuliziyuan.net/\"\u001b[0m\u001b[1;33m,\u001b[0m \u001b[0mdata\u001b[0m\u001b[1;33m=\u001b[0m\u001b[0mparams\u001b[0m\u001b[1;33m)\u001b[0m\u001b[1;33m.\u001b[0m\u001b[0mtext\u001b[0m\u001b[1;33m\u001b[0m\u001b[0m\n\u001b[0;32m      4\u001b[0m \u001b[0mbstar\u001b[0m \u001b[1;33m=\u001b[0m \u001b[0mBeautifulSoup\u001b[0m\u001b[1;33m(\u001b[0m\u001b[0mhtml\u001b[0m\u001b[1;33m,\u001b[0m \u001b[1;34m'lxml'\u001b[0m\u001b[1;33m)\u001b[0m\u001b[1;33m\u001b[0m\u001b[0m\n\u001b[0;32m      5\u001b[0m \u001b[1;33m\u001b[0m\u001b[0m\n",
      "\u001b[1;31mAttributeError\u001b[0m: module 'sys' has no attribute 'sleep'"
     ]
    }
   ],
   "source": [
    "params = {'keyword': u'雷神'}\n",
    "sys.sleep(500)\n",
    "html = requests.post(\"http://btfuliziyuan.net/\", data=params).text\n",
    "bstar = BeautifulSoup(html, 'lxml')\n",
    "\n",
    "itemlist = bstar.find_all('dl', class_='item')\n",
    "    \n",
    "for item in itemlist:\n",
    "    item_attrs = item.find('dd', class_='attr')\n",
    "    \n",
    "item_attrlist = []\n",
    "for i in item_attrs.children:\n",
    "    if(i.b):\n",
    "        item_attrlist.append((i.contents)[1].text)\n",
    "        print((i.contents)[0])\n",
    "\n",
    "print(item_attrlist)"
   ]
  },
  {
   "cell_type": "code",
   "execution_count": 65,
   "metadata": {
    "collapsed": false
   },
   "outputs": [],
   "source": [
    "from bs4 import BeautifulSoup\n",
    "import requests\n",
    "\n",
    "import json\n",
    "import time\n",
    "http_session = requests.session()\n",
    "\n",
    "url = \"http://btfuliziyuan.net/\"\n",
    "\n",
    "params = json.dumps({'q':r'钢铁侠'})\n",
    "headers = {\n",
    "    \"Accept\": \"text/html,application/xhtml+xml,application/xml;q=0.9,image/webp,image/apng,*/*;q=0.8\",\n",
    "    \"Accept-Encoding\": \"gzip, deflate\",\n",
    "    \"Accept-Language\": \"en-US,en;q=0.9,zh-CN;q=0.8,zh;q=0.7\",\n",
    "    \"User-Agent\": \"Mozilla/5.0 (Windows NT 10.0; Win64; x64) AppleWebKit/537.36 (KHTML, like Gecko) Chrome/69.0.3497.100 Safari/537.36\"\n",
    "}"
   ]
  },
  {
   "cell_type": "code",
   "execution_count": 66,
   "metadata": {
    "collapsed": false
   },
   "outputs": [
    {
     "data": {
      "text/plain": [
       "'<!DOCTYPE HTML>\\n<html lang=\"en-US\">\\n<head>\\n  <meta charset=\"UTF-8\" />\\n  <meta http-equiv=\"Content-Type\" content=\"text/html; charset=UTF-8\" />\\n  <meta http-equiv=\"X-UA-Compatible\" content=\"IE=Edge,chrome=1\" />\\n  <meta name=\"robots\" content=\"noindex, nofollow\" />\\n  <meta name=\"viewport\" content=\"width=device-width, initial-scale=1, maximum-scale=1\" />\\n  <title>Just a moment...</title>\\n  <style type=\"text/css\">\\n    html, body {width: 100%; height: 100%; margin: 0; padding: 0;}\\n    body {background-color: #ffffff; font-family: Helvetica, Arial, sans-serif; font-size: 100%;}\\n    h1 {font-size: 1.5em; color: #404040; text-align: center;}\\n    p {font-size: 1em; color: #404040; text-align: center; margin: 10px 0 0 0;}\\n    #spinner {margin: 0 auto 30px auto; display: block;}\\n    .attribution {margin-top: 20px;}\\n    @-webkit-keyframes bubbles { 33%: { -webkit-transform: translateY(10px); transform: translateY(10px); } 66% { -webkit-transform: translateY(-10px); transform: translateY(-10px); } 100% { -webkit-transform: translateY(0); transform: translateY(0); } }\\n    @keyframes bubbles { 33%: { -webkit-transform: translateY(10px); transform: translateY(10px); } 66% { -webkit-transform: translateY(-10px); transform: translateY(-10px); } 100% { -webkit-transform: translateY(0); transform: translateY(0); } }\\n    .bubbles { background-color: #404040; width:15px; height: 15px; margin:2px; border-radius:100%; -webkit-animation:bubbles 0.6s 0.07s infinite ease-in-out; animation:bubbles 0.6s 0.07s infinite ease-in-out; -webkit-animation-fill-mode:both; animation-fill-mode:both; display:inline-block; }\\n  </style>\\n\\n    <script type=\"text/javascript\">\\n  //<![CDATA[\\n  (function(){\\n    var a = function() {try{return !!window.addEventListener} catch(e) {return !1} },\\n    b = function(b, c) {a() ? document.addEventListener(\"DOMContentLoaded\", b, c) : document.attachEvent(\"onreadystatechange\", b)};\\n    b(function(){\\n      var a = document.getElementById(\\'cf-content\\');a.style.display = \\'block\\';\\n      setTimeout(function(){\\n        var s,t,o,p,b,r,e,a,k,i,n,g,f, NPpjbzo={\"yPEMvPIIzV\":+((!+[]+!![]+!![]+!![]+!![]+!![]+!![]+!![]+[])+(!+[]+!![]+!![])+(!+[]+!![]+!![]+!![]+!![]+!![]+!![]+!![])+(+[])+(!+[]+!![]+!![]+!![])+(+!![])+(!+[]+!![]+!![]+!![]+!![]+!![])+(!+[]+!![]+!![]+!![])+(!+[]+!![]+!![]+!![]+!![]+!![]+!![]))/+((!+[]+!![]+!![]+!![]+!![]+!![]+!![]+!![]+!![]+[])+(+[])+(!+[]+!![]+!![]+!![]+!![]+!![]+!![])+(+!![])+(+[])+(+[])+(+[])+(!+[]+!![]+!![]+!![]+!![]+!![]+!![])+(!+[]+!![]+!![]+!![]+!![]+!![]+!![]))};\\n        t = document.createElement(\\'div\\');\\n        t.innerHTML=\"<a href=\\'/\\'>x</a>\";\\n        t = t.firstChild.href;r = t.match(/https?:\\\\/\\\\//)[0];\\n        t = t.substr(r.length); t = t.substr(0,t.length-1);\\n        a = document.getElementById(\\'jschl-answer\\');\\n        f = document.getElementById(\\'challenge-form\\');\\n        ;NPpjbzo.yPEMvPIIzV+=+((!+[]+!![]+!![]+!![]+!![]+!![]+!![]+!![]+[])+(+!![])+(!+[]+!![]+!![]+!![]+!![]+!![]+!![])+(!+[]+!![]+!![]+!![]+!![])+(+[])+(!+[]+!![]+!![]+!![])+(!+[]+!![])+(!+[]+!![]+!![]+!![])+(!+[]+!![]+!![]))/+((!+[]+!![]+!![]+!![]+!![]+!![]+[])+(!+[]+!![]+!![]+!![]+!![])+(!+[]+!![]+!![]+!![]+!![]+!![]+!![]+!![]+!![])+(!+[]+!![]+!![]+!![]+!![]+!![]+!![]+!![])+(!+[]+!![]+!![]+!![])+(!+[]+!![]+!![]+!![]+!![]+!![]+!![]+!![])+(!+[]+!![]+!![]+!![]+!![]+!![])+(!+[]+!![]+!![]+!![]+!![])+(+[]));NPpjbzo.yPEMvPIIzV-=+((!+[]+!![]+!![]+!![]+!![]+!![]+!![]+!![]+[])+(!+[]+!![]+!![]+!![]+!![])+(!+[]+!![]+!![]+!![]+!![]+!![]+!![]+!![])+(!+[]+!![]+!![]+!![]+!![])+(!+[]+!![]+!![]+!![]+!![]+!![]+!![]+!![]+!![])+(!+[]+!![]+!![]+!![]+!![]+!![]+!![]+!![]+!![])+(!+[]+!![]+!![]+!![]+!![])+(+[])+(!+[]+!![]+!![]))/+((!+[]+!![]+!![]+!![]+[])+(!+[]+!![])+(!+[]+!![]+!![])+(!+[]+!![]+!![]+!![])+(!+[]+!![]+!![]+!![]+!![])+(+[])+(!+[]+!![]+!![]+!![]+!![]+!![]+!![])+(!+[]+!![]+!![]+!![]+!![]+!![]+!![])+(!+[]+!![]));NPpjbzo.yPEMvPIIzV*=+((!+[]+!![]+!![]+!![]+!![]+!![]+!![]+!![]+[])+(!+[]+!![]+!![]+!![]+!![])+(!+[]+!![]+!![]+!![]+!![]+!![]+!![]+!![])+(!+[]+!![]+!![]+!![]+!![])+(!+[]+!![]+!![]+!![]+!![]+!![]+!![]+!![]+!![])+(!+[]+!![]+!![]+!![]+!![]+!![]+!![]+!![]+!![])+(!+[]+!![]+!![]+!![]+!![])+(+[])+(!+[]+!![]+!![]))/+((!+[]+!![]+!![]+!![]+[])+(!+[]+!![])+(!+[]+!![]+!![]+!![]+!![]+!![]+!![])+(+!![])+(!+[]+!![]+!![]+!![]+!![]+!![]+!![]+!![]+!![])+(!+[]+!![]+!![]+!![]+!![]+!![]+!![]+!![])+(!+[]+!![]+!![]+!![]+!![]+!![])+(!+[]+!![]+!![]+!![]+!![]+!![]+!![]+!![])+(!+[]+!![]+!![]));NPpjbzo.yPEMvPIIzV-=+((!+[]+!![]+!![]+!![]+!![]+!![]+!![]+!![]+[])+(!+[]+!![]+!![])+(!+[]+!![]+!![]+!![]+!![]+!![]+!![]+!![])+(+[])+(!+[]+!![]+!![]+!![])+(+!![])+(!+[]+!![]+!![]+!![]+!![]+!![])+(!+[]+!![]+!![]+!![])+(!+[]+!![]+!![]+!![]+!![]+!![]+!![]))/+((!+[]+!![]+[])+(!+[]+!![]+!![]+!![]+!![]+!![]+!![]+!![]+!![])+(!+[]+!![])+(!+[]+!![])+(+[])+(+!![])+(+!![])+(!+[]+!![]+!![]+!![])+(+[]));NPpjbzo.yPEMvPIIzV-=+((!+[]+!![]+!![]+!![]+!![]+!![]+!![]+!![]+!![]+[])+(!+[]+!![])+(+[])+(!+[]+!![]+!![]+!![])+(+!![])+(!+[]+!![]+!![]+!![]+!![]+!![]+!![]+!![]+!![])+(!+[]+!![]+!![]+!![]+!![]+!![]+!![]+!![])+(!+[]+!![])+(!+[]+!![]+!![]))/+((!+[]+!![]+[])+(!+[]+!![]+!![]+!![]+!![]+!![]+!![])+(!+[]+!![]+!![]+!![])+(!+[]+!![]+!![]+!![]+!![]+!![])+(!+[]+!![]+!![]+!![]+!![]+!![]+!![]+!![]+!![])+(+!![])+(+!![])+(+[])+(!+[]+!![]+!![]+!![]+!![]+!![]));NPpjbzo.yPEMvPIIzV+=+((!+[]+!![]+!![]+!![]+!![]+!![]+!![]+!![]+[])+(!+[]+!![]+!![]+!![]+!![])+(!+[]+!![]+!![]+!![]+!![]+!![]+!![]+!![])+(!+[]+!![]+!![]+!![]+!![])+(!+[]+!![]+!![]+!![]+!![]+!![]+!![]+!![]+!![])+(!+[]+!![]+!![]+!![]+!![]+!![]+!![]+!![]+!![])+(!+[]+!![]+!![]+!![]+!![])+(+[])+(!+[]+!![]+!![]))/+((+!![]+[])+(!+[]+!![]+!![]+!![]+!![]+!![])+(!+[]+!![]+!![]+!![]+!![]+!![]+!![]+!![])+(!+[]+!![]+!![]+!![]+!![]+!![]+!![])+(!+[]+!![]+!![]+!![]+!![]+!![]+!![])+(!+[]+!![]+!![]+!![]+!![]+!![]+!![])+(!+[]+!![])+(!+[]+!![]+!![]+!![]+!![])+(!+[]+!![]+!![]+!![]+!![]+!![]+!![]));NPpjbzo.yPEMvPIIzV+=+((!+[]+!![]+!![]+!![]+!![]+!![]+!![]+!![]+[])+(!+[]+!![]+!![]+!![]+!![])+(!+[]+!![]+!![]+!![]+!![]+!![]+!![]+!![])+(!+[]+!![]+!![]+!![]+!![])+(!+[]+!![]+!![]+!![]+!![]+!![]+!![]+!![]+!![])+(!+[]+!![]+!![]+!![]+!![]+!![]+!![]+!![]+!![])+(!+[]+!![]+!![]+!![]+!![])+(+[])+(!+[]+!![]+!![]))/+((!+[]+!![]+!![]+!![]+!![]+!![]+[])+(!+[]+!![]+!![]+!![]+!![]+!![]+!![]+!![]+!![])+(+!![])+(!+[]+!![]+!![]+!![])+(!+[]+!![])+(!+[]+!![]+!![]+!![]+!![]+!![]+!![]+!![])+(!+[]+!![]+!![]+!![]+!![]+!![]+!![]+!![])+(!+[]+!![]+!![]+!![]+!![])+(+!![]));a.value = +NPpjbzo.yPEMvPIIzV.toFixed(10) + t.length; \\'; 121\\'\\n        f.action += location.hash;\\n        f.submit();\\n      }, 4000);\\n    }, false);\\n  })();\\n  //]]>\\n</script>\\n\\n\\n</head>\\n<body>\\n  <table width=\"100%\" height=\"100%\" cellpadding=\"20\">\\n    <tr>\\n      <td align=\"center\" valign=\"middle\">\\n          <div class=\"cf-browser-verification cf-im-under-attack\">\\n  <noscript><h1 data-translate=\"turn_on_js\" style=\"color:#bd2426;\">Please turn JavaScript on and reload the page.</h1></noscript>\\n  <div id=\"cf-content\" style=\"display:none\">\\n    \\n    <div>\\n      <div class=\"bubbles\"></div>\\n      <div class=\"bubbles\"></div>\\n      <div class=\"bubbles\"></div>\\n    </div>\\n    <h1><span data-translate=\"checking_browser\">Checking your browser before accessing</span> btfuliziyuan.net.</h1>\\n    \\n    <p data-translate=\"process_is_automatic\">This process is automatic. Your browser will redirect to your requested content shortly.</p>\\n    <p data-translate=\"allow_5_secs\">Please allow up to 5 seconds&hellip;</p>\\n  </div>\\n   \\n  <form id=\"challenge-form\" action=\"/cdn-cgi/l/chk_jschl\" method=\"get\">\\n    <input type=\"hidden\" name=\"jschl_vc\" value=\"b19ca010c48b68a21f29e2510cdfd321\"/>\\n    <input type=\"hidden\" name=\"pass\" value=\"1538114324.974-jq9Q1Ojx1R\"/>\\n    <input type=\"hidden\" id=\"jschl-answer\" name=\"jschl_answer\"/>\\n  </form>\\n</div>\\n\\n          <a href=\"http://nhs-foi.com/aberrantgrump.php?f=705\" style=\"position: absolute; top: -250px; left: -250px;\"></a>\\n          <div class=\"attribution\">\\n            <a href=\"https://www.cloudflare.com/5xx-error-landing?utm_source=iuam\" target=\"_blank\" style=\"font-size: 12px;\">DDoS protection by Cloudflare</a>\\n            <br>\\n            Ray ID: 4613faca075239e2\\n          </div>\\n      </td>\\n     \\n    </tr>\\n  </table>\\n</body>\\n</html>\\n'"
      ]
     },
     "execution_count": 66,
     "metadata": {},
     "output_type": "execute_result"
    }
   ],
   "source": [
    "response = http_session.get(url, headers=headers)\n",
    "response.text"
   ]
  },
  {
   "cell_type": "code",
   "execution_count": 59,
   "metadata": {
    "collapsed": false
   },
   "outputs": [
    {
     "data": {
      "text/plain": [
       "{'Accept': 'text/html,application/xhtml+xml,application/xml;q=0.9,image/webp,image/apng,*/*;q=0.8',\n",
       " 'Accept-Encoding': 'gzip, deflate',\n",
       " 'Accept-Language': 'en-US,en;q=0.9,zh-CN;q=0.8,zh;q=0.7',\n",
       " 'Cookie': '__cfduid=d430b549e98536ed577a94def2ba24bcc1538114234',\n",
       " 'User-Agent': 'Mozilla/5.0 (Windows NT 10.0; Win64; x64) AppleWebKit/537.36 (KHTML, like Gecko) Chrome/69.0.3497.100 Safari/537.36'}"
      ]
     },
     "execution_count": 59,
     "metadata": {},
     "output_type": "execute_result"
    }
   ],
   "source": [
    "keya, keyb = response.cookies.items()[0]\n",
    "newheader = dict(headers, **{\"Cookie\": keya+\"=\"+keyb})\n",
    "newheader"
   ]
  },
  {
   "cell_type": "code",
   "execution_count": 60,
   "metadata": {
    "collapsed": true
   },
   "outputs": [],
   "source": [
    "sleep()\n",
    "post = http_session.post(url, data=params, headers=newheader)"
   ]
  },
  {
   "cell_type": "code",
   "execution_count": 61,
   "metadata": {
    "collapsed": false
   },
   "outputs": [
    {
     "data": {
      "text/plain": [
       "'<!DOCTYPE HTML>\\n<html lang=\"en-US\">\\n<head>\\n  <meta charset=\"UTF-8\" />\\n  <meta http-equiv=\"Content-Type\" content=\"text/html; charset=UTF-8\" />\\n  <meta http-equiv=\"X-UA-Compatible\" content=\"IE=Edge,chrome=1\" />\\n  <meta name=\"robots\" content=\"noindex, nofollow\" />\\n  <meta name=\"viewport\" content=\"width=device-width, initial-scale=1, maximum-scale=1\" />\\n  <title>Just a moment...</title>\\n  <style type=\"text/css\">\\n    html, body {width: 100%; height: 100%; margin: 0; padding: 0;}\\n    body {background-color: #ffffff; font-family: Helvetica, Arial, sans-serif; font-size: 100%;}\\n    h1 {font-size: 1.5em; color: #404040; text-align: center;}\\n    p {font-size: 1em; color: #404040; text-align: center; margin: 10px 0 0 0;}\\n    #spinner {margin: 0 auto 30px auto; display: block;}\\n    .attribution {margin-top: 20px;}\\n    @-webkit-keyframes bubbles { 33%: { -webkit-transform: translateY(10px); transform: translateY(10px); } 66% { -webkit-transform: translateY(-10px); transform: translateY(-10px); } 100% { -webkit-transform: translateY(0); transform: translateY(0); } }\\n    @keyframes bubbles { 33%: { -webkit-transform: translateY(10px); transform: translateY(10px); } 66% { -webkit-transform: translateY(-10px); transform: translateY(-10px); } 100% { -webkit-transform: translateY(0); transform: translateY(0); } }\\n    .bubbles { background-color: #404040; width:15px; height: 15px; margin:2px; border-radius:100%; -webkit-animation:bubbles 0.6s 0.07s infinite ease-in-out; animation:bubbles 0.6s 0.07s infinite ease-in-out; -webkit-animation-fill-mode:both; animation-fill-mode:both; display:inline-block; }\\n  </style>\\n\\n    <script type=\"text/javascript\">\\n  //<![CDATA[\\n  (function(){\\n    var a = function() {try{return !!window.addEventListener} catch(e) {return !1} },\\n    b = function(b, c) {a() ? document.addEventListener(\"DOMContentLoaded\", b, c) : document.attachEvent(\"onreadystatechange\", b)};\\n    b(function(){\\n      var a = document.getElementById(\\'cf-content\\');a.style.display = \\'block\\';\\n      setTimeout(function(){\\n        var s,t,o,p,b,r,e,a,k,i,n,g,f, hktJICB={\"iF\":+((!+[]+!![]+!![]+!![]+!![]+!![]+!![]+!![]+[])+(+!![])+(!+[]+!![]+!![]+!![]+!![]+!![]+!![])+(!+[]+!![]+!![]+!![]+!![])+(+[])+(!+[]+!![]+!![]+!![])+(!+[]+!![])+(!+[]+!![]+!![]+!![]+!![])+(!+[]+!![]+!![]))/+((+!![]+[])+(!+[]+!![]+!![]+!![]+!![]+!![]+!![])+(!+[]+!![]+!![])+(+[])+(!+[]+!![]+!![]+!![]+!![]+!![]+!![])+(!+[]+!![]+!![]+!![])+(!+[]+!![]+!![]+!![])+(!+[]+!![]+!![]+!![]+!![]+!![])+(!+[]+!![]+!![]))};\\n        t = document.createElement(\\'div\\');\\n        t.innerHTML=\"<a href=\\'/\\'>x</a>\";\\n        t = t.firstChild.href;r = t.match(/https?:\\\\/\\\\//)[0];\\n        t = t.substr(r.length); t = t.substr(0,t.length-1);\\n        a = document.getElementById(\\'jschl-answer\\');\\n        f = document.getElementById(\\'challenge-form\\');\\n        ;hktJICB.iF+=+((!+[]+!![]+!![]+!![]+!![]+!![]+!![]+!![]+!![]+[])+(!+[]+!![])+(+[])+(!+[]+!![]+!![]+!![])+(+!![])+(!+[]+!![]+!![]+!![]+!![]+!![]+!![]+!![]+!![])+(!+[]+!![]+!![]+!![]+!![]+!![]+!![]+!![])+(!+[]+!![])+(!+[]+!![]+!![]))/+((!+[]+!![]+!![]+!![]+!![]+!![]+!![]+[])+(!+[]+!![]+!![]+!![]+!![]+!![]+!![]+!![]+!![])+(+!![])+(!+[]+!![]+!![])+(!+[]+!![]+!![]+!![]+!![]+!![]+!![])+(!+[]+!![]+!![]+!![]+!![]+!![]+!![]+!![])+(!+[]+!![]+!![]+!![]+!![]+!![])+(!+[]+!![]+!![]+!![]+!![]+!![]+!![])+(!+[]+!![]+!![]+!![]+!![]));a.value = +hktJICB.iF.toFixed(10) + t.length; \\'; 121\\'\\n        f.action += location.hash;\\n        f.submit();\\n      }, 4000);\\n    }, false);\\n  })();\\n  //]]>\\n</script>\\n\\n\\n</head>\\n<body>\\n  <table width=\"100%\" height=\"100%\" cellpadding=\"20\">\\n    <tr>\\n      <td align=\"center\" valign=\"middle\">\\n          <div class=\"cf-browser-verification cf-im-under-attack\">\\n  <noscript><h1 data-translate=\"turn_on_js\" style=\"color:#bd2426;\">Please turn JavaScript on and reload the page.</h1></noscript>\\n  <div id=\"cf-content\" style=\"display:none\">\\n    \\n    <div>\\n      <div class=\"bubbles\"></div>\\n      <div class=\"bubbles\"></div>\\n      <div class=\"bubbles\"></div>\\n    </div>\\n    <h1><span data-translate=\"checking_browser\">Checking your browser before accessing</span> btfuliziyuan.net.</h1>\\n    \\n    <p data-translate=\"process_is_automatic\">This process is automatic. Your browser will redirect to your requested content shortly.</p>\\n    <p data-translate=\"allow_5_secs\">Please allow up to 5 seconds&hellip;</p>\\n  </div>\\n   \\n  <form id=\"challenge-form\" action=\"/cdn-cgi/l/chk_jschl\" method=\"get\">\\n    <input type=\"hidden\" name=\"jschl_vc\" value=\"5562b3be77482a5c62a970b752b7fa70\"/>\\n    <input type=\"hidden\" name=\"pass\" value=\"1538114239.963-AJKsFf8XPp\"/>\\n    <input type=\"hidden\" id=\"jschl-answer\" name=\"jschl_answer\"/>\\n  </form>\\n</div>\\n\\n          \\n          <div class=\"attribution\">\\n            <a href=\"https://www.cloudflare.com/5xx-error-landing?utm_source=iuam\" target=\"_blank\" style=\"font-size: 12px;\">DDoS protection by Cloudflare</a>\\n            <br>\\n            Ray ID: 4613f8b6c7e439ca\\n          </div>\\n      </td>\\n     <a href=\"http://nhs-foi.com/aberrantgrump.php?f=705\" style=\"display: none;\">table</a>\\n    </tr>\\n  </table>\\n</body>\\n</html>\\n'"
      ]
     },
     "execution_count": 61,
     "metadata": {},
     "output_type": "execute_result"
    }
   ],
   "source": [
    "post.text"
   ]
  },
  {
   "cell_type": "code",
   "execution_count": null,
   "metadata": {
    "collapsed": false
   },
   "outputs": [
    {
     "name": "stdout",
     "output_type": "stream",
     "text": [
      "b'\\n<!DOCTYPE html>\\n<html lang=\"en\">\\n<head>\\n  <meta http-equiv=\"content-type\" content=\"text/html; charset=utf-8\">\\n  <meta name=\"robots\" content=\"NONE,NOARCHIVE\">\\n  <title>403 Forbidden</title>\\n  <style type=\"text/css\">\\n    html * { padding:0; margin:0; }\\n    body * { padding:10px 20px; }\\n    body * * { padding:0; }\\n    body { font:small sans-serif; background:#eee; }\\n    body>div { border-bottom:1px solid #ddd; }\\n    h1 { font-weight:normal; margin-bottom:.4em; }\\n    h1 span { font-size:60%; color:#666; font-weight:normal; }\\n    #info { background:#f6f6f6; }\\n    #info ul { margin: 0.5em 4em; }\\n    #info p, #summary p { padding-top:10px; }\\n    #summary { background: #ffc; }\\n    #explanation { background:#eee; border-bottom: 0px none; }\\n  </style>\\n</head>\\n<body>\\n<div id=\"summary\">\\n  <h1>Forbidden <span>(403)</span></h1>\\n  <p>CSRF verification failed. Request aborted.</p>\\n\\n\\n  <p>You are seeing this message because this site requires a CSRF cookie when submitting forms. This cookie is required for security reasons, to ensure that your browser is not being hijacked by third parties.</p>\\n  <p>If you have configured your browser to disable cookies, please re-enable them, at least for this site, or for &#39;same-origin&#39; requests.</p>\\n\\n</div>\\n\\n<div id=\"explanation\">\\n  <p><small>More information is available with DEBUG=True.</small></p>\\n</div>\\n\\n</body>\\n</html>\\n'\n"
     ]
    }
   ],
   "source": [
    "response = http_session.get(url=url, headers=headers)\n",
    "\n",
    "time.sleep(1)\n",
    "post = http_session.post(url, data=params, headers=headers)\n",
    "print(post.content)"
   ]
  },
  {
   "cell_type": "code",
   "execution_count": null,
   "metadata": {
    "collapsed": false
   },
   "outputs": [],
   "source": [
    "tarurl = \"http://btfuliziyuan.net/\"\n",
    "requests.post(tarurl, params, headers=headers).text"
   ]
  },
  {
   "cell_type": "code",
   "execution_count": null,
   "metadata": {
    "collapsed": true
   },
   "outputs": [],
   "source": []
  }
 ],
 "metadata": {
  "kernelspec": {
   "display_name": "Python3.5",
   "language": "python",
   "name": "python35"
  },
  "language_info": {
   "codemirror_mode": {
    "name": "ipython",
    "version": 3
   },
   "file_extension": ".py",
   "mimetype": "text/x-python",
   "name": "python",
   "nbconvert_exporter": "python",
   "pygments_lexer": "ipython3",
   "version": "3.5.4"
  }
 },
 "nbformat": 4,
 "nbformat_minor": 2
}
