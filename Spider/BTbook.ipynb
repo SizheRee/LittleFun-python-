{
 "cells": [
  {
   "cell_type": "code",
   "execution_count": 8,
   "metadata": {
    "collapsed": true
   },
   "outputs": [],
   "source": [
    "from bs4 import BeautifulSoup\n",
    "import requests\n",
    "import json\n",
    "import time\n",
    "import lxml"
   ]
  },
  {
   "cell_type": "code",
   "execution_count": 9,
   "metadata": {
    "collapsed": false
   },
   "outputs": [],
   "source": [
    "url = \"http://www.onionsearch.net/\"\n",
    "payload = {\"keyword\":\"蚁人\"}\n",
    "\n",
    "headers = {\n",
    "    \"Accept\": \"text/html,application/xhtml+xml,application/xml;q=0.9,image/webp,image/apng,*/*;q=0.8\",\n",
    "    \"Accept-Encoding\": \"gzip, deflate\",\n",
    "    \"Accept-Language\": \"en-US,en;q=0.9,zh-CN;q=0.8,zh;q=0.7\",\n",
    "    \"Connection\" : \"keep-alive\",\n",
    "    \"Referer\": url,\n",
    "    \"User-Agent\": \"Mozilla/5.0 (Windows NT 10.0; Win64; x64) AppleWebKit/537.36 (KHTML, like Gecko) Chrome/69.0.3497.100 Safari/537.36\"\n",
    "}\n",
    "\n",
    "session = requests.session()\n",
    "session.headers = headers"
   ]
  },
  {
   "cell_type": "code",
   "execution_count": 23,
   "metadata": {
    "collapsed": true
   },
   "outputs": [],
   "source": [
    "import sys\n",
    "import mechanicalsoup\n",
    "import re"
   ]
  },
  {
   "cell_type": "code",
   "execution_count": 10,
   "metadata": {
    "collapsed": false
   },
   "outputs": [],
   "source": [
    "ss = browser.session\n",
    "\n",
    "ss.headers = headers"
   ]
  },
  {
   "cell_type": "code",
   "execution_count": 44,
   "metadata": {
    "collapsed": false
   },
   "outputs": [],
   "source": [
    "def browser_init():\n",
    "    url = \"https://www.btbook.us/\"\n",
    "    headers = {\n",
    "        \"Accept\": \"text/html,application/xhtml+xml,application/xml;q=0.9,image/webp,image/apng,*/*;q=0.8\",\n",
    "        \"Accept-Encoding\": \"gzip, deflate\",\n",
    "        \"Accept-Language\": \"en-US,en;q=0.9,zh-CN;q=0.8,zh;q=0.7\",\n",
    "        \"Connection\" : \"keep-alive\",\n",
    "        \"Referer\": url,\n",
    "        \"User-Agent\": \"Mozilla/5.0 (Windows NT 10.0; Win64; x64) AppleWebKit/537.36 (KHTML, like Gecko) Chrome/69.0.3497.100 Safari/537.36\"\n",
    "    }\n",
    "    browser = mechanicalsoup.StatefulBrowser()\n",
    "    browser.session.headers = headers\n",
    "    browser.open(url)"
   ]
  },
  {
   "cell_type": "code",
   "execution_count": 27,
   "metadata": {
    "collapsed": false
   },
   "outputs": [
    {
     "name": "stdout",
     "output_type": "stream",
     "text": [
      "<input autocomplete=\"off\" id=\"search\" name=\"q\" title=\"Search\" type=\"text\" value=\"雷神2\"/>\n",
      "<input class=\"blue\" id=\"btnSearch\" type=\"submit\" value=\"搜 索\"/>\n"
     ]
    }
   ],
   "source": [
    "time.sleep(1)\n",
    "keyword = \"钢铁侠\"\n",
    "browser.select_form('form')\n",
    "browser.get_current_form().print_summary()\n",
    "browser['q'] = keyword\n",
    "res = browser.submit_selected()\n",
    "bstar = browser.get_current_page()"
   ]
  },
  {
   "cell_type": "code",
   "execution_count": null,
   "metadata": {
    "collapsed": false
   },
   "outputs": [],
   "source": []
  },
  {
   "cell_type": "code",
   "execution_count": 25,
   "metadata": {
    "collapsed": true
   },
   "outputs": [],
   "source": [
    "def get_itembar_attr(itembar, item_data):\n",
    "    itemattr = itembar.span\n",
    "    item_data[\"type\"] = itemattr.get_text().strip()\n",
    "    itemattr = itemattr.find_next_sibling(\"span\")\n",
    "    item_data[\"creat_time\"] = itemattr.b.get_text().strip()\n",
    "    itemattr = itemattr.find_next_sibling(\"span\")\n",
    "    item_data[\"filesize\"] = tuple(itemattr.b.text.split(\"\\xa0\"))\n",
    "    itemattr = itemattr.find_next_sibling(\"span\")\n",
    "    item_data[\"popular\"] = itemattr.b.text.strip()\n",
    "    itemattr = itemattr.find_next_sibling(\"span\")\n",
    "    item_data[\"last_download\"] = itemattr.b.get_text().strip()\n",
    "    link = BeautifulSoup(itemattr.next_sibling.next_sibling)\n",
    "    item_data['magnet_link'] = link.a['href']\n",
    "    return item_data"
   ]
  },
  {
   "cell_type": "code",
   "execution_count": 26,
   "metadata": {
    "collapsed": false
   },
   "outputs": [
    {
     "name": "stdout",
     "output_type": "stream",
     "text": [
      "{'creat_time': '7个月前', 'filesize': ('18.0', 'GB'), 'type': '视频', 'last_download': '15天前', 'title': '梦幻天堂·龙网(LWgod.cc).1080p.雷神1＋2', 'magnet_link': 'magnet:?xt=urn:btih:974ea0cd73fbd4d17bd561fe7de4ac15a5e199e4&dn=%E6%A2%A6%E5%B9%BB%E5%A4%A9%E5%A0%82%C2%B7%E9%BE%99%E7%BD%91%28LWgod.cc%29.1080p.%E9%9B%B7%E7%A5%9E1%EF%BC%8B2', 'popular': '393'}\n",
      "{'creat_time': '2年前', 'filesize': ('2.1', 'GB'), 'type': '视频', 'last_download': '1个月前', 'title': '[BT乐园·bt606.com]雷神2：黑暗世界.BD720P.X264.AAC.国英双语', 'magnet_link': 'magnet:?xt=urn:btih:b0ca098f4b3785bd21d6470b68d0a726d820a433&dn=%5BBT%E4%B9%90%E5%9B%AD%C2%B7bt606.com%5D%E9%9B%B7%E7%A5%9E2%EF%BC%9A%E9%BB%91%E6%9A%97%E4%B8%96%E7%95%8C.BD720P.X264.AAC.%E5%9B%BD%E8%8B%B1%E5%8F%8C%E8%AF%AD', 'popular': '829'}\n",
      "{'creat_time': '2年前', 'filesize': ('2.9', 'GB'), 'type': '视频', 'last_download': '19天前', 'title': '720p.雷神2：黑暗世界', 'magnet_link': 'magnet:?xt=urn:btih:c089d157fa185d715e36b37ab6ae69ff991fb841&dn=720p.%E9%9B%B7%E7%A5%9E2%EF%BC%9A%E9%BB%91%E6%9A%97%E4%B8%96%E7%95%8C', 'popular': '789'}\n",
      "{'creat_time': '2年前', 'filesize': ('2.1', 'GB'), 'type': '视频', 'last_download': '1个月前', 'title': '[2013年票房11][2014.02.10]雷神2黑暗世界[2013年美国动作冒险奇幻(Bluray)]（帝国出品）', 'magnet_link': 'magnet:?xt=urn:btih:4279d812ddd5e32d5681c431ff67fb3c2ceaf64c&dn=%5B2013%E5%B9%B4%E7%A5%A8%E6%88%BF11%5D%5B2014.02.10%5D%E9%9B%B7%E7%A5%9E2%E9%BB%91%E6%9A%97%E4%B8%96%E7%95%8C%5B2013%E5%B9%B4%E7%BE%8E%E5%9B%BD%E5%8A%A8%E4%BD%9C%E5%86%92%E9%99%A9%E5%A5%87%E5%B9%BB%28Bluray%29%5D%EF%BC%88%E5%B8%9D%E5%9B%BD%E5%87%BA%E5%93%81%EF%BC%89', 'popular': '244'}\n",
      "{'creat_time': '2年前', 'filesize': ('40.8', 'GB'), 'type': '视频', 'last_download': '5天前', 'title': '[www.BTVBT.com]雷神2 黑暗世界[蓝光原盘DiY简繁中文字幕+国配][email\\xa0protected]HDSky', 'magnet_link': 'magnet:?xt=urn:btih:d5ecdca6395f92a5f5262caae13a8a49b8f5281b&dn=%5Bwww.BTVBT.com%5D%E9%9B%B7%E7%A5%9E2+%E9%BB%91%E6%9A%97%E4%B8%96%E7%95%8C%5B%E8%93%9D%E5%85%89%E5%8E%9F%E7%9B%98DiY%E7%AE%80%E7%B9%81%E4%B8%AD%E6%96%87%E5%AD%97%E5%B9%95%2B%E5%9B%BD%E9%85%8D%5DThor.The.Dark.World.2013.BluRay.1080p.AVC.DTS-HD.MA7.1-14651177%40HDSky', 'popular': '1409'}\n",
      "{'creat_time': '4个月前', 'filesize': ('2.4', 'GB'), 'type': '视频', 'last_download': '1个月前', 'title': '[电影搜搜www.dysou.cc]忍者神龟2：破影而出（大陆公映）.国英双语.1080p.HD中字[高清完整版迅雷磁力BT种子下载]', 'magnet_link': 'magnet:?xt=urn:btih:5bbe936848110590c238efba77a08e399a47a5b3&dn=%5B%E7%94%B5%E5%BD%B1%E6%90%9C%E6%90%9Cwww.dysou.cc%5D%E5%BF%8D%E8%80%85%E7%A5%9E%E9%BE%9F2%EF%BC%9A%E7%A0%B4%E5%BD%B1%E8%80%8C%E5%87%BA%EF%BC%88%E5%A4%A7%E9%99%86%E5%85%AC%E6%98%A0%EF%BC%89.%E5%9B%BD%E8%8B%B1%E5%8F%8C%E8%AF%AD.1080p.HD%E4%B8%AD%E5%AD%97%5B%E9%AB%98%E6%B8%85%E5%AE%8C%E6%95%B4%E7%89%88%E8%BF%85%E9%9B%B7%E7%A3%81%E5%8A%9BBT%E7%A7%8D%E5%AD%90%E4%B8%8B%E8%BD%BD%5D', 'popular': '82'}\n",
      "{'creat_time': '2年前', 'filesize': ('664.7', 'MB'), 'type': '视频', 'last_download': '5天前', 'title': '雷神索爾2-黑暗世界.2013.BD-Rip.720x304', 'magnet_link': 'magnet:?xt=urn:btih:87bf684e4584e6c7b5608d884570f56c5c0f04d0&dn=%E9%9B%B7%E7%A5%9E%E7%B4%A2%E7%88%BE2-%E9%BB%91%E6%9A%97%E4%B8%96%E7%95%8C.2013.BD-Rip.720x304', 'popular': '624'}\n",
      "{'creat_time': '1年前', 'filesize': ('5.3', 'GB'), 'type': '视频', 'last_download': '16小时前', 'title': '雷神2.黑暗世界.Thor.The.Dark.World.2013.BD1080P.X264.AC3.Mandarin&English.CHS-ENG.Adans', 'magnet_link': 'magnet:?xt=urn:btih:736e89fa0192f19b846eb64bae99806554b0c88c&dn=%E9%9B%B7%E7%A5%9E2.%E9%BB%91%E6%9A%97%E4%B8%96%E7%95%8C.Thor.The.Dark.World.2013.BD1080P.X264.AC3.Mandarin%26English.CHS-ENG.Adans', 'popular': '371'}\n",
      "{'creat_time': '10个月前', 'filesize': ('3.5', 'GB'), 'type': '视频', 'last_download': '16天前', 'title': '[雷神2黑暗世界]Thor.The.Dark.World.2013.BluRay.720p.x264.AC3-CnSCG[中英字幕3G]', 'magnet_link': 'magnet:?xt=urn:btih:51c0973d2df0c13df3563e187c997c62a6ee66d7&dn=%5B%E9%9B%B7%E7%A5%9E2%E9%BB%91%E6%9A%97%E4%B8%96%E7%95%8C%5DThor.The.Dark.World.2013.BluRay.720p.x264.AC3-CnSCG%5B%E4%B8%AD%E8%8B%B1%E5%AD%97%E5%B9%953G%5D', 'popular': '65'}\n",
      "{'creat_time': '10个月前', 'filesize': ('4.6', 'GB'), 'type': '视频', 'last_download': '1个月前', 'title': '雷神1-2', 'magnet_link': 'magnet:?xt=urn:btih:9dce8e40462bbaaf87f30928c68ba252ce810495&dn=%E9%9B%B7%E7%A5%9E1-2', 'popular': '161'}\n"
     ]
    }
   ],
   "source": [
    "item_data_list = []\n",
    "\n",
    "def error_keyword(title):\n",
    "    return re.search(\"(裸聊)|(校园暴力)|(爱爱)|(幼女)\", title)\n",
    "\n",
    "for index, item in enumerate(bstar.find_all(\"div\", class_=\"search-item detail-width\")):\n",
    "    item_data = {}\n",
    "    itemtitle = item.find(\"div\", \"item-title\").get_text()\n",
    "    if(error_keyword(itemtitle)):\n",
    "        continue\n",
    "        \n",
    "    item_data[\"title\"] = itemtitle.strip()\n",
    "    itembar = item.find(\"div\", \"item-bar\")\n",
    "    item_data_list.append(get_itembar_attr(itembar, item_data))\n",
    "    print(item_data)\n",
    "    if(index > 10):\n",
    "        break"
   ]
  },
  {
   "cell_type": "code",
   "execution_count": 36,
   "metadata": {
    "collapsed": false
   },
   "outputs": [
    {
     "data": {
      "text/plain": [
       "<Response [200]>"
      ]
     },
     "execution_count": 36,
     "metadata": {},
     "output_type": "execute_result"
    }
   ],
   "source": [
    "browser.open(\"http://httpbin.org/\")"
   ]
  },
  {
   "cell_type": "code",
   "execution_count": 38,
   "metadata": {
    "collapsed": false
   },
   "outputs": [
    {
     "data": {
      "text/plain": [
       "<mechanicalsoup.form.Form at 0x1513b99d400>"
      ]
     },
     "execution_count": 38,
     "metadata": {},
     "output_type": "execute_result"
    }
   ],
   "source": [
    "browser.follow_link(\"forms\")\n",
    "browser.select_form('form[action=\"/post\"]')"
   ]
  },
  {
   "cell_type": "code",
   "execution_count": 39,
   "metadata": {
    "collapsed": true
   },
   "outputs": [],
   "source": [
    "response = browser.submit_selected()"
   ]
  },
  {
   "cell_type": "code",
   "execution_count": 43,
   "metadata": {
    "collapsed": false
   },
   "outputs": [
    {
     "name": "stdout",
     "output_type": "stream",
     "text": [
      "{\n",
      "  \"args\": {}, \n",
      "  \"data\": \"\", \n",
      "  \"files\": {}, \n",
      "  \"form\": {\n",
      "    \"comments\": \"\", \n",
      "    \"custemail\": \"\", \n",
      "    \"custname\": \"\", \n",
      "    \"custtel\": \"\", \n",
      "    \"delivery\": \"\"\n",
      "  }, \n",
      "  \"headers\": {\n",
      "    \"Accept\": \"text/html,application/xhtml+xml,application/xml;q=0.9,image/webp,image/apng,*/*;q=0.8\", \n",
      "    \"Accept-Encoding\": \"gzip, deflate\", \n",
      "    \"Accept-Language\": \"en-US,en;q=0.9,zh-CN;q=0.8,zh;q=0.7\", \n",
      "    \"Connection\": \"close\", \n",
      "    \"Content-Length\": \"49\", \n",
      "    \"Content-Type\": \"application/x-www-form-urlencoded\", \n",
      "    \"Host\": \"httpbin.org\", \n",
      "    \"Referer\": \"http://httpbin.org/forms/post\", \n",
      "    \"User-Agent\": \"Mozilla/5.0 (Windows NT 10.0; Win64; x64) AppleWebKit/537.36 (KHTML, like Gecko) Chrome/69.0.3497.100 Safari/537.36\"\n",
      "  }, \n",
      "  \"json\": null, \n",
      "  \"origin\": \"198.35.44.24\", \n",
      "  \"url\": \"http://httpbin.org/post\"\n",
      "}\n",
      "\n"
     ]
    }
   ],
   "source": [
    "print(response.text)"
   ]
  },
  {
   "cell_type": "code",
   "execution_count": 56,
   "metadata": {
    "collapsed": true
   },
   "outputs": [],
   "source": [
    "item = item_data_list[0]"
   ]
  },
  {
   "cell_type": "code",
   "execution_count": 59,
   "metadata": {
    "collapsed": false
   },
   "outputs": [
    {
     "data": {
      "text/plain": [
       "('7个月前',\n",
       " ('18.0', 'GB'),\n",
       " '视频',\n",
       " '15天前',\n",
       " '梦幻天堂·龙网(LWgod.cc).1080p.雷神1＋2',\n",
       " 'magnet:?xt=urn:btih:974ea0cd73fbd4d17bd561fe7de4ac15a5e199e4&dn=%E6%A2%A6%E5%B9%BB%E5%A4%A9%E5%A0%82%C2%B7%E9%BE%99%E7%BD%91%28LWgod.cc%29.1080p.%E9%9B%B7%E7%A5%9E1%EF%BC%8B2',\n",
       " '393')"
      ]
     },
     "execution_count": 59,
     "metadata": {},
     "output_type": "execute_result"
    }
   ],
   "source": [
    "tuple(item.values())"
   ]
  },
  {
   "cell_type": "code",
   "execution_count": null,
   "metadata": {
    "collapsed": true
   },
   "outputs": [],
   "source": []
  },
  {
   "cell_type": "code",
   "execution_count": null,
   "metadata": {
    "collapsed": true
   },
   "outputs": [],
   "source": []
  }
 ],
 "metadata": {
  "kernelspec": {
   "display_name": "Python3.5",
   "language": "python",
   "name": "python35"
  },
  "language_info": {
   "codemirror_mode": {
    "name": "ipython",
    "version": 3
   },
   "file_extension": ".py",
   "mimetype": "text/x-python",
   "name": "python",
   "nbconvert_exporter": "python",
   "pygments_lexer": "ipython3",
   "version": "3.5.4"
  }
 },
 "nbformat": 4,
 "nbformat_minor": 2
}
