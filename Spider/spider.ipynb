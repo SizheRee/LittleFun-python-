{
 "cells": [
  {
   "cell_type": "code",
   "execution_count": 1,
   "metadata": {
    "collapsed": false
   },
   "outputs": [
    {
     "ename": "ImportError",
     "evalue": "No module named 'bs4'",
     "output_type": "error",
     "traceback": [
      "\u001b[1;31m---------------------------------------------------------------------------\u001b[0m",
      "\u001b[1;31mImportError\u001b[0m                               Traceback (most recent call last)",
      "\u001b[1;32m<ipython-input-1-d86dcffed30a>\u001b[0m in \u001b[0;36m<module>\u001b[1;34m()\u001b[0m\n\u001b[0;32m      3\u001b[0m \u001b[1;32mfrom\u001b[0m \u001b[0mqueue\u001b[0m \u001b[1;32mimport\u001b[0m \u001b[0mQueue\u001b[0m\u001b[1;33m\u001b[0m\u001b[0m\n\u001b[0;32m      4\u001b[0m \u001b[1;32mimport\u001b[0m \u001b[0mre\u001b[0m\u001b[1;33m\u001b[0m\u001b[0m\n\u001b[1;32m----> 5\u001b[1;33m \u001b[1;32mimport\u001b[0m \u001b[0mbs4\u001b[0m\u001b[1;33m\u001b[0m\u001b[0m\n\u001b[0m\u001b[0;32m      6\u001b[0m \u001b[1;32mimport\u001b[0m \u001b[0mjson\u001b[0m\u001b[1;33m\u001b[0m\u001b[0m\n\u001b[0;32m      7\u001b[0m \u001b[1;33m\u001b[0m\u001b[0m\n",
      "\u001b[1;31mImportError\u001b[0m: No module named 'bs4'"
     ]
    }
   ],
   "source": [
    "import urllib.request as request\n",
    "from urllib.error import HTTPError\n",
    "from queue import Queue\n",
    "import re\n",
    "import bs4\n",
    "import json\n",
    "\n",
    "\n",
    "class Spider(object):\n",
    "    '''\n",
    "    It's a Spider.\n",
    "    '''\n",
    "    def __init__(self, name=None, starturl=None, maxpages=20):\n",
    "        self.name = name\n",
    "        self.starturl = starturl\n",
    "        self.urlpool = set()\n",
    "        self.targeturl = Queue()\n",
    "        self.maxpages = maxpages\n",
    "    \n",
    "    def crwal_recursive(self, url):\n",
    "        if len(self.urlpool) >= self.maxpages:\n",
    "            return\n",
    "#         if the url is repeated, discard.\n",
    "        if url in self.urlpool:\n",
    "#             print('find repeated')\n",
    "            pass\n",
    "        else:\n",
    "            try:\n",
    "                urlop = request.urlopen(url)\n",
    "                html = urlop.read()\n",
    "                soup = bs4.BeautifulSoup(html, 'lxml')\n",
    "            except HTTPError as e:\n",
    "                print(e)\n",
    "                return None\n",
    "            except BaseException as be:\n",
    "                print(be)\n",
    "                return None\n",
    "            else:\n",
    "                self.urlpool.add(url)\n",
    "#                 获取文本\n",
    "            title_content = soup.find(name='h2', id=\"activity-name\")\n",
    "            main_content = soup.find(name='div',  id=\"js_content\")\n",
    "\n",
    "            title = title_content.get_text().strip()\n",
    "            print('title:', title)\n",
    "            prelist = main_content.find_all(name='p', attrs=None, style=None)\n",
    "            textlist = []\n",
    "            for x in prelist:\n",
    "                text = x.get_text()\n",
    "                if not text:\n",
    "                    continue\n",
    "                text = text.strip('。. ')\n",
    "                textlist.extend(text.split('。'))\n",
    "#                 添加到itemdict\n",
    "                Itemdict[url] = [title, textlist]\n",
    "#                 获取链接\n",
    "            try:\n",
    "                htmlps = soup.find(name='span', text='热门文章推荐').find_parent().find_parent().find_next_siblings(name='p')\n",
    "#                 有些老网页无法定位\n",
    "            except AttributeError as e:\n",
    "                print(e)\n",
    "#             新网页查找链接\n",
    "            else:\n",
    "                count = 0\n",
    "                for p in htmlps:\n",
    "                    p_url = p.a.attrs['href']\n",
    "    #                 print('get new url:\\n', p_url)\n",
    "                    self.targeturl.put(p_url)\n",
    "                    count += 1\n",
    "                    if count>10:\n",
    "                        break\n",
    "        if self.targeturl.qsize():\n",
    "            newurl = self.targeturl.get()\n",
    "            if newurl:\n",
    "                self.crwal_recursive(newurl)\n",
    "            else:\n",
    "                return\n",
    "        else:\n",
    "            return\n",
    "        \n",
    "if __name__ == '__main__':\n",
    "    Itemdict = {}\n",
    "    s = Spider('hhh', 'http://mp.weixin.qq.com/s?__biz=MzA4NzE1NzYyMw==&amp;mid=2247494122&amp;idx=1&amp;sn=89a3d08ac4f656bfc1b8ba97dafa2070&amp;chksm=903f17f2a7489ee4f5714dacbbbebc46e5eb022b1abd53d199873776b6aa35245b87a49242f0&scene=21#wechat_redirect',1000)\n",
    "    s.crwal_recursive(s.starturl)\n",
    "    js = json.dumps(Itemdict)\n",
    "    ob = json.loads(js)"
   ]
  },
  {
   "cell_type": "code",
   "execution_count": 34,
   "metadata": {
    "collapsed": false
   },
   "outputs": [],
   "source": []
  },
  {
   "cell_type": "code",
   "execution_count": null,
   "metadata": {
    "collapsed": false
   },
   "outputs": [],
   "source": []
  },
  {
   "cell_type": "code",
   "execution_count": 36,
   "metadata": {
    "collapsed": false
   },
   "outputs": [
    {
     "data": {
      "text/plain": [
       "28"
      ]
     },
     "execution_count": 36,
     "metadata": {},
     "output_type": "execute_result"
    }
   ],
   "source": [
    "len(Itemdict)"
   ]
  },
  {
   "cell_type": "code",
   "execution_count": 30,
   "metadata": {
    "collapsed": false
   },
   "outputs": [],
   "source": [
    "s = json.dumps(Itemdict)"
   ]
  },
  {
   "cell_type": "code",
   "execution_count": 31,
   "metadata": {
    "collapsed": true
   },
   "outputs": [],
   "source": [
    "o = json.loads(s)"
   ]
  },
  {
   "cell_type": "code",
   "execution_count": null,
   "metadata": {
    "collapsed": false
   },
   "outputs": [],
   "source": [
    "import urllib.request as request\n",
    "from urllib.error import HTTPError\n",
    "from queue import Queue\n",
    "import re\n",
    "import bs4\n",
    "import json\n",
    "\n",
    "Que_targeturls = Queue(maxsize=200)\n",
    "\n",
    "def crwal(url):\n",
    "    try:\n",
    "        urlop = request.urlopen(url)\n",
    "    except HTTPError as e:\n",
    "        print(e)\n",
    "    html = urlop.read()\n",
    "    soup = bs4.BeautifulSoup(html, 'lxml')\n",
    "\n",
    "    # target text parcing\n",
    "    title_content = soup.find(name='h2', id=\"activity-name\")\n",
    "    main_content = soup.find(name='div',  id=\"js_content\")\n",
    "    \n",
    "    title = title_content.get_text().strip()\n",
    "    prelist = main_content.find_all(name='p', attrs=None, style=None)\n",
    "    textlist = []\n",
    "    for x in prelist:\n",
    "        text = x.get_text()\n",
    "        if not text:\n",
    "            continue\n",
    "        text = text.strip('。. ')\n",
    "        textlist.extend(text.split('。'))\n",
    "    print('title:\\n', title)\n",
    "    print('maintext:\\n', textlist)\n",
    "    # target url parcing\n",
    "    htmlps = soup.find(name='span', text='热门文章推荐').find_parent().find_parent().find_next_siblings(name='p')\n",
    "    for p in htmlps:\n",
    "        p_url = p.a.attrs['href']\n",
    "        print('get new url:\\n', p_url)\n",
    "        Que_targeturls.put(p_url)\n"
   ]
  },
  {
   "cell_type": "code",
   "execution_count": null,
   "metadata": {
    "collapsed": false
   },
   "outputs": [],
   "source": [
    "crwal('http://mp.weixin.qq.com/s?__biz=MzA4NzE1NzYyMw==&amp;mid=2247494122&amp;idx=1&amp;sn=89a3d08ac4f656bfc1b8ba97dafa2070&amp;chksm=903f17f2a7489ee4f5714dacbbbebc46e5eb022b1abd53d199873776b6aa35245b87a49242f0&scene=21#wechat_redirect')"
   ]
  },
  {
   "cell_type": "code",
   "execution_count": null,
   "metadata": {
    "collapsed": false
   },
   "outputs": [],
   "source": [
    "c = soup.find(name='span', text='热门文章推荐').find_parent().find_parent()"
   ]
  },
  {
   "cell_type": "code",
   "execution_count": null,
   "metadata": {
    "collapsed": false
   },
   "outputs": [],
   "source": [
    "d = c.find_next_siblings(name='p')"
   ]
  },
  {
   "cell_type": "code",
   "execution_count": 4,
   "metadata": {
    "collapsed": true
   },
   "outputs": [],
   "source": [
    "Q= Queue(maxsize=200)"
   ]
  },
  {
   "cell_type": "code",
   "execution_count": 5,
   "metadata": {
    "collapsed": false
   },
   "outputs": [
    {
     "data": {
      "text/plain": [
       "0"
      ]
     },
     "execution_count": 5,
     "metadata": {},
     "output_type": "execute_result"
    }
   ],
   "source": [
    "Q.qsize()"
   ]
  },
  {
   "cell_type": "code",
   "execution_count": 6,
   "metadata": {
    "collapsed": true
   },
   "outputs": [],
   "source": [
    "Q.put('z')"
   ]
  },
  {
   "cell_type": "code",
   "execution_count": null,
   "metadata": {
    "collapsed": true
   },
   "outputs": [],
   "source": []
  }
 ],
 "metadata": {
  "kernelspec": {
   "display_name": "Python3.5",
   "language": "python",
   "name": "python35"
  }
 },
 "nbformat": 4,
 "nbformat_minor": 2
}
