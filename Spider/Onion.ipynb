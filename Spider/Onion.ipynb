{
 "cells": [
  {
   "cell_type": "code",
   "execution_count": 1,
   "metadata": {
    "collapsed": true
   },
   "outputs": [],
   "source": [
    "import sys\n",
    "import mechanicalsoup"
   ]
  },
  {
   "cell_type": "code",
   "execution_count": 2,
   "metadata": {
    "collapsed": true
   },
   "outputs": [],
   "source": [
    "browser = mechanicalsoup.StatefulBrowser()"
   ]
  },
  {
   "cell_type": "code",
   "execution_count": 27,
   "metadata": {
    "collapsed": false
   },
   "outputs": [],
   "source": [
    "res = browser.open(\"https://www.onionsearch.net/\")"
   ]
  },
  {
   "cell_type": "code",
   "execution_count": 35,
   "metadata": {
    "collapsed": false
   },
   "outputs": [
    {
     "data": {
      "text/plain": [
       "<mechanicalsoup.form.Form at 0x2381f52a1d0>"
      ]
     },
     "execution_count": 35,
     "metadata": {},
     "output_type": "execute_result"
    }
   ],
   "source": [
    "browser.select_form('form')"
   ]
  },
  {
   "cell_type": "code",
   "execution_count": 36,
   "metadata": {
    "collapsed": false
   },
   "outputs": [
    {
     "name": "stdout",
     "output_type": "stream",
     "text": [
      "<input class=\"search-input\" id=\"keyword\" name=\"keyword\" placeholder=\"探索DHT网络。\" type=\"search\"/>\n",
      "<input class=\"search-button\" type=\"submit\" value=\"搜索\"/>\n"
     ]
    }
   ],
   "source": [
    "browser.get_current_form().print_summary()"
   ]
  },
  {
   "cell_type": "code",
   "execution_count": 37,
   "metadata": {
    "collapsed": false
   },
   "outputs": [],
   "source": [
    "browser['keyword'] = \"雷神2\""
   ]
  },
  {
   "cell_type": "code",
   "execution_count": 38,
   "metadata": {
    "collapsed": true
   },
   "outputs": [],
   "source": [
    "response = browser.submit_selected()"
   ]
  },
  {
   "cell_type": "code",
   "execution_count": 39,
   "metadata": {
    "collapsed": true
   },
   "outputs": [],
   "source": [
    "bstar = browser.get_current_page()"
   ]
  },
  {
   "cell_type": "code",
   "execution_count": 41,
   "metadata": {
    "collapsed": false
   },
   "outputs": [
    {
     "data": {
      "text/plain": [
       "<!DOCTYPE html>\n",
       "<html lang=\"zh-cn\">\n",
       "<head>\n",
       "<meta charset=\"utf-8\"/>\n",
       "<link href=\"/content/styles/home.css\" rel=\"stylesheet\" type=\"text/css\"/>\n",
       "<script src=\"/content/scripts/jquery-2.1.3.min.js\"></script>\n",
       "<meta content=\"IE=edge\" http-equiv=\"X-UA-Compatible\"/>\n",
       "<meta content=\"width=device-width, initial-scale=1\" name=\"viewport\"/>\n",
       "<link href=\"/favicon.ico\" rel=\"shortcut icon\" type=\"image/x-icon\"/>\n",
       "<meta content=\"磁力搜索, 磁力链接, bt种子搜索, 洋葱搜索, bt下载, bt搜索, btbook, bt蚂蚁, bt樱桃\" name=\"keywords\"/>\n",
       "<meta content=\"洋葱搜索是一个功能强大的磁力链接搜索引擎，拥有互联网最新最热的BT资源、高效精准的搜索服务、极速稳定的浏览体验，为您提供最好的磁力搜索服务。\" name=\"description\"/>\n",
       "<title>洋葱搜索 - 磁力链接搜索引擎</title>\n",
       "</head>\n",
       "<body>\n",
       "<div class=\"page\">\n",
       "<div class=\"page-wrap\">\n",
       "<div class=\"page-content\">\n",
       "<div class=\"logo-wrapper\"><h1 class=\"title\"><img src=\"/content/images/avatar.png\" title=\"洋葱搜索\"/></h1></div>\n",
       "<div class=\"search-wrapper\">\n",
       "<div class=\"search-inner\">\n",
       "<form id=\"search_form_h\">\n",
       "<input class=\"search-input\" id=\"keyword\" name=\"keyword\" placeholder=\"探索DHT网络。\" type=\"search\"/><input class=\"search-button\" type=\"submit\" value=\"搜索\"/>\n",
       "</form>\n",
       "</div>\n",
       "</div>\n",
       "<div class=\"links\">\n",
       "<ul>\n",
       "<li><a href=\"/search/国家地理\">国家地理</a></li>\n",
       "<li><a href=\"/search/探索频道\">探索频道</a></li>\n",
       "<li><a href=\"/search/耶鲁大学开放课程\">耶鲁大学开放课程</a></li>\n",
       "<li><a href=\"/search/传智播客\">传智播客</a></li>\n",
       "<li><a href=\"/search/TED演讲\">TED演讲</a></li>\n",
       "<li><a href=\"/search/世界杯\">世界杯</a></li>\n",
       "</ul>\n",
       "</div>\n",
       "</div>\n",
       "<div class=\"footer\">\n",
       "<div class=\"footer-inner\">\n",
       "<div class=\"footer-layout\">\n",
       "<span>\n",
       "            ©2018 onionsearch.net · 磁力链接搜索引擎 · <a href=\"/home/statement\">免责声明</a> · <a href=\"https://www.onionsearch.net/\">安全连接</a> · <a href=\"/cdn-cgi/l/email-protection#afc8cac1dbc3ca81d9c6c0c3cac1ccca81d7efc8c2cec6c381ccc0c2\">联系我们</a>\n",
       "</span>\n",
       "</div>\n",
       "</div>\n",
       "</div>\n",
       "</div>\n",
       "</div>\n",
       "<script data-cfasync=\"false\" src=\"/cdn-cgi/scripts/5c5dd728/cloudflare-static/email-decode.min.js\"></script><script>\n",
       "        var _hmt = _hmt || [];\n",
       "        (function () {\n",
       "            var hm = document.createElement(\"script\");\n",
       "            hm.src = \"https://hm.baidu.com/hm.js?422ac18b539f58058107fac9e10d9feb\";\n",
       "            var s = document.getElementsByTagName(\"script\")[0];\n",
       "            s.parentNode.insertBefore(hm, s);\n",
       "        })();\n",
       "    </script>\n",
       "<script src=\"/content/scripts/misc.js?v=3\"></script>\n",
       "</body>\n",
       "</html>"
      ]
     },
     "execution_count": 41,
     "metadata": {},
     "output_type": "execute_result"
    }
   ],
   "source": [
    "bstar"
   ]
  },
  {
   "cell_type": "code",
   "execution_count": null,
   "metadata": {
    "collapsed": true
   },
   "outputs": [],
   "source": []
  }
 ],
 "metadata": {
  "kernelspec": {
   "display_name": "Python3.5",
   "language": "python",
   "name": "python35"
  },
  "language_info": {
   "codemirror_mode": {
    "name": "ipython",
    "version": 3
   },
   "file_extension": ".py",
   "mimetype": "text/x-python",
   "name": "python",
   "nbconvert_exporter": "python",
   "pygments_lexer": "ipython3",
   "version": "3.5.4"
  }
 },
 "nbformat": 4,
 "nbformat_minor": 2
}
