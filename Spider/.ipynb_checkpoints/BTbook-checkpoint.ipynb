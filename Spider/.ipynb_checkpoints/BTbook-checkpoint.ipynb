{
 "cells": [
  {
   "cell_type": "code",
   "execution_count": 55,
   "metadata": {
    "collapsed": true
   },
   "outputs": [],
   "source": [
    "from bs4 import BeautifulSoup\n",
    "import requests\n",
    "import json\n",
    "import time\n",
    "import lxml"
   ]
  },
  {
   "cell_type": "code",
   "execution_count": 70,
   "metadata": {
    "collapsed": false
   },
   "outputs": [],
   "source": [
    "url = \"http://www.onionsearch.net/\"\n",
    "payload = {\"keyword\":\"蚁人\"}\n",
    "\n",
    "headers = {\n",
    "    \"Accept\": \"text/html,application/xhtml+xml,application/xml;q=0.9,image/webp,image/apng,*/*;q=0.8\",\n",
    "    \"Accept-Encoding\": \"gzip, deflate\",\n",
    "    \"Accept-Language\": \"en-US,en;q=0.9,zh-CN;q=0.8,zh;q=0.7\",\n",
    "    \"Connection\" : \"keep-alive\",\n",
    "    \"Referer\": \"https://www.google.com\",\n",
    "    \"User-Agent\": \"Mozilla/5.0 (Windows NT 10.0; Win64; x64) AppleWebKit/537.36 (KHTML, like Gecko) Chrome/69.0.3497.100 Safari/537.36\"\n",
    "}\n",
    "\n",
    "session = requests.session()\n",
    "session.headers = headers"
   ]
  },
  {
   "cell_type": "code",
   "execution_count": 90,
   "metadata": {
    "collapsed": true
   },
   "outputs": [],
   "source": [
    "import sys\n",
    "import mechanicalsoup"
   ]
  },
  {
   "cell_type": "code",
   "execution_count": 117,
   "metadata": {
    "collapsed": false
   },
   "outputs": [
    {
     "data": {
      "text/plain": [
       "<Response [200]>"
      ]
     },
     "execution_count": 117,
     "metadata": {},
     "output_type": "execute_result"
    }
   ],
   "source": [
    "browser = mechanicalsoup.StatefulBrowser()\n",
    "url = \"http://www.btbook.us/\"\n",
    "browser.open(url)"
   ]
  },
  {
   "cell_type": "code",
   "execution_count": 118,
   "metadata": {
    "collapsed": false
   },
   "outputs": [
    {
     "data": {
      "text/plain": [
       "<mechanicalsoup.form.Form at 0x194f10ab4e0>"
      ]
     },
     "execution_count": 118,
     "metadata": {},
     "output_type": "execute_result"
    }
   ],
   "source": [
    "browser.select_form('form')"
   ]
  },
  {
   "cell_type": "code",
   "execution_count": 119,
   "metadata": {
    "collapsed": false
   },
   "outputs": [
    {
     "name": "stdout",
     "output_type": "stream",
     "text": [
      "<input autocomplete=\"off\" id=\"search\" name=\"q\" placeholder=\"世界那么大，我想搜搜看...\" type=\"text\"/>\n",
      "<input class=\"blue\" id=\"btnSearch\" type=\"submit\" value=\"搜 索\"/>\n"
     ]
    }
   ],
   "source": [
    "browser.get_current_form().print_summary()"
   ]
  },
  {
   "cell_type": "code",
   "execution_count": 120,
   "metadata": {
    "collapsed": true
   },
   "outputs": [],
   "source": [
    "browser['q'] = \"pycharm\""
   ]
  },
  {
   "cell_type": "code",
   "execution_count": 121,
   "metadata": {
    "collapsed": false
   },
   "outputs": [],
   "source": [
    "res = browser.submit_selected()"
   ]
  },
  {
   "cell_type": "code",
   "execution_count": 122,
   "metadata": {
    "collapsed": true
   },
   "outputs": [],
   "source": [
    "bstar = browser.get_current_page()"
   ]
  },
  {
   "cell_type": "code",
   "execution_count": 135,
   "metadata": {
    "collapsed": false
   },
   "outputs": [
    {
     "name": "stdout",
     "output_type": "stream",
     "text": [
      "\n",
      "\n",
      "JetBrains PyCharm Professional 2018.6.3 + Crack\n",
      "\n",
      "\n",
      "\n",
      "JetBrains PyCharm Professional 2018.6.3 + Crack.exe22.3 MB\n",
      "JetBrains PyCharm Professional 2018.6.3 + Crack.nfo544 bytes\n",
      "Install.Notes.inf168 bytes\n",
      "\n",
      "\n",
      "\n",
      "软件\n",
      "创建时间：10天前\n",
      "文件大小：22.5 MB\n",
      "下载热度：1\n",
      "最近下载：10天前\n",
      "\n",
      "\n",
      "\n",
      "\n",
      "\n",
      "JetBrains PyCharm Professional 2018.5.3 + Crack latest\n",
      "\n",
      "\n",
      "\n",
      "JetBrains PyCharm Professional 2018.5.3 + Crack latest.exe22.3 MB\n",
      "crack/run_d3172.exe83.8 KB\n",
      "Readme!!.inf256 bytes\n",
      "\n",
      "\n",
      "\n",
      "软件\n",
      "创建时间：10天前\n",
      "文件大小：22.3 MB\n",
      "下载热度：4\n",
      "最近下载：2天前\n",
      "\n",
      "\n",
      "\n",
      "\n",
      "\n",
      "JetBrains PyCharm Professional 2018.1.3 + Crack [CracksMind]\n",
      "\n",
      "\n",
      "\n",
      "Crack.rar583.5 KB\n",
      "Downloaded from CracksMind.Com.txt2.1 KB\n",
      "Instruction!!.txt793 bytes\n",
      "\n",
      "\n",
      "\n",
      "软件\n",
      "创建时间：10天前\n",
      "文件大小：239.2 MB\n",
      "下载热度：3\n",
      "最近下载：10天前\n",
      "\n",
      "\n",
      "\n",
      "\n",
      "\n",
      "JetBrains PyCharm Professional v4.0.5.147.1012 + License\n",
      "\n",
      "\n",
      "\n",
      "JetBrains PyCharm Professional v4.0.5.147.1012 + License.exe7.8 MB\n",
      "Keys.inf208 bytes\n",
      "\n",
      "\n",
      "\n",
      "软件\n",
      "创建时间：11天前\n",
      "文件大小：7.8 MB\n",
      "下载热度：1\n",
      "最近下载：11天前\n",
      "\n",
      "\n",
      "\n",
      "\n",
      "\n",
      "JetBrains PyCharm Professional v4.0.5.147.1012 + License\n",
      "\n",
      "\n",
      "\n",
      "JetBrains PyCharm Professional v4.0.5.147.1012 + License.exe8.8 MB\n",
      "autorun.pdf9.6 KB\n",
      "Torrent downloaded from 1337x.org.txt88 bytes\n",
      "\n",
      "\n",
      "\n",
      "软件\n",
      "创建时间：11天前\n",
      "文件大小：8.8 MB\n",
      "下载热度：1\n",
      "最近下载：11天前\n",
      "\n",
      "\n",
      "\n",
      "\n",
      "\n",
      "JetBrains PyCharm Professional 2018.2.3 + Crack [CracksNow]\n",
      "\n",
      "\n",
      "\n",
      "Downloaded from CracksNow.com.txt3.2 KB\n",
      "Visit CracksNow.com.url124 bytes\n",
      "Visit SoupGet.com.url114 bytes\n",
      "\n",
      "\n",
      "\n",
      "软件\n",
      "创建时间：12天前\n",
      "文件大小：249.2 MB\n",
      "下载热度：3\n",
      "最近下载：11天前\n",
      "\n",
      "\n",
      "\n",
      "\n",
      "\n",
      "JetBrains PyCharm Professional v4.0.5.147.1012 + License\n",
      "\n",
      "\n",
      "\n",
      "JetBrains PyCharm Professional v4.0.5.147.1012 + License.exe7.8 MB\n",
      "Keys.inf208 bytes\n",
      "\n",
      "\n",
      "\n",
      "软件\n",
      "创建时间：15天前\n",
      "文件大小：7.8 MB\n",
      "下载热度：1\n",
      "最近下载：15天前\n",
      "\n",
      "\n",
      "\n",
      "\n",
      "\n",
      "JetBrains PyCharm Professional v4.0.5.147.1012 + License\n",
      "\n",
      "\n",
      "\n",
      "JetBrains PyCharm Professional v4.0.5.147.1012 + License.exe7.8 MB\n",
      "Keys.inf208 bytes\n",
      "\n",
      "\n",
      "\n",
      "软件\n",
      "创建时间：16天前\n",
      "文件大小：7.8 MB\n",
      "下载热度：1\n",
      "最近下载：16天前\n",
      "\n",
      "\n",
      "\n",
      "\n",
      "\n",
      "PyCharm 2016 Professional for Mac OS\n",
      "\n",
      "\n",
      "\n",
      "PyCharm_2016_Professional_for_Mac_OS.zip9.7 MB\n",
      "\n",
      "\n",
      "\n",
      "压缩\n",
      "创建时间：17天前\n",
      "文件大小：9.7 MB\n",
      "下载热度：1\n",
      "最近下载：17天前\n",
      "\n",
      "\n",
      "\n",
      "\n",
      "\n",
      "JetBrains PyCharm Professional 2018.7.3 + Crack\n",
      "\n",
      "\n",
      "\n",
      "JetBrains PyCharm Professional 2018.7.3 + Crack.exe22.3 MB\n",
      "Torrent downloaded from Thepiratebay.sx.txt28 bytes\n",
      "\n",
      "\n",
      "\n",
      "软件\n",
      "创建时间：17天前\n",
      "文件大小：22.3 MB\n",
      "下载热度：1\n",
      "最近下载：17天前\n",
      "\n",
      "\n",
      "\n"
     ]
    }
   ],
   "source": [
    "for i in bstar.find_all(\"div\", class_=\"search-item detail-width\"):\n",
    "    print(i.get_text())"
   ]
  },
  {
   "cell_type": "code",
   "execution_count": 136,
   "metadata": {
    "collapsed": false
   },
   "outputs": [],
   "source": [
    "# def parse(item):\n",
    "item_data = {}\n",
    "item = i\n",
    "# item_data[\"name\"] = "
   ]
  },
  {
   "cell_type": "code",
   "execution_count": null,
   "metadata": {
    "collapsed": true
   },
   "outputs": [],
   "source": []
  }
 ],
 "metadata": {
  "kernelspec": {
   "display_name": "Python3.5",
   "language": "python",
   "name": "python35"
  },
  "language_info": {
   "codemirror_mode": {
    "name": "ipython",
    "version": 3
   },
   "file_extension": ".py",
   "mimetype": "text/x-python",
   "name": "python",
   "nbconvert_exporter": "python",
   "pygments_lexer": "ipython3",
   "version": "3.5.4"
  }
 },
 "nbformat": 4,
 "nbformat_minor": 2
}
