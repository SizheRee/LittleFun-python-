{
 "cells": [
  {
   "cell_type": "code",
   "execution_count": 41,
   "metadata": {
    "collapsed": false
   },
   "outputs": [
    {
     "name": "stdout",
     "output_type": "stream",
     "text": [
      "title: 未来 3~5 年内，哪个方向的机器学习人才最紧缺？\n",
      "title: 中科院步态识别技术：不看脸 50米内在人群中认出你！\n",
      "title: 厉害｜黄仁勋狂怼CPU:摩尔定律已死 未来属于GPU!\n",
      "title: 干货｜7步让你从零开始掌握Python机器学习！\n",
      "title: 首次！华裔女科学家钱璐璐，发明仅20纳米的DNA机器人！\n",
      "title: 重磅！Geoffrey Hinton提出capsule 概念，推翻反向传播！\n",
      "title: 2017年7大最受欢迎的AI编程语言：Python第一!\n",
      "title: 重磅｜中国首家人工智能技术学院在京揭牌开学！\n",
      "title: 厉害 | 南京大学周志华教授当选欧洲科学院外籍院士！\n",
      "title: 海康威视：5个月市值涨了1200亿，首次突破3100亿市值！\n",
      "title: 华为扔下这枚“AI芯弹”，全世界的智能手机都卡（慢）死了！\n",
      "title: 开源力量：用57行代码搞定花8000万美元采购车牌识别项目\n",
      "title: 厉害｜百度28位离职技术大牛和他们创建的AI公司！\n",
      "title: 奇葩！一AI工程师下载200万GB色情内容，只为学习Python！\n",
      "title: 推荐｜变形卷积核、可分离卷积？CNN中十大拍案叫绝的操作！\n",
      "title: 13岁造飞机，17岁进MIT，22岁到哈佛读博，她被称“下一个爱因斯坦”！\n",
      "title: 火爆了！全球最火爆的人脸识别技术应用： FaceDance Challenge！\n",
      "title: 厉害！科大讯飞市值奔1000亿，市盈率达400倍成“妖股”！BAT自愧不如！\n",
      "title: 残酷！如果你35岁破产，你还有多大可能逆袭？（数据分析）\n",
      "title: 重磅！大数据告诉你：逃离北上广，他们都去了哪里？\n",
      "title: 推荐｜斯坦福2017春季CS231n深度视觉识别课程视频（资源）\n",
      "title: 行情｜年薪30万-50万，大数据人才缺口150万！\n",
      "title: “扫地机器人”的工程师们：你出来，我们保证不打死你！！！\n",
      "title: AI知识网络|一张图看懂人工智能知识体系\n",
      "title: 厉害！融资1亿美元！如何用“AI+教育”实现半年盈利的神话？\n",
      "title: 重磅！2017中科院公布157名院士候选人名单，“女神”颜宁榜上有名！\n",
      "title: 热点｜最近7天最受欢迎的20篇热门AI论文\n",
      "title: 逆袭！百度押注AI，押注陆奇：交出208.74亿元收入和利润增长98.4%的成绩！\n",
      "'NoneType' object has no attribute 'find_parent'\n",
      "title: 基础｜深度学习入门必须理解这25个概念\n",
      "title: 重磅｜周志华提出多类最优边界分配机mcODM，代替支持向量机\n",
      "title: 重磅 | 腾讯公布首批 25个AI加速器项目名单！布局AI开放生态！\n",
      "'NoneType' object has no attribute 'find_parent'\n",
      "title: 国家战略｜国务院发布《新一代人工智能发展规划的通知》（利好消息）\n",
      "'NoneType' object has no attribute 'find_parent'\n",
      "title: 京东发布登月机器学习平台：为第四次零售革命输出AI能力\n",
      "'NoneType' object has no attribute 'find_parent'\n",
      "title: 重磅｜中国870家AI公司融资905亿人民币！（报告）\n",
      "'NoneType' object has no attribute 'find_parent'\n",
      "title: 浙大女科学家解密脑神经：帮最后一名“弱者”成功逆袭成第一名“强者”！\n",
      "'NoneType' object has no attribute 'find_parent'\n",
      "title: 推荐｜麻省理工课程：深度学习数学基础（含PPT）\n",
      "'NoneType' object has no attribute 'find_parent'\n",
      "title: 推荐 | 40张动态图详解全部传感器工作原理，值得收藏！\n",
      "'NoneType' object has no attribute 'find_parent'\n",
      "title: 警惕！中国“人工智能”有一种推荐算法叫：莆田系算法！\n",
      "'NoneType' object has no attribute 'find_parent'\n",
      "title: 百度Apollo泄密：无人驾驶技术发展成熟仅需3年左右！\n",
      "'NoneType' object has no attribute 'find_parent'\n",
      "title: 厉害啦！阿里出了个Take Go无人便利店！比亚马逊的还厉害！（附视频）\n",
      "'NoneType' object has no attribute 'find_parent'\n"
     ]
    }
   ],
   "source": [
    "import urllib.request as request\n",
    "from urllib.error import HTTPError\n",
    "from queue import Queue\n",
    "import re\n",
    "import bs4\n",
    "import json\n",
    "\n",
    "\n",
    "class Spider(object):\n",
    "    '''\n",
    "    It's a Spider.\n",
    "    '''\n",
    "    def __init__(self, name=None, starturl=None, maxpages=20):\n",
    "        self.name = name\n",
    "        self.starturl = starturl\n",
    "        self.urlpool = set()\n",
    "        self.targeturl = Queue()\n",
    "        self.maxpages = maxpages\n",
    "    \n",
    "    def crwal_recursive(self, url):\n",
    "        if len(self.urlpool) >= self.maxpages:\n",
    "            return\n",
    "#         if the url is repeated, discard.\n",
    "        if url in self.urlpool:\n",
    "#             print('find repeated')\n",
    "            pass\n",
    "        else:\n",
    "            try:\n",
    "                urlop = request.urlopen(url)\n",
    "                html = urlop.read()\n",
    "                soup = bs4.BeautifulSoup(html, 'lxml')\n",
    "            except HTTPError as e:\n",
    "                print(e)\n",
    "                return None\n",
    "            except BaseException as be:\n",
    "                print(be)\n",
    "                return None\n",
    "            else:\n",
    "                self.urlpool.add(url)\n",
    "#                 获取文本\n",
    "            title_content = soup.find(name='h2', id=\"activity-name\")\n",
    "            main_content = soup.find(name='div',  id=\"js_content\")\n",
    "\n",
    "            title = title_content.get_text().strip()\n",
    "            print('title:', title)\n",
    "            prelist = main_content.find_all(name='p', attrs=None, style=None)\n",
    "            textlist = []\n",
    "            for x in prelist:\n",
    "                text = x.get_text()\n",
    "                if not text:\n",
    "                    continue\n",
    "                text = text.strip('。. ')\n",
    "                textlist.extend(text.split('。'))\n",
    "#                 添加到itemdict\n",
    "                Itemdict[url] = [title, textlist]\n",
    "#                 获取链接\n",
    "            try:\n",
    "                htmlps = soup.find(name='span', text='热门文章推荐').find_parent().find_parent().find_next_siblings(name='p')\n",
    "#                 有些老网页无法定位\n",
    "            except AttributeError as e:\n",
    "                print(e)\n",
    "#             新网页查找链接\n",
    "            else:\n",
    "                count = 0\n",
    "                for p in htmlps:\n",
    "                    p_url = p.a.attrs['href']\n",
    "    #                 print('get new url:\\n', p_url)\n",
    "                    self.targeturl.put(p_url)\n",
    "                    count += 1\n",
    "                    if count>10:\n",
    "                        break\n",
    "        if self.targeturl.qsize():\n",
    "            newurl = self.targeturl.get()\n",
    "            if newurl:\n",
    "                self.crwal_recursive(newurl)\n",
    "            else:\n",
    "                return\n",
    "        else:\n",
    "            return\n",
    "        \n",
    "if __name__ == '__main__':\n",
    "    Itemdict = {}\n",
    "    s = Spider('hhh', 'http://mp.weixin.qq.com/s?__biz=MzA4NzE1NzYyMw==&amp;mid=2247494122&amp;idx=1&amp;sn=89a3d08ac4f656bfc1b8ba97dafa2070&amp;chksm=903f17f2a7489ee4f5714dacbbbebc46e5eb022b1abd53d199873776b6aa35245b87a49242f0&scene=21#wechat_redirect',1000)\n",
    "    s.crwal_recursive(s.starturl)\n",
    "    js = json.dumps(Itemdict)\n",
    "    ob = json.loads(js)"
   ]
  },
  {
   "cell_type": "code",
   "execution_count": 34,
   "metadata": {
    "collapsed": false
   },
   "outputs": [],
   "source": []
  },
  {
   "cell_type": "code",
   "execution_count": null,
   "metadata": {
    "collapsed": false
   },
   "outputs": [],
   "source": []
  },
  {
   "cell_type": "code",
   "execution_count": 36,
   "metadata": {
    "collapsed": false
   },
   "outputs": [
    {
     "data": {
      "text/plain": [
       "28"
      ]
     },
     "execution_count": 36,
     "metadata": {},
     "output_type": "execute_result"
    }
   ],
   "source": [
    "len(Itemdict)"
   ]
  },
  {
   "cell_type": "code",
   "execution_count": 30,
   "metadata": {
    "collapsed": false
   },
   "outputs": [],
   "source": [
    "s = json.dumps(Itemdict)"
   ]
  },
  {
   "cell_type": "code",
   "execution_count": 31,
   "metadata": {
    "collapsed": true
   },
   "outputs": [],
   "source": [
    "o = json.loads(s)"
   ]
  },
  {
   "cell_type": "code",
   "execution_count": null,
   "metadata": {
    "collapsed": false
   },
   "outputs": [],
   "source": [
    "import urllib.request as request\n",
    "from urllib.error import HTTPError\n",
    "from queue import Queue\n",
    "import re\n",
    "import bs4\n",
    "import json\n",
    "\n",
    "Que_targeturls = Queue(maxsize=200)\n",
    "\n",
    "def crwal(url):\n",
    "    try:\n",
    "        urlop = request.urlopen(url)\n",
    "    except HTTPError as e:\n",
    "        print(e)\n",
    "    html = urlop.read()\n",
    "    soup = bs4.BeautifulSoup(html, 'lxml')\n",
    "\n",
    "    # target text parcing\n",
    "    title_content = soup.find(name='h2', id=\"activity-name\")\n",
    "    main_content = soup.find(name='div',  id=\"js_content\")\n",
    "    \n",
    "    title = title_content.get_text().strip()\n",
    "    prelist = main_content.find_all(name='p', attrs=None, style=None)\n",
    "    textlist = []\n",
    "    for x in prelist:\n",
    "        text = x.get_text()\n",
    "        if not text:\n",
    "            continue\n",
    "        text = text.strip('。. ')\n",
    "        textlist.extend(text.split('。'))\n",
    "    print('title:\\n', title)\n",
    "    print('maintext:\\n', textlist)\n",
    "    # target url parcing\n",
    "    htmlps = soup.find(name='span', text='热门文章推荐').find_parent().find_parent().find_next_siblings(name='p')\n",
    "    for p in htmlps:\n",
    "        p_url = p.a.attrs['href']\n",
    "        print('get new url:\\n', p_url)\n",
    "        Que_targeturls.put(p_url)\n"
   ]
  },
  {
   "cell_type": "code",
   "execution_count": null,
   "metadata": {
    "collapsed": false
   },
   "outputs": [],
   "source": [
    "crwal('http://mp.weixin.qq.com/s?__biz=MzA4NzE1NzYyMw==&amp;mid=2247494122&amp;idx=1&amp;sn=89a3d08ac4f656bfc1b8ba97dafa2070&amp;chksm=903f17f2a7489ee4f5714dacbbbebc46e5eb022b1abd53d199873776b6aa35245b87a49242f0&scene=21#wechat_redirect')"
   ]
  },
  {
   "cell_type": "code",
   "execution_count": null,
   "metadata": {
    "collapsed": false
   },
   "outputs": [],
   "source": [
    "c = soup.find(name='span', text='热门文章推荐').find_parent().find_parent()"
   ]
  },
  {
   "cell_type": "code",
   "execution_count": null,
   "metadata": {
    "collapsed": false
   },
   "outputs": [],
   "source": [
    "d = c.find_next_siblings(name='p')"
   ]
  },
  {
   "cell_type": "code",
   "execution_count": 4,
   "metadata": {
    "collapsed": true
   },
   "outputs": [],
   "source": [
    "Q= Queue(maxsize=200)"
   ]
  },
  {
   "cell_type": "code",
   "execution_count": 5,
   "metadata": {
    "collapsed": false
   },
   "outputs": [
    {
     "data": {
      "text/plain": [
       "0"
      ]
     },
     "execution_count": 5,
     "metadata": {},
     "output_type": "execute_result"
    }
   ],
   "source": [
    "Q.qsize()"
   ]
  },
  {
   "cell_type": "code",
   "execution_count": 6,
   "metadata": {
    "collapsed": true
   },
   "outputs": [],
   "source": [
    "Q.put('z')"
   ]
  },
  {
   "cell_type": "code",
   "execution_count": null,
   "metadata": {
    "collapsed": true
   },
   "outputs": [],
   "source": []
  }
 ],
 "metadata": {
  "kernelspec": {
   "display_name": "Python 3",
   "language": "python",
   "name": "python3"
  },
  "language_info": {
   "codemirror_mode": {
    "name": "ipython",
    "version": 3
   },
   "file_extension": ".py",
   "mimetype": "text/x-python",
   "name": "python",
   "nbconvert_exporter": "python",
   "pygments_lexer": "ipython3",
   "version": "3.5.2"
  }
 },
 "nbformat": 4,
 "nbformat_minor": 2
}
