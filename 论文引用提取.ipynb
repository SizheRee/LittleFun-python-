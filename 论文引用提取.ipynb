{
 "cells": [
  {
   "cell_type": "code",
   "execution_count": 3,
   "metadata": {},
   "outputs": [
    {
     "ename": "SyntaxError",
     "evalue": "invalid syntax (api.py, line 96)",
     "output_type": "error",
     "traceback": [
      "Traceback \u001b[1;36m(most recent call last)\u001b[0m:\n",
      "  File \u001b[0;32m\"D:\\software\\Anaconda3\\envs\\py36\\lib\\site-packages\\IPython\\core\\interactiveshell.py\"\u001b[0m, line \u001b[0;32m3296\u001b[0m, in \u001b[0;35mrun_code\u001b[0m\n    exec(code_obj, self.user_global_ns, self.user_ns)\n",
      "  File \u001b[0;32m\"<ipython-input-3-1a4e7383ef8f>\"\u001b[0m, line \u001b[0;32m1\u001b[0m, in \u001b[0;35m<module>\u001b[0m\n    import refextract\n",
      "\u001b[1;36m  File \u001b[1;32m\"D:\\software\\Anaconda3\\envs\\py36\\lib\\site-packages\\refextract\\__init__.py\"\u001b[1;36m, line \u001b[1;32m28\u001b[1;36m, in \u001b[1;35m<module>\u001b[1;36m\u001b[0m\n\u001b[1;33m    from .references.api import (\u001b[0m\n",
      "\u001b[1;36m  File \u001b[1;32m\"D:\\software\\Anaconda3\\envs\\py36\\lib\\site-packages\\refextract\\references\\api.py\"\u001b[1;36m, line \u001b[1;32m96\u001b[0m\n\u001b[1;33m    raise FullTextNotAvailableError(u\"URL not found: '{0}'\".format(url)), None, sys.exc_info()[2]\u001b[0m\n\u001b[1;37m                                                                        ^\u001b[0m\n\u001b[1;31mSyntaxError\u001b[0m\u001b[1;31m:\u001b[0m invalid syntax\n"
     ]
    }
   ],
   "source": []
  },
  {
   "cell_type": "code",
   "execution_count": 5,
   "metadata": {},
   "outputs": [
    {
     "ename": "NameError",
     "evalue": "name 'extract_journal_reference_from_file' is not defined",
     "output_type": "error",
     "traceback": [
      "\u001b[1;31m---------------------------------------------------------------------------\u001b[0m",
      "\u001b[1;31mNameError\u001b[0m                                 Traceback (most recent call last)",
      "\u001b[1;32m<ipython-input-5-066105aee0e7>\u001b[0m in \u001b[0;36m<module>\u001b[1;34m()\u001b[0m\n\u001b[1;32m----> 1\u001b[1;33m reference = extract_journal_reference_from_file('''J. D. Ullman, The performance of a memory allocation\n\u001b[0m\u001b[0;32m      2\u001b[0m \u001b[0malgorithm\u001b[0m\u001b[1;33m,\u001b[0m \u001b[0mTechnical\u001b[0m \u001b[0mReport\u001b[0m \u001b[1;36m100\u001b[0m\u001b[1;33m,\u001b[0m \u001b[0mPrinceton\u001b[0m \u001b[0mUniv\u001b[0m\u001b[1;33m.\u001b[0m\u001b[1;33m,\u001b[0m\u001b[1;33m\u001b[0m\u001b[0m\n\u001b[0;32m      3\u001b[0m Princeton, NJ, 1971.''')\n",
      "\u001b[1;31mNameError\u001b[0m: name 'extract_journal_reference_from_file' is not defined"
     ]
    }
   ],
   "source": [
    "reference = extract_journal_reference_from_file('''J. D. Ullman, The performance of a memory allocation\n",
    "algorithm, Technical Report 100, Princeton Univ.,\n",
    "Princeton, NJ, 1971.''')"
   ]
  }
 ],
 "metadata": {
  "kernelspec": {
   "display_name": "py36",
   "language": "python",
   "name": "py36"
  },
  "language_info": {
   "codemirror_mode": {
    "name": "ipython",
    "version": 3
   },
   "file_extension": ".py",
   "mimetype": "text/x-python",
   "name": "python",
   "nbconvert_exporter": "python",
   "pygments_lexer": "ipython3",
   "version": "3.6.2"
  }
 },
 "nbformat": 4,
 "nbformat_minor": 2
}
