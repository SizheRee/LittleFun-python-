{
 "cells": [
  {
   "cell_type": "code",
   "execution_count": 9,
   "metadata": {
    "collapsed": true
   },
   "outputs": [],
   "source": [
    "import random\n",
    "from selenium import webdriver\n",
    "import time as tm\n",
    "from selenium.webdriver.common.by import By  \n",
    "from selenium.webdriver.support import expected_conditions as EC  \n",
    "from selenium.webdriver.support.wait import WebDriverWait\n",
    "import re"
   ]
  },
  {
   "cell_type": "markdown",
   "metadata": {},
   "source": [
    "## 打开页面login url"
   ]
  },
  {
   "cell_type": "code",
   "execution_count": 10,
   "metadata": {
    "collapsed": false
   },
   "outputs": [
    {
     "name": "stdout",
     "output_type": "stream",
     "text": [
      "打开页面\n",
      "打开页面成功\n"
     ]
    }
   ],
   "source": [
    "#基础登录链接\n",
    "loginUrl = r'https://ocw.mit.edu/courses/electrical-engineering-and-computer-science/6-041-probabilistic-systems-analysis-and-applied-probability-spring-2006/lecture-notes/'\n",
    "chromePath = r'D:\\software\\chromedriver_win32\\chromedriver.exe'\n",
    "\n",
    "# 设置可下载pdf\n",
    "options= webdriver.ChromeOptions()\n",
    "download_dir = r'D:\\GoogleDownloads'\n",
    "profile = {\"plugins.plugins_list\": [{\"enabled\": False, \"name\": \"Chrome PDF Viewer\"}],\n",
    "           \"download.default_directory\": download_dir}\n",
    "\n",
    "options.add_experimental_option(\"prefs\", profile)\n",
    "\n",
    "try:\n",
    "    browser = webdriver.Chrome(executable_path=chromePath, options=options)\n",
    "except: \n",
    "    pass\n",
    "\n",
    "browser.set_page_load_timeout(30)\n",
    "\n",
    "try:\n",
    "    print(\"打开页面\")\n",
    "    browser.get(loginUrl)\n",
    "except:\n",
    "    print(\"打开页面超时，请检查\")\n",
    "else:\n",
    "    print(\"打开页面成功\")"
   ]
  },
  {
   "cell_type": "markdown",
   "metadata": {},
   "source": [
    "## 选择到对应的资源"
   ]
  },
  {
   "cell_type": "markdown",
   "metadata": {},
   "source": [
    "### 方式1"
   ]
  },
  {
   "cell_type": "code",
   "execution_count": null,
   "metadata": {},
   "outputs": [],
   "source": [
    "table1 = browser.find_element_by_class_name(\"maintabletemplate\")"
   ]
  },
  {
   "cell_type": "code",
   "execution_count": null,
   "metadata": {},
   "outputs": [],
   "source": [
    "table = table1.find_element_by_tag_name(\"tbody\")"
   ]
  },
  {
   "cell_type": "code",
   "execution_count": null,
   "metadata": {},
   "outputs": [],
   "source": [
    "eles = table.find_elements_by_tag_name(\"a\")"
   ]
  },
  {
   "cell_type": "code",
   "execution_count": 156,
   "metadata": {},
   "outputs": [],
   "source": [
    "tarurl = []\n",
    "for i in eles:\n",
    "    tarurl.append(i.get_attribute(\"href\"))"
   ]
  },
  {
   "cell_type": "markdown",
   "metadata": {},
   "source": [
    "### 方式2 xpath"
   ]
  },
  {
   "cell_type": "code",
   "execution_count": null,
   "metadata": {},
   "outputs": [],
   "source": [
    "xpath = \"//div[@class='maintabletemplate']//a[@href]\""
   ]
  },
  {
   "cell_type": "code",
   "execution_count": null,
   "metadata": {},
   "outputs": [],
   "source": [
    "tarurl = []\n",
    "for i in table.find_elements_by_xpath(xpath):\n",
    "    tarurl.append(i.get_attribute(\"href\"))"
   ]
  },
  {
   "cell_type": "markdown",
   "metadata": {},
   "source": [
    "### 方式3 link text"
   ]
  },
  {
   "cell_type": "code",
   "execution_count": null,
   "metadata": {},
   "outputs": [],
   "source": [
    "tarurl = []\n",
    "for i in browser.find_elements_by_link_text(\"PDF\"):\n",
    "    tarurl.append(i.get_attribute(\"href\"))"
   ]
  },
  {
   "cell_type": "markdown",
   "metadata": {},
   "source": [
    "## 下载"
   ]
  },
  {
   "cell_type": "code",
   "execution_count": null,
   "metadata": {},
   "outputs": [],
   "source": [
    "filelist = os.listdir(download_dir)"
   ]
  },
  {
   "cell_type": "code",
   "execution_count": null,
   "metadata": {},
   "outputs": [],
   "source": [
    "for i in tarurl:\n",
    "    browser.get(i)\n",
    "    time.sleep(0.5)"
   ]
  }
 ],
 "metadata": {
  "kernelspec": {
   "display_name": "py35",
   "language": "python",
   "name": "py35"
  },
  "language_info": {
   "codemirror_mode": {
    "name": "ipython",
    "version": 3
   },
   "file_extension": ".py",
   "mimetype": "text/x-python",
   "name": "python",
   "nbconvert_exporter": "python",
   "pygments_lexer": "ipython3",
   "version": "3.5.4"
  }
 },
 "nbformat": 4,
 "nbformat_minor": 2
}
