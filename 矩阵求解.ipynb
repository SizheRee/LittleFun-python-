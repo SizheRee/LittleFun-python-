{
 "cells": [
  {
   "cell_type": "code",
   "execution_count": 6,
   "metadata": {},
   "outputs": [],
   "source": [
    "import numpy as np"
   ]
  },
  {
   "cell_type": "code",
   "execution_count": 18,
   "metadata": {},
   "outputs": [
    {
     "name": "stdout",
     "output_type": "stream",
     "text": [
      "[[ -0.45]\n",
      " [  4.72]\n",
      " [-11.25]]\n"
     ]
    }
   ],
   "source": [
    "A = np.matrix([[16, 4, 1],\n",
    "              [25, 5, 1],\n",
    "              [36, 6, 1]])\n",
    "z = np.matrix([0.43, 1.1, 0.87]).reshape(-1, 1)\n",
    "x = A.I * z\n",
    "print(x)"
   ]
  },
  {
   "cell_type": "code",
   "execution_count": 22,
   "metadata": {},
   "outputs": [],
   "source": [
    "from sympy import *"
   ]
  },
  {
   "cell_type": "code",
   "execution_count": 9,
   "metadata": {},
   "outputs": [],
   "source": [
    "a,b,c = symbols('a,b,c')"
   ]
  },
  {
   "cell_type": "code",
   "execution_count": 25,
   "metadata": {},
   "outputs": [
    {
     "data": {
      "text/latex": [
       "$\\displaystyle \\left[\\begin{matrix}16 a + 4 b + c\\\\25 a + 5 b + c\\\\36 a + 6 b + c\\end{matrix}\\right] = \\left[\\begin{matrix}0.43\\\\1.1\\\\0.87\\end{matrix}\\right]$"
      ],
      "text/plain": [
       "Eq(Matrix([\n",
       "[16*a + 4*b + c],\n",
       "[25*a + 5*b + c],\n",
       "[36*a + 6*b + c]]), Matrix([\n",
       "[0.43],\n",
       "[ 1.1],\n",
       "[0.87]]))"
      ]
     },
     "execution_count": 25,
     "metadata": {},
     "output_type": "execute_result"
    }
   ],
   "source": [
    "Eq(Matrix(A) * Matrix([a,b,c]), Matrix(z))"
   ]
  },
  {
   "cell_type": "code",
   "execution_count": 26,
   "metadata": {},
   "outputs": [
    {
     "data": {
      "text/plain": [
       "{a: -0.450000000000000, b: 4.72000000000000, c: -11.2500000000000}"
      ]
     },
     "execution_count": 26,
     "metadata": {},
     "output_type": "execute_result"
    }
   ],
   "source": [
    "solve(Eq(Matrix(A) * Matrix([a,b,c]), Matrix(z)), [a,b,c])"
   ]
  }
 ],
 "metadata": {
  "kernelspec": {
   "display_name": "py36",
   "language": "python",
   "name": "py36"
  },
  "language_info": {
   "codemirror_mode": {
    "name": "ipython",
    "version": 3
   },
   "file_extension": ".py",
   "mimetype": "text/x-python",
   "name": "python",
   "nbconvert_exporter": "python",
   "pygments_lexer": "ipython3",
   "version": "3.6.2"
  }
 },
 "nbformat": 4,
 "nbformat_minor": 2
}
