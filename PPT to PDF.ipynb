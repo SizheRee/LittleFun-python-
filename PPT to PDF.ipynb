{
 "cells": [
  {
   "cell_type": "code",
   "execution_count": 21,
   "metadata": {},
   "outputs": [],
   "source": [
    "import comtypes.client\n",
    "\n",
    "def PPTtoPDF(inputFileName, outputFileName, formatType = 32):\n",
    "    powerpoint = comtypes.client.CreateObject(\"Powerpoint.Application\")\n",
    "    powerpoint.Visible = 1\n",
    "\n",
    "    if outputFileName[-3:] != 'pdf':\n",
    "        outputFileName = outputFileName + \".pdf\"\n",
    "    deck = powerpoint.Presentations.Open(inputFileName)\n",
    "    deck.SaveAs(outputFileName, formatType) # formatType = 32 for ppt to pdf\n",
    "    deck.Close()\n",
    "    powerpoint.Quit()"
   ]
  },
  {
   "cell_type": "code",
   "execution_count": 22,
   "metadata": {},
   "outputs": [],
   "source": [
    "import os\n",
    "os.chdir(r\"D:\\Github\\functional program\\课件\")"
   ]
  },
  {
   "cell_type": "code",
   "execution_count": 36,
   "metadata": {},
   "outputs": [],
   "source": [
    "PPTtoPDF(r\"./Lecture 1-zr.ppt\", r\"./Lecture1.pdf\")"
   ]
  },
  {
   "cell_type": "code",
   "execution_count": 57,
   "metadata": {},
   "outputs": [],
   "source": [
    "for ppt in os.listdir():\n",
    "    pptname, ext = os.path.splitext(ppt)\n",
    "    if ext == '.ppt' and pptname[:2] != '~$':\n",
    "        pdf = pptname + \".pdf\"\n",
    "        if(not os.path.exists(pdf)):\n",
    "            PPTtoPDF(ppt, pdf)"
   ]
  }
 ],
 "metadata": {
  "kernelspec": {
   "display_name": "py35",
   "language": "python",
   "name": "py35"
  },
  "language_info": {
   "codemirror_mode": {
    "name": "ipython",
    "version": 3
   },
   "file_extension": ".py",
   "mimetype": "text/x-python",
   "name": "python",
   "nbconvert_exporter": "python",
   "pygments_lexer": "ipython3",
   "version": "3.5.4"
  }
 },
 "nbformat": 4,
 "nbformat_minor": 2
}
