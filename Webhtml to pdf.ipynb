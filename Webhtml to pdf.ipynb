{
 "cells": [
  {
   "cell_type": "code",
   "execution_count": 2,
   "metadata": {},
   "outputs": [
    {
     "data": {
      "text/plain": [
       "[]"
      ]
     },
     "execution_count": 2,
     "metadata": {},
     "output_type": "execute_result"
    }
   ],
   "source": [
    "# 设置wktmltopdf 环境变量\n",
    "%sx set PATH=%PATH%F:\\software\\wkhtmltopdf\\bin;"
   ]
  },
  {
   "cell_type": "code",
   "execution_count": 12,
   "metadata": {},
   "outputs": [
    {
     "name": "stdout",
     "output_type": "stream",
     "text": [
      "env: PATH=F:\\software\\wkhtmltopdf\\bin;\n"
     ]
    }
   ],
   "source": [
    "%set_env PATH=F:\\software\\wkhtmltopdf\\bin;"
   ]
  },
  {
   "cell_type": "code",
   "execution_count": 6,
   "metadata": {},
   "outputs": [],
   "source": [
    "import requests\n",
    "from bs4 import BeautifulSoup\n",
    "import pdfkit"
   ]
  },
  {
   "cell_type": "raw",
   "metadata": {},
   "source": [
    "def parse_url_to_html(url):\n",
    "    response = requests.get(url)\n",
    "    soup = BeautifulSoup(response.content, \"html5lib\")\n",
    "    body = soup.find_all(class_=\")[0]\n",
    "    html = str(body)\n",
    "    with open(\"a.html\", 'wb') as f:\n",
    "        f.write(html)"
   ]
  },
  {
   "cell_type": "code",
   "execution_count": null,
   "metadata": {},
   "outputs": [],
   "source": [
    "def get_url_list():\n",
    "    \"\"\"\n",
    "    获取所有URL目录列表\n",
    "    \"\"\"\n",
    "    response = requests.get(\"http://www.liaoxuefeng.com/wiki/0014316089557264a6b348958f449949df42a6d3a2e542c000\")\n",
    "    soup = BeautifulSoup(response.content, \"html5lib\")\n",
    "    menu_tag = soup.find_all(class_=\"uk-nav uk-nav-side\")[1]\n",
    "    urls = []\n",
    "    for li in menu_tag.find_all(\"li\"):\n",
    "        url = \"http://www.liaoxuefeng.com\" + li.a.get('href')\n",
    "        urls.append(url)\n",
    "    return urls"
   ]
  },
  {
   "cell_type": "code",
   "execution_count": 7,
   "metadata": {},
   "outputs": [],
   "source": [
    "def save_pdf(htmls):\n",
    "    \"\"\"\n",
    "    把所有html文件转换成pdf文件\n",
    "    \"\"\"\n",
    "    options = {\n",
    "        'page-size': 'Letter',\n",
    "        'encoding': \"UTF-8\",\n",
    "        'custom-header': [\n",
    "            ('Accept-Encoding', 'gzip')\n",
    "        ]\n",
    "    }\n",
    "    pdfkit.from_file(htmls, file_name, options=options)"
   ]
  },
  {
   "cell_type": "code",
   "execution_count": null,
   "metadata": {},
   "outputs": [],
   "source": [
    "response = requests.get(\"http://www.cs.cornell.edu/courses/cs4780/2018fa/lectures/lecturenote01_MLsetup.html\")"
   ]
  },
  {
   "cell_type": "code",
   "execution_count": null,
   "metadata": {},
   "outputs": [],
   "source": [
    "soup = BeautifulSoup(response.content, \"lxml\")"
   ]
  },
  {
   "cell_type": "code",
   "execution_count": null,
   "metadata": {},
   "outputs": [],
   "source": [
    "body = soup.body"
   ]
  },
  {
   "cell_type": "code",
   "execution_count": null,
   "metadata": {},
   "outputs": [],
   "source": [
    "body.center.replace_with(\"\")"
   ]
  },
  {
   "cell_type": "code",
   "execution_count": null,
   "metadata": {},
   "outputs": [],
   "source": [
    "import os\n",
    "os.chdir(\"D:\\李思哲\\Documents\\上课课件\\机器学习\")"
   ]
  },
  {
   "cell_type": "code",
   "execution_count": null,
   "metadata": {},
   "outputs": [],
   "source": [
    "html = str(body)\n",
    "with open(\"a.html\", 'w') as f:\n",
    "    f.write(html)"
   ]
  },
  {
   "cell_type": "code",
   "execution_count": null,
   "metadata": {},
   "outputs": [],
   "source": [
    "urls = []\n",
    "for i in body.find_all(\"h3\"):\n",
    "    urls.append(i.text)\n",
    "    with open(\"a.html\", 'w') as f:\n",
    "        f.write(str(i))"
   ]
  },
  {
   "cell_type": "code",
   "execution_count": 8,
   "metadata": {},
   "outputs": [],
   "source": [
    "options = {\n",
    "        'page-size': 'Letter',\n",
    "        'encoding': \"UTF-8\",\n",
    "        'custom-header': [\n",
    "            ('Accept-Encoding', 'gzip')\n",
    "        ]\n",
    "    }"
   ]
  },
  {
   "cell_type": "code",
   "execution_count": null,
   "metadata": {},
   "outputs": [],
   "source": [
    "pdfkit.from_file(\"a.html\", \"a.pdf\", options=options)"
   ]
  },
  {
   "cell_type": "code",
   "execution_count": 14,
   "metadata": {},
   "outputs": [
    {
     "name": "stdout",
     "output_type": "stream",
     "text": [
      "Loading pages (1/6)\n",
      "Counting pages (2/6)                                               \n",
      "Resolving links (4/6)                                                       \n",
      "Loading headers and footers (5/6)                                           \n",
      "Printing pages (6/6)\n",
      "Done                                                                      \n"
     ]
    },
    {
     "data": {
      "text/plain": [
       "True"
      ]
     },
     "execution_count": 14,
     "metadata": {},
     "output_type": "execute_result"
    }
   ],
   "source": [
    "pdfkit.from_file(\"D:/GoogleDownloads/MIT-微分方程笔记03 一阶线性常微分方程解法 - 知乎.html\", \"D:/GoogleDownloads/zhihu.pdf\", options=options)"
   ]
  },
  {
   "cell_type": "code",
   "execution_count": null,
   "metadata": {},
   "outputs": [],
   "source": []
  }
 ],
 "metadata": {
  "kernelspec": {
   "display_name": "py35",
   "language": "python",
   "name": "py35"
  },
  "language_info": {
   "codemirror_mode": {
    "name": "ipython",
    "version": 3
   },
   "file_extension": ".py",
   "mimetype": "text/x-python",
   "name": "python",
   "nbconvert_exporter": "python",
   "pygments_lexer": "ipython3",
   "version": "3.5.4"
  }
 },
 "nbformat": 4,
 "nbformat_minor": 2
}
