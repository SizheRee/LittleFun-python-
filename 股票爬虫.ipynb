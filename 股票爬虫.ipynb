{
 "cells": [
  {
   "cell_type": "code",
   "execution_count": 1,
   "metadata": {},
   "outputs": [],
   "source": [
    "import random\n",
    "from selenium import webdriver\n",
    "import time as tm\n",
    "from selenium.webdriver.common.by import By  \n",
    "from selenium.webdriver.support import expected_conditions as EC  \n",
    "from selenium.webdriver.support.wait import WebDriverWait\n",
    "import re"
   ]
  },
  {
   "cell_type": "code",
   "execution_count": 6,
   "metadata": {},
   "outputs": [
    {
     "name": "stdout",
     "output_type": "stream",
     "text": [
      "打开页面\n",
      "打开页面成功\n"
     ]
    }
   ],
   "source": [
    "#基础登录链接\n",
    "loginUrl = r'http://robinhood.com'\n",
    "chromePath = r'D:\\software\\chromedriver_win32\\chromedriver.exe'\n",
    "\n",
    "# 设置可下载pdf\n",
    "options= webdriver.ChromeOptions()\n",
    "# download_dir = r'D:\\GoogleDownloads'\n",
    "# profile = {\"plugins.plugins_list\": [{\"enabled\": False, \"name\": \"Chrome PDF Viewer\"}],\n",
    "#            \"download.default_directory\": download_dir}\n",
    "\n",
    "# options.add_experimental_option(\"prefs\", profile)\n",
    "\n",
    "try:\n",
    "    browser = webdriver.Chrome(executable_path=chromePath, options=options)\n",
    "except Exception as e:\n",
    "    print(e)\n",
    "    pass\n",
    "\n",
    "browser.set_page_load_timeout(30)\n",
    "\n",
    "try:\n",
    "    print(\"打开页面\")\n",
    "    browser.get(loginUrl)\n",
    "except:\n",
    "    print(\"打开页面超时，请检查\")\n",
    "else:\n",
    "    print(\"打开页面成功\")"
   ]
  },
  {
   "cell_type": "code",
   "execution_count": null,
   "metadata": {},
   "outputs": [],
   "source": []
  }
 ],
 "metadata": {
  "kernelspec": {
   "display_name": "py35",
   "language": "python",
   "name": "py35"
  },
  "language_info": {
   "codemirror_mode": {
    "name": "ipython",
    "version": 3
   },
   "file_extension": ".py",
   "mimetype": "text/x-python",
   "name": "python",
   "nbconvert_exporter": "python",
   "pygments_lexer": "ipython3",
   "version": "3.5.4"
  }
 },
 "nbformat": 4,
 "nbformat_minor": 2
}
