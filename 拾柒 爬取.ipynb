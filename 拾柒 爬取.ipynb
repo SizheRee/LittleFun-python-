{
 "cells": [
  {
   "cell_type": "code",
   "execution_count": 3,
   "metadata": {},
   "outputs": [
    {
     "name": "stdout",
     "output_type": "stream",
     "text": [
      "env: PATH=F:\\software\\wkhtmltopdf\\bin;\n"
     ]
    }
   ],
   "source": [
    "# 设置wktmltopdf 环境变量\n",
    "%set_env PATH=F:\\software\\wkhtmltopdf\\bin;"
   ]
  },
  {
   "cell_type": "code",
   "execution_count": 4,
   "metadata": {},
   "outputs": [],
   "source": [
    "import random\n",
    "from selenium import webdriver\n",
    "import time as tm\n",
    "from selenium.webdriver.common.by import By  \n",
    "from selenium.webdriver.support import expected_conditions as EC  \n",
    "from selenium.webdriver.support.wait import WebDriverWait\n",
    "import re\n",
    "import requests\n",
    "from bs4 import BeautifulSoup\n",
    "import pdfkit\n",
    "import os\n",
    "import json"
   ]
  },
  {
   "cell_type": "markdown",
   "metadata": {},
   "source": [
    "## 登录"
   ]
  },
  {
   "cell_type": "code",
   "execution_count": null,
   "metadata": {},
   "outputs": [],
   "source": [
    "#基础登录链接\n",
    "loginUrl = r'https://www.shiqichuban.com/simple/app/#/ebook/edit/25735551'\n",
    "chromePath = r'D:\\software\\chromedriver_win32\\chromedriver.exe'\n",
    "\n",
    "chrome_options = webdriver.ChromeOptions()\n",
    "settings = {\n",
    "    \"appState\": {\n",
    "        \"recentDestinations\": [{\n",
    "            \"id\": \"Save as PDF\",\n",
    "            \"origin\": \"local\",\n",
    "            \"account\": \"\",\n",
    "        }],\n",
    "        \"selectedDestinationId\": \"Save as PDF\",\n",
    "        \"version\": 2\n",
    "    }\n",
    "}\n",
    "prefs = {'printing.print_preview_sticky_settings': json.dumps(settings)}\n",
    "chrome_options.add_experimental_option('prefs', prefs)\n",
    "chrome_options.add_argument('--kiosk-printing')\n",
    "# chrome_options.add_argument(\"user-data-dir=selenium\") \n",
    "\n",
    "try:\n",
    "    browser = webdriver.Chrome(executable_path=chromePath, options=chrome_options)\n",
    "except: \n",
    "    pass\n",
    "\n",
    "browser.set_page_load_timeout(30)\n",
    "\n",
    "try:\n",
    "    print(\"打开页面\")\n",
    "    browser.get(loginUrl)\n",
    "    for cookie in oldcookies:\n",
    "        browser.add_cookie(cookie)\n",
    "except Exception as e:\n",
    "    print(e)\n",
    "    print(\"打开页面超时，请检查\")\n",
    "else:\n",
    "    print(\"打开页面成功\")"
   ]
  },
  {
   "cell_type": "code",
   "execution_count": null,
   "metadata": {},
   "outputs": [],
   "source": [
    "#自动登录\n",
    "if browser.current_url == 'https://www.shiqichuban.com/simple/app/#/user/login':\n",
    "#     browser.find_element_by_id('mobile').click()\n",
    "    browser.find_element_by_id('mobile').send_keys('15827350309')\n",
    "    browser.find_element_by_id('password').send_keys('acm1601byjnc')\n",
    "    browser.find_element_by_xpath(\"//button[@type='submit']\").click()\n",
    "oldcookies = browser.get_cookies()    "
   ]
  },
  {
   "cell_type": "code",
   "execution_count": null,
   "metadata": {},
   "outputs": [],
   "source": [
    "browser.find_element_by_xpath(\"//div[@class='listContent']/img\").click()"
   ]
  },
  {
   "cell_type": "markdown",
   "metadata": {},
   "source": [
    "### 使javascript触发点击hook"
   ]
  },
  {
   "cell_type": "code",
   "execution_count": null,
   "metadata": {},
   "outputs": [],
   "source": [
    "import time\n",
    "os.chdir(\"D:/workspace/TEMP/bys\")\n",
    "nextbtn = browser.find_element_by_xpath(\"//img[@src='data:image/svg+xml;base64,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']\")\n",
    "\n",
    "tocnum=0\n",
    "while True:\n",
    "    p = browser.find_element_by_class_name('ant-tooltip-inner').text\n",
    "    filename = \"%s.html\"%p\n",
    "    if p == '目录':\n",
    "        tocnum+=1\n",
    "        filename = '目录%s.html'%tocnum\n",
    "    bso = BeautifulSoup(browser.page_source)\n",
    "    tardiv = bso.find('div', {'class':'sj-book-new animated'})\n",
    "    tarhtml = tardiv.encode()\n",
    "    with open(filename, 'wb') as fp:\n",
    "        text = b'<meta http-equiv=\"content-type\" content=\"text/html;charset=utf-8\">'  + tarhtml\n",
    "        import re\n",
    "        text = re.subn(b'transform', b'-webkit-transform', text)[0]\n",
    "        fp.write(text)\n",
    "#     print(text)\n",
    "    print(filename)\n",
    "    browser.execute_script(\"arguments[0].click();\", nextbtn)\n",
    "    if p == '封底':\n",
    "        break\n",
    "    time.sleep(1)"
   ]
  },
  {
   "cell_type": "code",
   "execution_count": null,
   "metadata": {},
   "outputs": [],
   "source": [
    "options = {\n",
    "    'page-height': '6.65in',\n",
    "    'page-width': '9in',\n",
    "    'margin-top': '0in',\n",
    "    'margin-right': '0in',\n",
    "    'margin-bottom': '0in',\n",
    "    'margin-left': '0in',\n",
    "    'encoding': \"UTF-8\",\n",
    "    'custom-header' : [\n",
    "        ('Accept-Encoding', 'gzip')\n",
    "    ]\n",
    "}\n",
    "cssfiles = [\n",
    "    '5.1.0_p__Ebook__Web.ad815ead.chunk.css',\n",
    "    '5.1.0_umi.12a82b48.css',\n",
    "    '5.1.0_vendors.78f616df.chunk.css'\n",
    "]"
   ]
  },
  {
   "cell_type": "code",
   "execution_count": null,
   "metadata": {},
   "outputs": [],
   "source": [
    "import re\n",
    "numfile = []\n",
    "for file in os.listdir():\n",
    "    if re.match('\\d+.html', file):\n",
    "        numfile.append(file)\n",
    "files = ['作者页.html', '序言.html', '目录1.html', '目录2.html']\n",
    "files.extend(sorted(numfile, key=lambda x: int(os.path.splitext(x)[0])))\n",
    "files.insert(files.index('97.html'), \"篇章页.html\")\n",
    "files.append(\"封底.html\")"
   ]
  },
  {
   "cell_type": "code",
   "execution_count": null,
   "metadata": {},
   "outputs": [],
   "source": [
    "pdfkit.from_file(files, 'F:/software/phantomjs-2.1.1-windows/bin/test.pdf', options=options, cover='cover.html')"
   ]
  },
  {
   "cell_type": "code",
   "execution_count": null,
   "metadata": {},
   "outputs": [],
   "source": [
    "options = {\n",
    "    'page-height': '6.65in',\n",
    "    'page-width': '9in',\n",
    "    'margin-top': '0in',\n",
    "    'margin-right': '0in',\n",
    "    'margin-bottom': '0in',\n",
    "    'margin-left': '0in',\n",
    "    'encoding': \"UTF-8\",\n",
    "    'custom-header' : [\n",
    "        ('Accept-Encoding', 'gzip')\n",
    "    ]\n",
    "}"
   ]
  },
  {
   "cell_type": "code",
   "execution_count": null,
   "metadata": {},
   "outputs": [],
   "source": [
    "pdfkit.from_file(['3.html', '5.html','7.html'], 'F:/software/phantomjs-2.1.1-windows/bin/357.pdf', options=options, cover='cover.html')"
   ]
  },
  {
   "cell_type": "markdown",
   "metadata": {},
   "source": [
    "## 单页版"
   ]
  },
  {
   "cell_type": "code",
   "execution_count": null,
   "metadata": {},
   "outputs": [],
   "source": [
    "#测试\n",
    "browser.find_elements_by_class_name(\"page-wrapper\")\n",
    "\n",
    "os.chdir(\"D:/workspace/TEMP/bys_single/\")\n",
    "\n",
    "bso = BeautifulSoup(browser.page_source)\n",
    "\n",
    "leftp,rightp = bso.find_all(\"div\", {\"class\":\"page-wrapper\"})\n",
    "\n",
    "with open('1.html', 'wb') as fp:\n",
    "    text = b'<meta http-equiv=\"content-type\" content=\"text/html;charset=utf-8\">'  + leftp.encode()\n",
    "    import re\n",
    "    text = re.subn(b'transform', b'-webkit-transform', text)[0]\n",
    "    fp.write(text)\n",
    "#     print(text)\n",
    "\n",
    "with open('2.html', 'wb') as fp:\n",
    "    text = b'<meta http-equiv=\"content-type\" content=\"text/html;charset=utf-8\">'  + rightp.encode()\n",
    "    import re\n",
    "    text = re.subn(b'transform', b'-webkit-transform', text)[0]\n",
    "    fp.write(text)\n",
    "#     print(text)"
   ]
  },
  {
   "cell_type": "code",
   "execution_count": null,
   "metadata": {},
   "outputs": [],
   "source": [
    "pdfkit.from_file(['1.html', '2.html'], 'F:/software/phantomjs-2.1.1-windows/bin/12.pdf', options=options, cover='cover.html')"
   ]
  },
  {
   "cell_type": "markdown",
   "metadata": {},
   "source": [
    "### 爬取一册书"
   ]
  },
  {
   "cell_type": "code",
   "execution_count": null,
   "metadata": {},
   "outputs": [],
   "source": [
    "# 库事件监听\n",
    "from selenium import webdriver\n",
    "from selenium.webdriver.common.by import By\n",
    "from selenium.webdriver.support.ui import WebDriverWait\n",
    "from selenium.webdriver.support import expected_conditions as EC"
   ]
  },
  {
   "cell_type": "code",
   "execution_count": null,
   "metadata": {},
   "outputs": [],
   "source": [
    "files = []\n",
    "import time\n",
    "os.chdir(\"D:/workspace/TEMP/bys_single/\")\n",
    "nextbtn = browser.find_element_by_xpath(\"//img[@src='data:image/svg+xml;base64,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']\")\n",
    "\n",
    "tocnum=0\n",
    "pznum=0\n",
    "pagecount = 2\n",
    "while True:\n",
    "    p = browser.find_element_by_class_name('ant-tooltip-inner').text\n",
    "    filenamebase = \"%s\"%p\n",
    "    if p == '目录':\n",
    "        tocnum+=1\n",
    "        filenamebase = '目录%s'%tocnum\n",
    "        \n",
    "    if p == '篇章页':\n",
    "        pznum+=1\n",
    "        filenamebase = '篇章页%s'%pznum\n",
    "    \n",
    "    #等待内容加载\n",
    "    presence1 = EC.presence_of_all_elements_located((By.XPATH, \"//div[@class='page-wrapper' and @page='%s']\"%(pagecount)))\n",
    "    presence2 = EC.presence_of_all_elements_located((By.XPATH, \"//div[@class='page-wrapper' and @page='%s']\"%(pagecount+1)))\n",
    "    try:\n",
    "        element = WebDriverWait(browser, 10).until(presence1)\n",
    "        element = WebDriverWait(browser, 10).until(presence2)\n",
    "    finally:\n",
    "        print('get', p)\n",
    "    \n",
    "    #等待HTML稳定\n",
    "    time.sleep(2.5)\n",
    "    \n",
    "    #提取出左右两页\n",
    "    bso = BeautifulSoup(browser.page_source)\n",
    "    leftp = bso.find(\"div\", {\"class\":\"page-wrapper\", 'page':'%s'%pagecount})\n",
    "    rightp = bso.find(\"div\", {\"class\":\"page-wrapper\", 'page':'%s'%(pagecount+1)})\n",
    "    \n",
    "    filename = filenamebase+'-1.html'\n",
    "    files.append(filename)\n",
    "    with open(filename, 'wb') as fp:\n",
    "        text = b'<meta http-equiv=\"content-type\" content=\"text/html;charset=utf-8\">'  + leftp.encode()\n",
    "        import re\n",
    "        # webkit旋转文字渲染\n",
    "        text = re.subn(b'transform', b'-webkit-transform', text)[0]\n",
    "        fp.write(text)\n",
    "#     print(text)\n",
    "    print(filename)\n",
    "    \n",
    "    filename = filenamebase+'-2.html'\n",
    "    files.append(filename)\n",
    "    with open(filename, 'wb') as fp:\n",
    "        text = b'<meta http-equiv=\"content-type\" content=\"text/html;charset=utf-8\">'  + rightp.encode()\n",
    "        import re\n",
    "        # webkit旋转文字渲染\n",
    "        text = re.subn(b'transform', b'-webkit-transform', text)[0]\n",
    "        fp.write(text)\n",
    "#     print(text)\n",
    "    \n",
    "    print(filename)\n",
    "    browser.execute_script(\"arguments[0].click();\", nextbtn)\n",
    "    if p == '封底':\n",
    "        \n",
    "        break\n",
    "    pagecount+=2\n",
    "    "
   ]
  },
  {
   "cell_type": "markdown",
   "metadata": {},
   "source": [
    "## 合成pdf"
   ]
  },
  {
   "cell_type": "markdown",
   "metadata": {},
   "source": [
    "### 合成前处理"
   ]
  },
  {
   "cell_type": "code",
   "execution_count": null,
   "metadata": {},
   "outputs": [],
   "source": [
    "#合成前处理\n",
    "if '作者页-1.html' in files:\n",
    "    files.remove('作者页-1.html')\n",
    "    \n",
    "if '作者页-2.html' in files:\n",
    "    files.remove('作者页-2.html')\n",
    "\n",
    "if '序言-1.html' in files:\n",
    "    files.remove('序言-1.html')\n",
    "    \n",
    "if '封底-1.html' in files:\n",
    "    files.remove('封底-1.html')\n",
    "    \n",
    "if '封底-2.html' in files:\n",
    "    files.remove('封底-2.html')"
   ]
  },
  {
   "cell_type": "code",
   "execution_count": 5,
   "metadata": {},
   "outputs": [],
   "source": [
    "import pickle\n",
    "os.chdir(\"D:/workspace/TEMP/bys_single/\")\n",
    "# with open(\"file\", 'wb') as fp:\n",
    "#     pickle.dump(files, fp)\n",
    "with open(\"file\", 'rb') as fp:\n",
    "    files = pickle.load(fp)"
   ]
  },
  {
   "cell_type": "code",
   "execution_count": 6,
   "metadata": {},
   "outputs": [],
   "source": [
    "# src 替换为img-src\n",
    "import requests\n",
    "from bs4 import BeautifulSoup\n",
    "\n",
    "for file in files:\n",
    "    with open(file, 'rb') as fp:\n",
    "        bso = BeautifulSoup(fp.read().decode())\n",
    "        for div in bso.find_all('div', {'class':'ubook_img'}):\n",
    "            div.img['src'] = div.img['img-src']\n",
    "            \n",
    "    with open(file, 'wb') as fp:\n",
    "        fp.write(bso.encode())"
   ]
  },
  {
   "cell_type": "code",
   "execution_count": null,
   "metadata": {},
   "outputs": [],
   "source": [
    "# 封底处理\n",
    "thend = files[-1]\n",
    "with open(thend, 'rb') as fp:\n",
    "    bso = BeautifulSoup(fp.read().decode())\n",
    "    header_bg = bso.find('img',{'class':'page_header_bg'})\n",
    "    page_footer_title = bso.find('div', {'class':'page_footer_title'})\n",
    "    if header_bg:\n",
    "        header_bg.decompose()\n",
    "    if page_footer_title:\n",
    "        page_footer_title.decompose()\n",
    "with open(thend, 'wb') as fp:\n",
    "        fp.write(bso.encode()) "
   ]
  },
  {
   "cell_type": "markdown",
   "metadata": {},
   "source": [
    "### 合成"
   ]
  },
  {
   "cell_type": "code",
   "execution_count": 32,
   "metadata": {},
   "outputs": [
    {
     "name": "stdout",
     "output_type": "stream",
     "text": [
      "Loading pages (1/6)\n",
      "Counting pages (2/6)                                               \n",
      "Resolving links (4/6)                                                           \n",
      "Loading headers and footers (5/6)                                               \n",
      "Printing pages (6/6)\n",
      "Done                                                                          \n"
     ]
    },
    {
     "data": {
      "text/plain": [
       "True"
      ]
     },
     "execution_count": 32,
     "metadata": {},
     "output_type": "execute_result"
    }
   ],
   "source": [
    "options = {\n",
    "#     'page-width': '530px',\n",
    "#     'page-width': '9in',\n",
    "    'page-size':'A5',\n",
    "    'margin-top': '0in',\n",
    "    'margin-right': '0in',\n",
    "    'margin-bottom': '0in',\n",
    "    'margin-left': '0in',\n",
    "    'encoding': \"UTF-8\",\n",
    "    'zoom':'1.242',\n",
    "#     'dpi': '300',\n",
    "#     'image-dpi' : '1200',\n",
    "#     'image-quality': '600',\n",
    "#     'disable-smart-shrinking': None,\n",
    "#     'log-level':'info',\n",
    "    'custom-header' : [\n",
    "        ('Accept-Encoding', 'gzip')\n",
    "    ]\n",
    "}\n",
    "pdfkit.from_file(files, 'F:/software/phantomjs-2.1.1-windows/bin/bys_single.pdf', options=options, cover='cover.html')\n",
    "# pdfkit.from_file(['篇章页1-2.html', '25-1.html', '111-1.html', '151-1.html'], 'F:/software/phantomjs-2.1.1-windows/bin/12.pdf', options=options, cover='cover.html')"
   ]
  },
  {
   "cell_type": "markdown",
   "metadata": {},
   "source": [
    "### 手动重新加载"
   ]
  },
  {
   "cell_type": "code",
   "execution_count": null,
   "metadata": {},
   "outputs": [],
   "source": [
    "#保存封面\n",
    "bso = BeautifulSoup(browser.page_source)\n",
    "cov = bso.find(\"div\", {\"class\":\"page-wrapper\"})\n",
    "with open('cover.html', 'wb') as fp:\n",
    "    text = b'<meta http-equiv=\"content-type\" content=\"text/html;charset=utf-8\">'  + cov.encode()\n",
    "    import re\n",
    "    text = re.subn(b'transform', b'-webkit-transform', text)[0]\n",
    "    fp.write(text)"
   ]
  },
  {
   "cell_type": "code",
   "execution_count": null,
   "metadata": {},
   "outputs": [],
   "source": [
    "#手动重载目标页\n",
    "p = browser.find_element_by_class_name('ant-tooltip-inner').text\n",
    "filenamebase = \"%s\"%p\n",
    "if p == '目录':\n",
    "    tocnum+=1\n",
    "    filenamebase = '目录%s'%tocnum\n",
    "\n",
    "if p == '篇章页':\n",
    "    pznum=1\n",
    "    filenamebase = '篇章页%s'%pznum\n",
    "\n",
    "bso = BeautifulSoup(browser.page_source)\n",
    "leftp,rightp = bso.find_all(\"div\", {\"class\":\"page-wrapper\"})\n",
    "\n",
    "filename = filenamebase+'-1.html'\n",
    "with open(filename, 'wb') as fp:\n",
    "    text = b'<meta http-equiv=\"content-type\" content=\"text/html;charset=utf-8\">'  + leftp.encode()\n",
    "    import re\n",
    "    text = re.subn(b'transform', b'-webkit-transform', text)[0]\n",
    "    fp.write(text)\n",
    "print(filename)\n",
    "\n",
    "filename = filenamebase+'-2.html'\n",
    "with open(filename, 'wb') as fp:\n",
    "    text = b'<meta http-equiv=\"content-type\" content=\"text/html;charset=utf-8\">'  + rightp.encode()\n",
    "    import re\n",
    "    text = re.subn(b'transform', b'-webkit-transform', text)[0]\n",
    "    fp.write(text)\n",
    "\n",
    "print(filename)"
   ]
  },
  {
   "cell_type": "markdown",
   "metadata": {},
   "source": [
    "### 添加目录"
   ]
  },
  {
   "cell_type": "code",
   "execution_count": 33,
   "metadata": {},
   "outputs": [],
   "source": [
    "import fitz"
   ]
  },
  {
   "cell_type": "code",
   "execution_count": 34,
   "metadata": {},
   "outputs": [],
   "source": [
    "doc = fitz.open('F:/software/phantomjs-2.1.1-windows/bin/bys_single.pdf')\n",
    "toc = doc.getToC()"
   ]
  },
  {
   "cell_type": "code",
   "execution_count": 35,
   "metadata": {},
   "outputs": [],
   "source": [
    "table = ''\n",
    "for file in ['目录1-2.html', '目录2-1.html','目录2-2.html']:\n",
    "    with open(file, 'r', encoding='utf-8') as fp:\n",
    "        table += BeautifulSoup(fp.read()).text"
   ]
  },
  {
   "cell_type": "code",
   "execution_count": 36,
   "metadata": {},
   "outputs": [],
   "source": [
    "table = table.replace('\\u2002', '').strip()"
   ]
  },
  {
   "cell_type": "code",
   "execution_count": 37,
   "metadata": {},
   "outputs": [],
   "source": [
    "tables = table.split('\\n')"
   ]
  },
  {
   "cell_type": "code",
   "execution_count": 38,
   "metadata": {},
   "outputs": [],
   "source": [
    "toc = [[1, '序言', 2]]\n",
    "shift = 7\n",
    "for item in tables:\n",
    "    import re\n",
    "    pgnum, pgentry = re.split(r'//', item)\n",
    "    pgnum = pgnum.strip()\n",
    "    pgentry = pgentry.strip()\n",
    "    if re.match(r'.*第.章.*', item):\n",
    "        toc.append([1, pgentry, int(pgnum)+shift])\n",
    "    else:\n",
    "        toc.append([2, pgentry, int(pgnum)+shift])"
   ]
  },
  {
   "cell_type": "code",
   "execution_count": 39,
   "metadata": {},
   "outputs": [
    {
     "data": {
      "text/plain": [
       "[[1, '序言', 2],\n",
       " [1, '【第一章】班级大事件', 8],\n",
       " [2, 'ACM1601介绍', 9],\n",
       " [2, '第一次轰趴', 11],\n",
       " [2, '是万圣节呀', 13],\n",
       " [2, '与大牛面对面', 16],\n",
       " [2, '武大赏樱', 18],\n",
       " [2, '与Calvin一家', 20],\n",
       " [2, '三届ACM班大聚会', 24],\n",
       " [2, '又是万圣节呀', 27],\n",
       " [2, '最后一次聚会', 30],\n",
       " [1, '【第二章】我的故事', 31],\n",
       " [2, '文宇鸿', 32],\n",
       " [2, '千山万水，只为你而来--郑铭薇', 34],\n",
       " [2, '江易星', 40],\n",
       " [2, '江易星II', 45],\n",
       " [2, '刘思婷', 49],\n",
       " [2, '单海康', 53],\n",
       " [2, '饶耕宇', 54],\n",
       " [2, '再见，ACM1601——解达', 55],\n",
       " [2, '谢谢你们，夜空中的星——蔡心远', 57],\n",
       " [2, '张铭轩', 61],\n",
       " [2, '梁硕', 66],\n",
       " [2, '刘东澔', 68],\n",
       " [2, '张月涵', 70],\n",
       " [2, '陈学海', 72],\n",
       " [2, '宁嘉', 75],\n",
       " [2, '曾康', 77],\n",
       " [2, '李思哲和猫猫们', 79],\n",
       " [2, '苏墨馨', 82],\n",
       " [2, '闵鑫豪', 84],\n",
       " [2, '彭承江蓉', 85],\n",
       " [2, '黄佳汇', 86],\n",
       " [2, '刘聪雨', 89],\n",
       " [2, '罗方远', 93],\n",
       " [2, '渣渣辉', 95],\n",
       " [2, '郑汉清', 97],\n",
       " [2, '杨子灿', 99],\n",
       " [2, '刘国栋', 102],\n",
       " [2, '王超', 104],\n",
       " [2, '打油诗——纪四年（廖杰）', 106],\n",
       " [2, '余颖雪', 108],\n",
       " [2, '朱博抡', 112],\n",
       " [2, '孙卓正', 115],\n",
       " [1, '【第三章】各大合集', 117],\n",
       " [2, '华科景色', 118],\n",
       " [2, '武汉美食合集', 121],\n",
       " [2, '武汉美食合集之网红店打卡', 126],\n",
       " [2, '武汉美食合集（食辣者的狂欢）', 129],\n",
       " [2, '食堂美食合集', 135],\n",
       " [2, '会议合集', 138],\n",
       " [2, '那些年，我们一起撸过的猫咪', 140],\n",
       " [2, '旅行合集之战长沙', 142],\n",
       " [2, '旅行合集之长沙跨年', 146],\n",
       " [2, '旅行合集之南京篇', 150],\n",
       " [2, '那些可爱的老师们', 153],\n",
       " [1, '【第四章】毕业寄语', 157],\n",
       " [2, '毕业了，你最想说的话', 158]]"
      ]
     },
     "execution_count": 39,
     "metadata": {},
     "output_type": "execute_result"
    }
   ],
   "source": [
    "toc"
   ]
  },
  {
   "cell_type": "code",
   "execution_count": 40,
   "metadata": {},
   "outputs": [
    {
     "data": {
      "text/plain": [
       "58"
      ]
     },
     "execution_count": 40,
     "metadata": {},
     "output_type": "execute_result"
    }
   ],
   "source": [
    "doc.setToC(toc)"
   ]
  },
  {
   "cell_type": "code",
   "execution_count": 41,
   "metadata": {},
   "outputs": [],
   "source": [
    "doc.save('F:/software/phantomjs-2.1.1-windows/bin/bys_single_withtoc.pdf')"
   ]
  },
  {
   "cell_type": "code",
   "execution_count": null,
   "metadata": {},
   "outputs": [],
   "source": []
  },
  {
   "cell_type": "code",
   "execution_count": null,
   "metadata": {},
   "outputs": [],
   "source": []
  }
 ],
 "metadata": {
  "kernelspec": {
   "display_name": "py35",
   "language": "python",
   "name": "py35"
  },
  "language_info": {
   "codemirror_mode": {
    "name": "ipython",
    "version": 3
   },
   "file_extension": ".py",
   "mimetype": "text/x-python",
   "name": "python",
   "nbconvert_exporter": "python",
   "pygments_lexer": "ipython3",
   "version": "3.5.4"
  }
 },
 "nbformat": 4,
 "nbformat_minor": 2
}
